{
 "cells": [
  {
   "cell_type": "code",
   "execution_count": 1,
   "id": "initial_id",
   "metadata": {
    "ExecuteTime": {
     "end_time": "2024-05-06T19:57:22.488749Z",
     "start_time": "2024-05-06T19:57:22.462501Z"
    },
    "collapsed": true
   },
   "outputs": [],
   "source": [
    "import pandas as pd\n",
    "import pickle"
   ]
  },
  {
   "cell_type": "code",
   "execution_count": 2,
   "id": "660835fea898d56e",
   "metadata": {
    "ExecuteTime": {
     "end_time": "2024-05-06T19:57:22.524993Z",
     "start_time": "2024-05-06T19:57:22.492850Z"
    }
   },
   "outputs": [
    {
     "name": "stdout",
     "output_type": "stream",
     "text": [
      "Index(['host_id', 'host_response_time', 'host_response_rate',\n",
      "       'host_acceptance_rate', 'host_is_superhost', 'neighbourhood_cleansed',\n",
      "       'room_type', 'accommodates', 'bathrooms', 'bedrooms', 'price',\n",
      "       'minimum_nights', 'maximum_nights', 'instant_bookable',\n",
      "       'reviews_per_month', 'amenities_count', 'count_verifications',\n",
      "       'seasonal_availability', 'season', 'min_rating', 'max_rating',\n",
      "       'distance_from_city_centre'],\n",
      "      dtype='object')\n"
     ]
    }
   ],
   "source": [
    "pickle_path = \"../data/processed/final_data.pck\"\n",
    "\n",
    "# Load the pickle file\n",
    "with open(pickle_path, 'rb') as f:\n",
    "    data = pickle.load(f)\n",
    "\n",
    "print(data.columns)\n",
    "\n",
    "categorical_features = ['host_response_time', 'neighbourhood_cleansed', 'room_type', 'season']"
   ]
  },
  {
   "cell_type": "markdown",
   "id": "c33cb020",
   "metadata": {},
   "source": [
    "## Linear regression"
   ]
  },
  {
   "cell_type": "code",
   "execution_count": 26,
   "id": "f3cad0d3695814cd",
   "metadata": {
    "ExecuteTime": {
     "end_time": "2024-05-06T19:57:22.806938Z",
     "start_time": "2024-05-06T19:57:22.525867Z"
    }
   },
   "outputs": [
    {
     "name": "stdout",
     "output_type": "stream",
     "text": [
      "R2: 0.03\n"
     ]
    }
   ],
   "source": [
    "# Linear Regression\n",
    "\n",
    "from sklearn.linear_model import LinearRegression\n",
    "from sklearn.model_selection import train_test_split\n",
    "from sklearn.metrics import r2_score\n",
    "from sklearn.impute import SimpleImputer\n",
    "\n",
    "# Dummy encode categorical columns\n",
    "\n",
    "dummy_df = pd.get_dummies(data, columns=categorical_features)\n",
    "\n",
    "# Split features (X) and target variable (y)\n",
    "X = dummy_df.drop('price', axis=1)  # Features\n",
    "y = dummy_df['price']  # Target variable\n",
    "\n",
    "# Impute missing values in X\n",
    "imputer = SimpleImputer(strategy='median')\n",
    "X_imputed = imputer.fit_transform(X)\n",
    "\n",
    "# Split the data into training and testing sets\n",
    "X_train, X_test, y_train, y_test = train_test_split(X_imputed, y, test_size=0.2, random_state=1114)\n",
    "\n",
    "# Initialize and fit linear regression model\n",
    "linear_regressor = LinearRegression()\n",
    "linear_regressor.fit(X_train, y_train)\n",
    "\n",
    "# Predict on the testing set\n",
    "y_pred_linear = linear_regressor.predict(X_test)\n",
    "\n",
    "# Calculate R-squared score\n",
    "r2_linear = r2_score(y_test, y_pred_linear)\n",
    "print(\"R2: {:.2f}\".format(r2_linear))\n"
   ]
  },
  {
   "cell_type": "markdown",
   "id": "9100d3d3",
   "metadata": {},
   "source": [
    "## Catboost"
   ]
  },
  {
   "cell_type": "code",
   "execution_count": 27,
   "id": "fb1536e77fa9b2",
   "metadata": {
    "ExecuteTime": {
     "end_time": "2024-05-06T19:57:25.035304Z",
     "start_time": "2024-05-06T19:57:22.809674Z"
    }
   },
   "outputs": [
    {
     "name": "stdout",
     "output_type": "stream",
     "text": [
      "R2 (CatBoost): 0.28\n",
      "RMSE (CatBoost): 32022.46\n"
     ]
    }
   ],
   "source": [
    "# Catboost 1 - all selected features\n",
    "\n",
    "from catboost import CatBoostRegressor\n",
    "from sklearn.metrics import mean_squared_error\n",
    "import numpy as np\n",
    "\n",
    "X = data.drop('price', axis=1) \n",
    "y = data['price']\n",
    "\n",
    "catboost_regressor = CatBoostRegressor(iterations=1000,\n",
    "                                       learning_rate=0.1,\n",
    "                                       depth=8,\n",
    "                                       loss_function='RMSE',\n",
    "                                       verbose=0)\n",
    "catboost_regressor.fit(X_train, y_train)\n",
    "\n",
    "# Predict on the testing set\n",
    "y_pred_catboost = catboost_regressor.predict(X_test)\n",
    "\n",
    "# R2\n",
    "r2_catboost = r2_score(y_test, y_pred_catboost)\n",
    "print(\"R2 (CatBoost): {:.2f}\".format(r2_catboost))\n",
    "\n",
    "# MSE\n",
    "mse_catboost = mean_squared_error(y_test, y_pred_catboost)\n",
    "\n",
    "# RMSE\n",
    "rmse_catboost = np.sqrt(mse_catboost)\n",
    "\n",
    "print(\"RMSE (CatBoost): {:.2f}\".format(rmse_catboost))"
   ]
  },
  {
   "cell_type": "code",
   "execution_count": 29,
   "id": "f063e458a6c56d8b",
   "metadata": {
    "ExecuteTime": {
     "end_time": "2024-05-06T19:57:34.224775Z",
     "start_time": "2024-05-06T19:57:25.036992Z"
    }
   },
   "outputs": [
    {
     "name": "stderr",
     "output_type": "stream",
     "text": [
      "C:\\Users\\Daniel\\AppData\\Local\\Temp\\ipykernel_14504\\4174301121.py:6: FutureWarning: A value is trying to be set on a copy of a DataFrame or Series through chained assignment using an inplace method.\n",
      "The behavior will change in pandas 3.0. This inplace method will never work because the intermediate object on which we are setting values always behaves as a copy.\n",
      "\n",
      "For example, when doing 'df[col].method(value, inplace=True)', try using 'df.method({col: value}, inplace=True)' or df[col] = df[col].method(value) instead, to perform the operation inplace on the original object.\n",
      "\n",
      "\n",
      "  data[feature].fillna('Missing', inplace=True)\n"
     ]
    },
    {
     "data": {
      "application/vnd.jupyter.widget-view+json": {
       "model_id": "f0ccaf18d4b14f03abdf5fb7793d695b",
       "version_major": 2,
       "version_minor": 0
      },
      "text/plain": [
       "MetricVisualizer(layout=Layout(align_self='stretch', height='500px'))"
      ]
     },
     "metadata": {},
     "output_type": "display_data"
    },
    {
     "name": "stdout",
     "output_type": "stream",
     "text": [
      "Learning rate set to 0.12087\n",
      "Step #1 out of 4\n",
      "0:\tlearn: 0.1043200\ttest: 0.2027838\tbest: 0.2027838 (0)\ttotal: 22.5ms\tremaining: 8.99s\n",
      "10:\tlearn: 0.5788850\ttest: 0.6497267\tbest: 0.6497267 (10)\ttotal: 275ms\tremaining: 9.72s\n",
      "20:\tlearn: 0.7943710\ttest: 0.4913172\tbest: 0.6503638 (11)\ttotal: 550ms\tremaining: 9.93s\n",
      "30:\tlearn: 0.8930556\ttest: 0.0035191\tbest: 0.6503638 (11)\ttotal: 824ms\tremaining: 9.81s\n",
      "40:\tlearn: 0.9405800\ttest: -0.4394253\tbest: 0.6503638 (11)\ttotal: 1.07s\tremaining: 9.41s\n",
      "50:\tlearn: 0.9674468\ttest: -1.0268974\tbest: 0.6503638 (11)\ttotal: 1.32s\tremaining: 9.05s\n",
      "60:\tlearn: 0.9833810\ttest: -1.2733901\tbest: 0.6503638 (11)\ttotal: 1.58s\tremaining: 8.81s\n",
      "70:\tlearn: 0.9918853\ttest: -1.3687757\tbest: 0.6503638 (11)\ttotal: 1.85s\tremaining: 8.57s\n",
      "80:\tlearn: 0.9956712\ttest: -1.4693121\tbest: 0.6503638 (11)\ttotal: 2.11s\tremaining: 8.31s\n",
      "90:\tlearn: 0.9974620\ttest: -1.5504525\tbest: 0.6503638 (11)\ttotal: 2.37s\tremaining: 8.04s\n",
      "100:\tlearn: 0.9984643\ttest: -1.6251751\tbest: 0.6503638 (11)\ttotal: 2.63s\tremaining: 7.8s\n",
      "110:\tlearn: 0.9990199\ttest: -1.6703316\tbest: 0.6503638 (11)\ttotal: 2.9s\tremaining: 7.55s\n",
      "120:\tlearn: 0.9993485\ttest: -1.7272119\tbest: 0.6503638 (11)\ttotal: 3.17s\tremaining: 7.32s\n",
      "130:\tlearn: 0.9995486\ttest: -1.7578320\tbest: 0.6503638 (11)\ttotal: 3.42s\tremaining: 7.03s\n",
      "140:\tlearn: 0.9996968\ttest: -1.8195412\tbest: 0.6503638 (11)\ttotal: 3.68s\tremaining: 6.77s\n",
      "150:\tlearn: 0.9997777\ttest: -1.8474566\tbest: 0.6503638 (11)\ttotal: 3.99s\tremaining: 6.57s\n",
      "160:\tlearn: 0.9998229\ttest: -1.8538185\tbest: 0.6503638 (11)\ttotal: 4.26s\tremaining: 6.32s\n",
      "170:\tlearn: 0.9998518\ttest: -1.8529140\tbest: 0.6503638 (11)\ttotal: 4.51s\tremaining: 6.04s\n",
      "180:\tlearn: 0.9998749\ttest: -1.8458888\tbest: 0.6503638 (11)\ttotal: 4.79s\tremaining: 5.8s\n",
      "190:\tlearn: 0.9998907\ttest: -1.8463049\tbest: 0.6503638 (11)\ttotal: 5.04s\tremaining: 5.52s\n",
      "200:\tlearn: 0.9999076\ttest: -1.8423687\tbest: 0.6503638 (11)\ttotal: 5.3s\tremaining: 5.25s\n",
      "210:\tlearn: 0.9999212\ttest: -1.8398623\tbest: 0.6503638 (11)\ttotal: 5.55s\tremaining: 4.97s\n",
      "220:\tlearn: 0.9999307\ttest: -1.8411357\tbest: 0.6503638 (11)\ttotal: 5.82s\tremaining: 4.71s\n",
      "230:\tlearn: 0.9999378\ttest: -1.8396521\tbest: 0.6503638 (11)\ttotal: 6.09s\tremaining: 4.45s\n",
      "240:\tlearn: 0.9999445\ttest: -1.8443482\tbest: 0.6503638 (11)\ttotal: 6.34s\tremaining: 4.18s\n",
      "250:\tlearn: 0.9999490\ttest: -1.8434806\tbest: 0.6503638 (11)\ttotal: 6.59s\tremaining: 3.91s\n",
      "260:\tlearn: 0.9999538\ttest: -1.8478083\tbest: 0.6503638 (11)\ttotal: 6.84s\tremaining: 3.64s\n",
      "270:\tlearn: 0.9999582\ttest: -1.8490966\tbest: 0.6503638 (11)\ttotal: 7.1s\tremaining: 3.38s\n",
      "280:\tlearn: 0.9999615\ttest: -1.8535567\tbest: 0.6503638 (11)\ttotal: 7.35s\tremaining: 3.11s\n",
      "290:\tlearn: 0.9999650\ttest: -1.8539735\tbest: 0.6503638 (11)\ttotal: 7.62s\tremaining: 2.85s\n",
      "300:\tlearn: 0.9999674\ttest: -1.8565583\tbest: 0.6503638 (11)\ttotal: 7.87s\tremaining: 2.59s\n",
      "310:\tlearn: 0.9999696\ttest: -1.8589453\tbest: 0.6503638 (11)\ttotal: 8.13s\tremaining: 2.33s\n",
      "320:\tlearn: 0.9999711\ttest: -1.8580522\tbest: 0.6503638 (11)\ttotal: 8.4s\tremaining: 2.07s\n",
      "330:\tlearn: 0.9999731\ttest: -1.8630295\tbest: 0.6503638 (11)\ttotal: 8.68s\tremaining: 1.81s\n",
      "340:\tlearn: 0.9999748\ttest: -1.8628874\tbest: 0.6503638 (11)\ttotal: 8.97s\tremaining: 1.55s\n",
      "350:\tlearn: 0.9999764\ttest: -1.8638375\tbest: 0.6503638 (11)\ttotal: 9.23s\tremaining: 1.29s\n",
      "360:\tlearn: 0.9999777\ttest: -1.8637268\tbest: 0.6503638 (11)\ttotal: 9.5s\tremaining: 1.03s\n",
      "370:\tlearn: 0.9999788\ttest: -1.8641139\tbest: 0.6503638 (11)\ttotal: 9.76s\tremaining: 763ms\n",
      "380:\tlearn: 0.9999801\ttest: -1.8664388\tbest: 0.6503638 (11)\ttotal: 10s\tremaining: 500ms\n",
      "390:\tlearn: 0.9999811\ttest: -1.8665355\tbest: 0.6503638 (11)\ttotal: 10.3s\tremaining: 237ms\n",
      "399:\tlearn: 0.9999819\ttest: -1.8672063\tbest: 0.6503638 (11)\ttotal: 10.5s\tremaining: 0us\n",
      "\n",
      "bestTest = 0.6503637898\n",
      "bestIteration = 11\n",
      "\n",
      "Shrink model to first 12 iterations.\n",
      "Feature #8 eliminated\n",
      "Feature #0 eliminated\n",
      "Feature #9 eliminated\n",
      "Feature #19 eliminated\n",
      "Step #2 out of 4\n",
      "0:\tlearn: 0.1092958\ttest: 0.4896967\tbest: 0.4896967 (0)\ttotal: 28.8ms\tremaining: 11.5s\n",
      "10:\tlearn: 0.6365247\ttest: 0.6046400\tbest: 0.7299901 (6)\ttotal: 274ms\tremaining: 9.67s\n",
      "20:\tlearn: 0.8044029\ttest: -0.0070617\tbest: 0.7299901 (6)\ttotal: 563ms\tremaining: 10.2s\n",
      "30:\tlearn: 0.8985832\ttest: -1.4102243\tbest: 0.7299901 (6)\ttotal: 820ms\tremaining: 9.76s\n",
      "40:\tlearn: 0.9447670\ttest: -2.3162169\tbest: 0.7299901 (6)\ttotal: 1.07s\tremaining: 9.34s\n",
      "50:\tlearn: 0.9685978\ttest: -3.0588227\tbest: 0.7299901 (6)\ttotal: 1.35s\tremaining: 9.28s\n",
      "60:\tlearn: 0.9837467\ttest: -4.0972734\tbest: 0.7299901 (6)\ttotal: 1.6s\tremaining: 8.89s\n",
      "70:\tlearn: 0.9915859\ttest: -4.5648290\tbest: 0.7299901 (6)\ttotal: 1.85s\tremaining: 8.59s\n",
      "80:\tlearn: 0.9955838\ttest: -4.6201657\tbest: 0.7299901 (6)\ttotal: 2.12s\tremaining: 8.33s\n",
      "90:\tlearn: 0.9974674\ttest: -4.7295245\tbest: 0.7299901 (6)\ttotal: 2.37s\tremaining: 8.03s\n",
      "100:\tlearn: 0.9986667\ttest: -4.7932614\tbest: 0.7299901 (6)\ttotal: 2.61s\tremaining: 7.74s\n",
      "110:\tlearn: 0.9991659\ttest: -4.9227833\tbest: 0.7299901 (6)\ttotal: 2.87s\tremaining: 7.47s\n",
      "120:\tlearn: 0.9994628\ttest: -5.0176113\tbest: 0.7299901 (6)\ttotal: 3.12s\tremaining: 7.2s\n",
      "130:\tlearn: 0.9996319\ttest: -5.0347802\tbest: 0.7299901 (6)\ttotal: 3.38s\tremaining: 6.93s\n",
      "140:\tlearn: 0.9997377\ttest: -5.0746704\tbest: 0.7299901 (6)\ttotal: 3.63s\tremaining: 6.66s\n",
      "150:\tlearn: 0.9998037\ttest: -5.1079274\tbest: 0.7299901 (6)\ttotal: 3.88s\tremaining: 6.4s\n",
      "160:\tlearn: 0.9998235\ttest: -5.1177124\tbest: 0.7299901 (6)\ttotal: 4.13s\tremaining: 6.13s\n",
      "170:\tlearn: 0.9998514\ttest: -5.1181848\tbest: 0.7299901 (6)\ttotal: 4.38s\tremaining: 5.87s\n",
      "180:\tlearn: 0.9998789\ttest: -5.1295902\tbest: 0.7299901 (6)\ttotal: 4.64s\tremaining: 5.61s\n",
      "190:\tlearn: 0.9998949\ttest: -5.1471821\tbest: 0.7299901 (6)\ttotal: 4.89s\tremaining: 5.36s\n",
      "200:\tlearn: 0.9999143\ttest: -5.1708650\tbest: 0.7299901 (6)\ttotal: 5.15s\tremaining: 5.1s\n",
      "210:\tlearn: 0.9999244\ttest: -5.1740756\tbest: 0.7299901 (6)\ttotal: 5.4s\tremaining: 4.83s\n",
      "220:\tlearn: 0.9999353\ttest: -5.1751378\tbest: 0.7299901 (6)\ttotal: 5.66s\tremaining: 4.58s\n",
      "230:\tlearn: 0.9999447\ttest: -5.1793479\tbest: 0.7299901 (6)\ttotal: 5.95s\tremaining: 4.35s\n",
      "240:\tlearn: 0.9999499\ttest: -5.1844439\tbest: 0.7299901 (6)\ttotal: 6.2s\tremaining: 4.09s\n",
      "250:\tlearn: 0.9999541\ttest: -5.1931699\tbest: 0.7299901 (6)\ttotal: 6.45s\tremaining: 3.83s\n",
      "260:\tlearn: 0.9999585\ttest: -5.1945189\tbest: 0.7299901 (6)\ttotal: 6.71s\tremaining: 3.57s\n",
      "270:\tlearn: 0.9999616\ttest: -5.1919396\tbest: 0.7299901 (6)\ttotal: 6.97s\tremaining: 3.32s\n",
      "280:\tlearn: 0.9999647\ttest: -5.1942100\tbest: 0.7299901 (6)\ttotal: 7.22s\tremaining: 3.06s\n",
      "290:\tlearn: 0.9999670\ttest: -5.1953151\tbest: 0.7299901 (6)\ttotal: 7.5s\tremaining: 2.81s\n",
      "300:\tlearn: 0.9999688\ttest: -5.1951697\tbest: 0.7299901 (6)\ttotal: 7.76s\tremaining: 2.55s\n",
      "310:\tlearn: 0.9999706\ttest: -5.1959482\tbest: 0.7299901 (6)\ttotal: 8.01s\tremaining: 2.29s\n",
      "320:\tlearn: 0.9999722\ttest: -5.1918646\tbest: 0.7299901 (6)\ttotal: 8.27s\tremaining: 2.04s\n",
      "330:\tlearn: 0.9999739\ttest: -5.1910691\tbest: 0.7299901 (6)\ttotal: 8.54s\tremaining: 1.78s\n",
      "340:\tlearn: 0.9999754\ttest: -5.1879293\tbest: 0.7299901 (6)\ttotal: 8.81s\tremaining: 1.52s\n",
      "350:\tlearn: 0.9999768\ttest: -5.1865408\tbest: 0.7299901 (6)\ttotal: 9.08s\tremaining: 1.27s\n",
      "360:\tlearn: 0.9999780\ttest: -5.1890739\tbest: 0.7299901 (6)\ttotal: 9.36s\tremaining: 1.01s\n",
      "370:\tlearn: 0.9999789\ttest: -5.1876677\tbest: 0.7299901 (6)\ttotal: 9.63s\tremaining: 753ms\n",
      "380:\tlearn: 0.9999798\ttest: -5.1879876\tbest: 0.7299901 (6)\ttotal: 9.9s\tremaining: 494ms\n",
      "390:\tlearn: 0.9999809\ttest: -5.1879896\tbest: 0.7299901 (6)\ttotal: 10.2s\tremaining: 234ms\n",
      "399:\tlearn: 0.9999815\ttest: -5.1884021\tbest: 0.7299901 (6)\ttotal: 10.4s\tremaining: 0us\n",
      "\n",
      "bestTest = 0.7299900627\n",
      "bestIteration = 6\n",
      "\n",
      "Shrink model to first 7 iterations.\n",
      "Feature #7 eliminated\n",
      "Feature #17 eliminated\n",
      "Feature #11 eliminated\n",
      "Step #3 out of 4\n",
      "0:\tlearn: 0.0713484\ttest: 0.2554405\tbest: 0.2554405 (0)\ttotal: 29.5ms\tremaining: 11.8s\n",
      "10:\tlearn: 0.6279125\ttest: 0.7533977\tbest: 0.7533977 (10)\ttotal: 284ms\tremaining: 10s\n",
      "20:\tlearn: 0.8188120\ttest: 0.7853122\tbest: 0.7930438 (15)\ttotal: 535ms\tremaining: 9.66s\n",
      "30:\tlearn: 0.8972728\ttest: 0.7830325\tbest: 0.7930438 (15)\ttotal: 799ms\tremaining: 9.51s\n",
      "40:\tlearn: 0.9402624\ttest: 0.7690170\tbest: 0.7930438 (15)\ttotal: 1.05s\tremaining: 9.17s\n",
      "50:\tlearn: 0.9683838\ttest: 0.7774274\tbest: 0.7930438 (15)\ttotal: 1.29s\tremaining: 8.83s\n",
      "60:\tlearn: 0.9820237\ttest: 0.8024487\tbest: 0.8045779 (58)\ttotal: 1.55s\tremaining: 8.63s\n",
      "70:\tlearn: 0.9893728\ttest: 0.8171171\tbest: 0.8171171 (70)\ttotal: 1.91s\tremaining: 8.85s\n",
      "80:\tlearn: 0.9932768\ttest: 0.8240960\tbest: 0.8240960 (80)\ttotal: 2.18s\tremaining: 8.59s\n",
      "90:\tlearn: 0.9956483\ttest: 0.8291580\tbest: 0.8292999 (89)\ttotal: 2.44s\tremaining: 8.3s\n",
      "100:\tlearn: 0.9969120\ttest: 0.8282104\tbest: 0.8299293 (95)\ttotal: 2.68s\tremaining: 7.94s\n",
      "110:\tlearn: 0.9977761\ttest: 0.8269075\tbest: 0.8299293 (95)\ttotal: 2.95s\tremaining: 7.69s\n",
      "120:\tlearn: 0.9984027\ttest: 0.8240098\tbest: 0.8299293 (95)\ttotal: 3.21s\tremaining: 7.39s\n",
      "130:\tlearn: 0.9988491\ttest: 0.8213729\tbest: 0.8299293 (95)\ttotal: 3.46s\tremaining: 7.11s\n",
      "140:\tlearn: 0.9991808\ttest: 0.8184927\tbest: 0.8299293 (95)\ttotal: 3.71s\tremaining: 6.82s\n",
      "150:\tlearn: 0.9993860\ttest: 0.8106382\tbest: 0.8299293 (95)\ttotal: 3.96s\tremaining: 6.53s\n",
      "160:\tlearn: 0.9995380\ttest: 0.8056465\tbest: 0.8299293 (95)\ttotal: 4.21s\tremaining: 6.26s\n",
      "170:\tlearn: 0.9996179\ttest: 0.8055823\tbest: 0.8299293 (95)\ttotal: 4.53s\tremaining: 6.06s\n",
      "180:\tlearn: 0.9996706\ttest: 0.8014296\tbest: 0.8299293 (95)\ttotal: 4.78s\tremaining: 5.78s\n",
      "190:\tlearn: 0.9997307\ttest: 0.7984714\tbest: 0.8299293 (95)\ttotal: 5.04s\tremaining: 5.51s\n",
      "200:\tlearn: 0.9997549\ttest: 0.7994258\tbest: 0.8299293 (95)\ttotal: 5.29s\tremaining: 5.24s\n",
      "210:\tlearn: 0.9997919\ttest: 0.7997597\tbest: 0.8299293 (95)\ttotal: 5.55s\tremaining: 4.97s\n",
      "220:\tlearn: 0.9998241\ttest: 0.8010760\tbest: 0.8299293 (95)\ttotal: 5.79s\tremaining: 4.69s\n",
      "230:\tlearn: 0.9998420\ttest: 0.7990457\tbest: 0.8299293 (95)\ttotal: 6.04s\tremaining: 4.42s\n",
      "240:\tlearn: 0.9998528\ttest: 0.7988675\tbest: 0.8299293 (95)\ttotal: 6.29s\tremaining: 4.15s\n",
      "250:\tlearn: 0.9998705\ttest: 0.8005642\tbest: 0.8299293 (95)\ttotal: 6.55s\tremaining: 3.89s\n",
      "260:\tlearn: 0.9998801\ttest: 0.7999200\tbest: 0.8299293 (95)\ttotal: 6.8s\tremaining: 3.62s\n",
      "270:\tlearn: 0.9998890\ttest: 0.7991360\tbest: 0.8299293 (95)\ttotal: 7.04s\tremaining: 3.35s\n",
      "280:\tlearn: 0.9998957\ttest: 0.7989874\tbest: 0.8299293 (95)\ttotal: 7.29s\tremaining: 3.08s\n",
      "290:\tlearn: 0.9999069\ttest: 0.8009576\tbest: 0.8299293 (95)\ttotal: 7.53s\tremaining: 2.82s\n",
      "300:\tlearn: 0.9999172\ttest: 0.8008859\tbest: 0.8299293 (95)\ttotal: 7.77s\tremaining: 2.56s\n",
      "310:\tlearn: 0.9999238\ttest: 0.7997912\tbest: 0.8299293 (95)\ttotal: 8.03s\tremaining: 2.3s\n",
      "320:\tlearn: 0.9999290\ttest: 0.7993052\tbest: 0.8299293 (95)\ttotal: 8.29s\tremaining: 2.04s\n",
      "330:\tlearn: 0.9999357\ttest: 0.7990359\tbest: 0.8299293 (95)\ttotal: 8.54s\tremaining: 1.78s\n",
      "340:\tlearn: 0.9999390\ttest: 0.7997826\tbest: 0.8299293 (95)\ttotal: 8.79s\tremaining: 1.52s\n",
      "350:\tlearn: 0.9999440\ttest: 0.7999359\tbest: 0.8299293 (95)\ttotal: 9.05s\tremaining: 1.26s\n",
      "360:\tlearn: 0.9999462\ttest: 0.8000017\tbest: 0.8299293 (95)\ttotal: 9.3s\tremaining: 1s\n",
      "370:\tlearn: 0.9999498\ttest: 0.8007230\tbest: 0.8299293 (95)\ttotal: 9.58s\tremaining: 749ms\n",
      "380:\tlearn: 0.9999539\ttest: 0.7996002\tbest: 0.8299293 (95)\ttotal: 9.83s\tremaining: 490ms\n",
      "390:\tlearn: 0.9999556\ttest: 0.7993494\tbest: 0.8299293 (95)\ttotal: 10.1s\tremaining: 232ms\n",
      "399:\tlearn: 0.9999575\ttest: 0.7998143\tbest: 0.8299293 (95)\ttotal: 10.3s\tremaining: 0us\n",
      "\n",
      "bestTest = 0.8299292985\n",
      "bestIteration = 95\n",
      "\n",
      "Shrink model to first 96 iterations.\n",
      "Feature #15 eliminated\n",
      "Feature #13 eliminated\n",
      "Feature #2 eliminated\n",
      "Step #4 out of 4\n",
      "0:\tlearn: 0.0789775\ttest: 0.0785624\tbest: 0.0785624 (0)\ttotal: 33.9ms\tremaining: 13.5s\n",
      "10:\tlearn: 0.6110208\ttest: 0.5600339\tbest: 0.5600339 (10)\ttotal: 285ms\tremaining: 10.1s\n",
      "20:\tlearn: 0.8077799\ttest: 0.8208673\tbest: 0.8208673 (20)\ttotal: 545ms\tremaining: 9.84s\n",
      "30:\tlearn: 0.8973960\ttest: 0.8270802\tbest: 0.8273524 (29)\ttotal: 809ms\tremaining: 9.63s\n",
      "40:\tlearn: 0.9393596\ttest: 0.8341485\tbest: 0.8341485 (40)\ttotal: 1.06s\tremaining: 9.31s\n",
      "50:\tlearn: 0.9673648\ttest: 0.8517002\tbest: 0.8517002 (50)\ttotal: 1.3s\tremaining: 8.93s\n",
      "60:\tlearn: 0.9817606\ttest: 0.8688305\tbest: 0.8688305 (60)\ttotal: 1.57s\tremaining: 8.74s\n",
      "70:\tlearn: 0.9894164\ttest: 0.8877702\tbest: 0.8877702 (70)\ttotal: 1.82s\tremaining: 8.45s\n",
      "80:\tlearn: 0.9932969\ttest: 0.8926982\tbest: 0.8928373 (79)\ttotal: 2.1s\tremaining: 8.25s\n",
      "90:\tlearn: 0.9956925\ttest: 0.8876587\tbest: 0.8958631 (84)\ttotal: 2.34s\tremaining: 7.96s\n",
      "100:\tlearn: 0.9968951\ttest: 0.8769860\tbest: 0.8958631 (84)\ttotal: 2.63s\tremaining: 7.77s\n",
      "110:\tlearn: 0.9976371\ttest: 0.8721239\tbest: 0.8958631 (84)\ttotal: 2.9s\tremaining: 7.55s\n",
      "120:\tlearn: 0.9980544\ttest: 0.8723315\tbest: 0.8958631 (84)\ttotal: 3.16s\tremaining: 7.29s\n",
      "130:\tlearn: 0.9984554\ttest: 0.8711450\tbest: 0.8958631 (84)\ttotal: 3.42s\tremaining: 7.01s\n",
      "140:\tlearn: 0.9988864\ttest: 0.8710177\tbest: 0.8958631 (84)\ttotal: 3.69s\tremaining: 6.77s\n",
      "150:\tlearn: 0.9991911\ttest: 0.8708623\tbest: 0.8958631 (84)\ttotal: 3.94s\tremaining: 6.5s\n",
      "160:\tlearn: 0.9993950\ttest: 0.8710174\tbest: 0.8958631 (84)\ttotal: 4.2s\tremaining: 6.23s\n",
      "170:\tlearn: 0.9995259\ttest: 0.8634923\tbest: 0.8958631 (84)\ttotal: 4.45s\tremaining: 5.96s\n",
      "180:\tlearn: 0.9995987\ttest: 0.8627424\tbest: 0.8958631 (84)\ttotal: 4.72s\tremaining: 5.71s\n",
      "190:\tlearn: 0.9996504\ttest: 0.8626384\tbest: 0.8958631 (84)\ttotal: 4.97s\tremaining: 5.44s\n",
      "200:\tlearn: 0.9997131\ttest: 0.8651779\tbest: 0.8958631 (84)\ttotal: 5.24s\tremaining: 5.19s\n",
      "210:\tlearn: 0.9997539\ttest: 0.8662254\tbest: 0.8958631 (84)\ttotal: 5.54s\tremaining: 4.96s\n",
      "220:\tlearn: 0.9997829\ttest: 0.8664058\tbest: 0.8958631 (84)\ttotal: 5.8s\tremaining: 4.7s\n",
      "230:\tlearn: 0.9998048\ttest: 0.8665982\tbest: 0.8958631 (84)\ttotal: 6.08s\tremaining: 4.45s\n",
      "240:\tlearn: 0.9998279\ttest: 0.8626927\tbest: 0.8958631 (84)\ttotal: 6.37s\tremaining: 4.2s\n",
      "250:\tlearn: 0.9998477\ttest: 0.8629342\tbest: 0.8958631 (84)\ttotal: 6.65s\tremaining: 3.95s\n",
      "260:\tlearn: 0.9998606\ttest: 0.8642077\tbest: 0.8958631 (84)\ttotal: 6.92s\tremaining: 3.68s\n",
      "270:\tlearn: 0.9998730\ttest: 0.8642051\tbest: 0.8958631 (84)\ttotal: 7.21s\tremaining: 3.43s\n",
      "280:\tlearn: 0.9998841\ttest: 0.8637141\tbest: 0.8958631 (84)\ttotal: 7.47s\tremaining: 3.17s\n",
      "290:\tlearn: 0.9998971\ttest: 0.8640309\tbest: 0.8958631 (84)\ttotal: 7.76s\tremaining: 2.91s\n",
      "300:\tlearn: 0.9999074\ttest: 0.8632311\tbest: 0.8958631 (84)\ttotal: 8.04s\tremaining: 2.65s\n",
      "310:\tlearn: 0.9999136\ttest: 0.8633053\tbest: 0.8958631 (84)\ttotal: 8.3s\tremaining: 2.37s\n",
      "320:\tlearn: 0.9999207\ttest: 0.8644414\tbest: 0.8958631 (84)\ttotal: 8.68s\tremaining: 2.13s\n",
      "330:\tlearn: 0.9999278\ttest: 0.8649513\tbest: 0.8958631 (84)\ttotal: 8.95s\tremaining: 1.87s\n",
      "340:\tlearn: 0.9999359\ttest: 0.8648280\tbest: 0.8958631 (84)\ttotal: 9.22s\tremaining: 1.59s\n",
      "350:\tlearn: 0.9999405\ttest: 0.8660330\tbest: 0.8958631 (84)\ttotal: 9.47s\tremaining: 1.32s\n",
      "360:\tlearn: 0.9999439\ttest: 0.8665579\tbest: 0.8958631 (84)\ttotal: 9.74s\tremaining: 1.05s\n",
      "370:\tlearn: 0.9999463\ttest: 0.8670671\tbest: 0.8958631 (84)\ttotal: 9.99s\tremaining: 781ms\n",
      "380:\tlearn: 0.9999492\ttest: 0.8673331\tbest: 0.8958631 (84)\ttotal: 10.3s\tremaining: 512ms\n",
      "390:\tlearn: 0.9999516\ttest: 0.8670069\tbest: 0.8958631 (84)\ttotal: 10.5s\tremaining: 242ms\n",
      "399:\tlearn: 0.9999524\ttest: 0.8673073\tbest: 0.8958631 (84)\ttotal: 10.8s\tremaining: 0us\n",
      "\n",
      "bestTest = 0.8958630785\n",
      "bestIteration = 84\n",
      "\n",
      "Shrink model to first 85 iterations.\n",
      "Feature #4 eliminated\n",
      "Feature #16 eliminated\n",
      "Train final model\n",
      "0:\tlearn: 0.1043327\ttest: 0.0402169\tbest: 0.0402169 (0)\ttotal: 22.2ms\tremaining: 8.87s\n",
      "10:\tlearn: 0.6020187\ttest: 0.5665686\tbest: 0.5665686 (10)\ttotal: 285ms\tremaining: 10.1s\n",
      "20:\tlearn: 0.8037571\ttest: 0.7499491\tbest: 0.7499491 (20)\ttotal: 532ms\tremaining: 9.6s\n",
      "30:\tlearn: 0.8901126\ttest: 0.7554392\tbest: 0.7776071 (24)\ttotal: 778ms\tremaining: 9.26s\n",
      "40:\tlearn: 0.9363726\ttest: 0.7393468\tbest: 0.7776071 (24)\ttotal: 1.02s\tremaining: 8.98s\n",
      "50:\tlearn: 0.9696053\ttest: 0.8086401\tbest: 0.8086401 (50)\ttotal: 1.27s\tremaining: 8.7s\n",
      "60:\tlearn: 0.9850893\ttest: 0.8363524\tbest: 0.8363524 (60)\ttotal: 1.52s\tremaining: 8.47s\n",
      "70:\tlearn: 0.9913009\ttest: 0.8455849\tbest: 0.8455849 (70)\ttotal: 1.78s\tremaining: 8.24s\n",
      "80:\tlearn: 0.9945989\ttest: 0.8593129\tbest: 0.8594105 (79)\ttotal: 2.07s\tremaining: 8.14s\n",
      "90:\tlearn: 0.9966095\ttest: 0.8539605\tbest: 0.8601149 (81)\ttotal: 2.32s\tremaining: 7.88s\n",
      "100:\tlearn: 0.9976291\ttest: 0.8558836\tbest: 0.8601149 (81)\ttotal: 2.6s\tremaining: 7.68s\n",
      "110:\tlearn: 0.9984098\ttest: 0.8616832\tbest: 0.8642211 (105)\ttotal: 2.89s\tremaining: 7.51s\n",
      "120:\tlearn: 0.9988689\ttest: 0.8635578\tbest: 0.8660519 (111)\ttotal: 3.13s\tremaining: 7.22s\n",
      "130:\tlearn: 0.9991379\ttest: 0.8707100\tbest: 0.8734480 (127)\ttotal: 3.38s\tremaining: 6.94s\n",
      "140:\tlearn: 0.9993632\ttest: 0.8757390\tbest: 0.8767586 (138)\ttotal: 3.63s\tremaining: 6.66s\n",
      "150:\tlearn: 0.9994904\ttest: 0.8774585\tbest: 0.8784546 (149)\ttotal: 3.91s\tremaining: 6.45s\n",
      "160:\tlearn: 0.9995866\ttest: 0.8799869\tbest: 0.8799996 (157)\ttotal: 4.19s\tremaining: 6.22s\n",
      "170:\tlearn: 0.9996721\ttest: 0.8821818\tbest: 0.8825466 (169)\ttotal: 4.45s\tremaining: 5.96s\n",
      "180:\tlearn: 0.9997277\ttest: 0.8858168\tbest: 0.8858168 (180)\ttotal: 4.71s\tremaining: 5.69s\n",
      "190:\tlearn: 0.9997748\ttest: 0.8874469\tbest: 0.8874469 (190)\ttotal: 5.01s\tremaining: 5.48s\n",
      "200:\tlearn: 0.9997961\ttest: 0.8874746\tbest: 0.8876932 (198)\ttotal: 5.29s\tremaining: 5.24s\n",
      "210:\tlearn: 0.9998232\ttest: 0.8876895\tbest: 0.8876932 (198)\ttotal: 5.55s\tremaining: 4.97s\n",
      "220:\tlearn: 0.9998471\ttest: 0.8880292\tbest: 0.8881411 (219)\ttotal: 5.85s\tremaining: 4.74s\n",
      "230:\tlearn: 0.9998598\ttest: 0.8877823\tbest: 0.8882336 (225)\ttotal: 6.12s\tremaining: 4.47s\n",
      "240:\tlearn: 0.9998765\ttest: 0.8873657\tbest: 0.8882336 (225)\ttotal: 6.36s\tremaining: 4.2s\n",
      "250:\tlearn: 0.9998915\ttest: 0.8868900\tbest: 0.8882336 (225)\ttotal: 6.61s\tremaining: 3.92s\n",
      "260:\tlearn: 0.9999024\ttest: 0.8868322\tbest: 0.8882336 (225)\ttotal: 6.86s\tremaining: 3.65s\n",
      "270:\tlearn: 0.9999091\ttest: 0.8872474\tbest: 0.8882336 (225)\ttotal: 7.15s\tremaining: 3.4s\n",
      "280:\tlearn: 0.9999180\ttest: 0.8874613\tbest: 0.8882336 (225)\ttotal: 7.42s\tremaining: 3.14s\n",
      "290:\tlearn: 0.9999261\ttest: 0.8875040\tbest: 0.8882336 (225)\ttotal: 7.68s\tremaining: 2.88s\n",
      "300:\tlearn: 0.9999339\ttest: 0.8875437\tbest: 0.8882336 (225)\ttotal: 7.91s\tremaining: 2.6s\n",
      "310:\tlearn: 0.9999397\ttest: 0.8877191\tbest: 0.8882336 (225)\ttotal: 8.17s\tremaining: 2.34s\n",
      "320:\tlearn: 0.9999444\ttest: 0.8875366\tbest: 0.8882336 (225)\ttotal: 8.43s\tremaining: 2.07s\n",
      "330:\tlearn: 0.9999483\ttest: 0.8873947\tbest: 0.8882336 (225)\ttotal: 8.67s\tremaining: 1.81s\n",
      "340:\tlearn: 0.9999514\ttest: 0.8875215\tbest: 0.8882336 (225)\ttotal: 8.92s\tremaining: 1.54s\n",
      "350:\tlearn: 0.9999540\ttest: 0.8874112\tbest: 0.8882336 (225)\ttotal: 9.28s\tremaining: 1.3s\n",
      "360:\tlearn: 0.9999567\ttest: 0.8876757\tbest: 0.8882336 (225)\ttotal: 9.57s\tremaining: 1.03s\n",
      "370:\tlearn: 0.9999603\ttest: 0.8876399\tbest: 0.8882336 (225)\ttotal: 9.82s\tremaining: 768ms\n",
      "380:\tlearn: 0.9999624\ttest: 0.8875850\tbest: 0.8882336 (225)\ttotal: 10.1s\tremaining: 502ms\n",
      "390:\tlearn: 0.9999645\ttest: 0.8874538\tbest: 0.8882336 (225)\ttotal: 10.3s\tremaining: 238ms\n",
      "399:\tlearn: 0.9999661\ttest: 0.8874287\tbest: 0.8882336 (225)\ttotal: 10.6s\tremaining: 0us\n",
      "\n",
      "bestTest = 0.8882335651\n",
      "bestIteration = 225\n",
      "\n",
      "Shrink model to first 226 iterations.\n"
     ]
    },
    {
     "data": {
      "application/vnd.plotly.v1+json": {
       "config": {
        "plotlyServerURL": "https://plot.ly"
       },
       "data": [
        {
         "line": {
          "color": "rgb(51,160,44)"
         },
         "mode": "lines+markers",
         "name": "",
         "text": [
          "",
          "bathrooms",
          "host_id",
          "bedrooms",
          "min_rating",
          "accommodates",
          "seasonal_availability",
          "minimum_nights",
          "amenities_count",
          "instant_bookable",
          "host_response_rate",
          "host_is_superhost",
          "count_verifications"
         ],
         "type": "scatter",
         "x": [
          0,
          1,
          2,
          3,
          4,
          5,
          6,
          7,
          8,
          9,
          10,
          11,
          12
         ],
         "y": [
          4750.653890152772,
          4360.883944094657,
          4298.239981256354,
          4235.074245075886,
          4174.794117476791,
          3489.0034046860237,
          3325.600144966964,
          3313.293743264333,
          2608.9653166894223,
          2600.386469741207,
          2592.671873446891,
          2685.294751707694,
          2685.968331383495
         ]
        },
        {
         "marker": {
          "size": 10,
          "symbol": "square"
         },
         "mode": "markers",
         "name": "",
         "text": [
          "",
          "min_rating",
          "minimum_nights",
          "host_response_rate",
          "count_verifications"
         ],
         "type": "scatter",
         "x": [
          0,
          4,
          7,
          10,
          12
         ],
         "y": [
          4750.653890152772,
          4174.794117476791,
          3313.293743264333,
          2592.671873446891,
          2685.968331383495
         ]
        },
        {
         "mode": "text",
         "name": "",
         "text": [
          "",
          "8",
          "0",
          "9",
          "19",
          "7",
          "17",
          "11",
          "15",
          "13",
          "2",
          "4",
          "16"
         ],
         "textfont": {
          "color": "rgb(51,160,44)",
          "family": "sans serif",
          "size": 18
         },
         "textposition": "bottom center",
         "type": "scatter",
         "visible": false,
         "x": [
          0,
          1,
          2,
          3,
          4,
          5,
          6,
          7,
          8,
          9,
          10,
          11,
          12
         ],
         "y": [
          4750.653890152772,
          4360.883944094657,
          4298.239981256354,
          4235.074245075886,
          4174.794117476791,
          3489.0034046860237,
          3325.600144966964,
          3313.293743264333,
          2608.9653166894223,
          2600.386469741207,
          2592.671873446891,
          2685.294751707694,
          2685.968331383495
         ]
        },
        {
         "mode": "text",
         "name": "",
         "text": [
          "",
          "bathrooms",
          "host_id",
          "bedrooms",
          "min_rating",
          "accommodates",
          "seasonal_availability",
          "minimum_nights",
          "amenities_count",
          "instant_bookable",
          "host_response_rate",
          "host_is_superhost",
          "count_verifications"
         ],
         "textfont": {
          "color": "rgb(51,160,44)",
          "family": "sans serif",
          "size": 18
         },
         "textposition": "bottom center",
         "type": "scatter",
         "visible": false,
         "x": [
          0,
          1,
          2,
          3,
          4,
          5,
          6,
          7,
          8,
          9,
          10,
          11,
          12
         ],
         "y": [
          4750.653890152772,
          4360.883944094657,
          4298.239981256354,
          4235.074245075886,
          4174.794117476791,
          3489.0034046860237,
          3325.600144966964,
          3313.293743264333,
          2608.9653166894223,
          2600.386469741207,
          2592.671873446891,
          2685.294751707694,
          2685.968331383495
         ]
        }
       ],
       "layout": {
        "showlegend": false,
        "template": {
         "data": {
          "bar": [
           {
            "error_x": {
             "color": "#2a3f5f"
            },
            "error_y": {
             "color": "#2a3f5f"
            },
            "marker": {
             "line": {
              "color": "#E5ECF6",
              "width": 0.5
             },
             "pattern": {
              "fillmode": "overlay",
              "size": 10,
              "solidity": 0.2
             }
            },
            "type": "bar"
           }
          ],
          "barpolar": [
           {
            "marker": {
             "line": {
              "color": "#E5ECF6",
              "width": 0.5
             },
             "pattern": {
              "fillmode": "overlay",
              "size": 10,
              "solidity": 0.2
             }
            },
            "type": "barpolar"
           }
          ],
          "carpet": [
           {
            "aaxis": {
             "endlinecolor": "#2a3f5f",
             "gridcolor": "white",
             "linecolor": "white",
             "minorgridcolor": "white",
             "startlinecolor": "#2a3f5f"
            },
            "baxis": {
             "endlinecolor": "#2a3f5f",
             "gridcolor": "white",
             "linecolor": "white",
             "minorgridcolor": "white",
             "startlinecolor": "#2a3f5f"
            },
            "type": "carpet"
           }
          ],
          "choropleth": [
           {
            "colorbar": {
             "outlinewidth": 0,
             "ticks": ""
            },
            "type": "choropleth"
           }
          ],
          "contour": [
           {
            "colorbar": {
             "outlinewidth": 0,
             "ticks": ""
            },
            "colorscale": [
             [
              0,
              "#0d0887"
             ],
             [
              0.1111111111111111,
              "#46039f"
             ],
             [
              0.2222222222222222,
              "#7201a8"
             ],
             [
              0.3333333333333333,
              "#9c179e"
             ],
             [
              0.4444444444444444,
              "#bd3786"
             ],
             [
              0.5555555555555556,
              "#d8576b"
             ],
             [
              0.6666666666666666,
              "#ed7953"
             ],
             [
              0.7777777777777778,
              "#fb9f3a"
             ],
             [
              0.8888888888888888,
              "#fdca26"
             ],
             [
              1,
              "#f0f921"
             ]
            ],
            "type": "contour"
           }
          ],
          "contourcarpet": [
           {
            "colorbar": {
             "outlinewidth": 0,
             "ticks": ""
            },
            "type": "contourcarpet"
           }
          ],
          "heatmap": [
           {
            "colorbar": {
             "outlinewidth": 0,
             "ticks": ""
            },
            "colorscale": [
             [
              0,
              "#0d0887"
             ],
             [
              0.1111111111111111,
              "#46039f"
             ],
             [
              0.2222222222222222,
              "#7201a8"
             ],
             [
              0.3333333333333333,
              "#9c179e"
             ],
             [
              0.4444444444444444,
              "#bd3786"
             ],
             [
              0.5555555555555556,
              "#d8576b"
             ],
             [
              0.6666666666666666,
              "#ed7953"
             ],
             [
              0.7777777777777778,
              "#fb9f3a"
             ],
             [
              0.8888888888888888,
              "#fdca26"
             ],
             [
              1,
              "#f0f921"
             ]
            ],
            "type": "heatmap"
           }
          ],
          "heatmapgl": [
           {
            "colorbar": {
             "outlinewidth": 0,
             "ticks": ""
            },
            "colorscale": [
             [
              0,
              "#0d0887"
             ],
             [
              0.1111111111111111,
              "#46039f"
             ],
             [
              0.2222222222222222,
              "#7201a8"
             ],
             [
              0.3333333333333333,
              "#9c179e"
             ],
             [
              0.4444444444444444,
              "#bd3786"
             ],
             [
              0.5555555555555556,
              "#d8576b"
             ],
             [
              0.6666666666666666,
              "#ed7953"
             ],
             [
              0.7777777777777778,
              "#fb9f3a"
             ],
             [
              0.8888888888888888,
              "#fdca26"
             ],
             [
              1,
              "#f0f921"
             ]
            ],
            "type": "heatmapgl"
           }
          ],
          "histogram": [
           {
            "marker": {
             "pattern": {
              "fillmode": "overlay",
              "size": 10,
              "solidity": 0.2
             }
            },
            "type": "histogram"
           }
          ],
          "histogram2d": [
           {
            "colorbar": {
             "outlinewidth": 0,
             "ticks": ""
            },
            "colorscale": [
             [
              0,
              "#0d0887"
             ],
             [
              0.1111111111111111,
              "#46039f"
             ],
             [
              0.2222222222222222,
              "#7201a8"
             ],
             [
              0.3333333333333333,
              "#9c179e"
             ],
             [
              0.4444444444444444,
              "#bd3786"
             ],
             [
              0.5555555555555556,
              "#d8576b"
             ],
             [
              0.6666666666666666,
              "#ed7953"
             ],
             [
              0.7777777777777778,
              "#fb9f3a"
             ],
             [
              0.8888888888888888,
              "#fdca26"
             ],
             [
              1,
              "#f0f921"
             ]
            ],
            "type": "histogram2d"
           }
          ],
          "histogram2dcontour": [
           {
            "colorbar": {
             "outlinewidth": 0,
             "ticks": ""
            },
            "colorscale": [
             [
              0,
              "#0d0887"
             ],
             [
              0.1111111111111111,
              "#46039f"
             ],
             [
              0.2222222222222222,
              "#7201a8"
             ],
             [
              0.3333333333333333,
              "#9c179e"
             ],
             [
              0.4444444444444444,
              "#bd3786"
             ],
             [
              0.5555555555555556,
              "#d8576b"
             ],
             [
              0.6666666666666666,
              "#ed7953"
             ],
             [
              0.7777777777777778,
              "#fb9f3a"
             ],
             [
              0.8888888888888888,
              "#fdca26"
             ],
             [
              1,
              "#f0f921"
             ]
            ],
            "type": "histogram2dcontour"
           }
          ],
          "mesh3d": [
           {
            "colorbar": {
             "outlinewidth": 0,
             "ticks": ""
            },
            "type": "mesh3d"
           }
          ],
          "parcoords": [
           {
            "line": {
             "colorbar": {
              "outlinewidth": 0,
              "ticks": ""
             }
            },
            "type": "parcoords"
           }
          ],
          "pie": [
           {
            "automargin": true,
            "type": "pie"
           }
          ],
          "scatter": [
           {
            "fillpattern": {
             "fillmode": "overlay",
             "size": 10,
             "solidity": 0.2
            },
            "type": "scatter"
           }
          ],
          "scatter3d": [
           {
            "line": {
             "colorbar": {
              "outlinewidth": 0,
              "ticks": ""
             }
            },
            "marker": {
             "colorbar": {
              "outlinewidth": 0,
              "ticks": ""
             }
            },
            "type": "scatter3d"
           }
          ],
          "scattercarpet": [
           {
            "marker": {
             "colorbar": {
              "outlinewidth": 0,
              "ticks": ""
             }
            },
            "type": "scattercarpet"
           }
          ],
          "scattergeo": [
           {
            "marker": {
             "colorbar": {
              "outlinewidth": 0,
              "ticks": ""
             }
            },
            "type": "scattergeo"
           }
          ],
          "scattergl": [
           {
            "marker": {
             "colorbar": {
              "outlinewidth": 0,
              "ticks": ""
             }
            },
            "type": "scattergl"
           }
          ],
          "scattermapbox": [
           {
            "marker": {
             "colorbar": {
              "outlinewidth": 0,
              "ticks": ""
             }
            },
            "type": "scattermapbox"
           }
          ],
          "scatterpolar": [
           {
            "marker": {
             "colorbar": {
              "outlinewidth": 0,
              "ticks": ""
             }
            },
            "type": "scatterpolar"
           }
          ],
          "scatterpolargl": [
           {
            "marker": {
             "colorbar": {
              "outlinewidth": 0,
              "ticks": ""
             }
            },
            "type": "scatterpolargl"
           }
          ],
          "scatterternary": [
           {
            "marker": {
             "colorbar": {
              "outlinewidth": 0,
              "ticks": ""
             }
            },
            "type": "scatterternary"
           }
          ],
          "surface": [
           {
            "colorbar": {
             "outlinewidth": 0,
             "ticks": ""
            },
            "colorscale": [
             [
              0,
              "#0d0887"
             ],
             [
              0.1111111111111111,
              "#46039f"
             ],
             [
              0.2222222222222222,
              "#7201a8"
             ],
             [
              0.3333333333333333,
              "#9c179e"
             ],
             [
              0.4444444444444444,
              "#bd3786"
             ],
             [
              0.5555555555555556,
              "#d8576b"
             ],
             [
              0.6666666666666666,
              "#ed7953"
             ],
             [
              0.7777777777777778,
              "#fb9f3a"
             ],
             [
              0.8888888888888888,
              "#fdca26"
             ],
             [
              1,
              "#f0f921"
             ]
            ],
            "type": "surface"
           }
          ],
          "table": [
           {
            "cells": {
             "fill": {
              "color": "#EBF0F8"
             },
             "line": {
              "color": "white"
             }
            },
            "header": {
             "fill": {
              "color": "#C8D4E3"
             },
             "line": {
              "color": "white"
             }
            },
            "type": "table"
           }
          ]
         },
         "layout": {
          "annotationdefaults": {
           "arrowcolor": "#2a3f5f",
           "arrowhead": 0,
           "arrowwidth": 1
          },
          "autotypenumbers": "strict",
          "coloraxis": {
           "colorbar": {
            "outlinewidth": 0,
            "ticks": ""
           }
          },
          "colorscale": {
           "diverging": [
            [
             0,
             "#8e0152"
            ],
            [
             0.1,
             "#c51b7d"
            ],
            [
             0.2,
             "#de77ae"
            ],
            [
             0.3,
             "#f1b6da"
            ],
            [
             0.4,
             "#fde0ef"
            ],
            [
             0.5,
             "#f7f7f7"
            ],
            [
             0.6,
             "#e6f5d0"
            ],
            [
             0.7,
             "#b8e186"
            ],
            [
             0.8,
             "#7fbc41"
            ],
            [
             0.9,
             "#4d9221"
            ],
            [
             1,
             "#276419"
            ]
           ],
           "sequential": [
            [
             0,
             "#0d0887"
            ],
            [
             0.1111111111111111,
             "#46039f"
            ],
            [
             0.2222222222222222,
             "#7201a8"
            ],
            [
             0.3333333333333333,
             "#9c179e"
            ],
            [
             0.4444444444444444,
             "#bd3786"
            ],
            [
             0.5555555555555556,
             "#d8576b"
            ],
            [
             0.6666666666666666,
             "#ed7953"
            ],
            [
             0.7777777777777778,
             "#fb9f3a"
            ],
            [
             0.8888888888888888,
             "#fdca26"
            ],
            [
             1,
             "#f0f921"
            ]
           ],
           "sequentialminus": [
            [
             0,
             "#0d0887"
            ],
            [
             0.1111111111111111,
             "#46039f"
            ],
            [
             0.2222222222222222,
             "#7201a8"
            ],
            [
             0.3333333333333333,
             "#9c179e"
            ],
            [
             0.4444444444444444,
             "#bd3786"
            ],
            [
             0.5555555555555556,
             "#d8576b"
            ],
            [
             0.6666666666666666,
             "#ed7953"
            ],
            [
             0.7777777777777778,
             "#fb9f3a"
            ],
            [
             0.8888888888888888,
             "#fdca26"
            ],
            [
             1,
             "#f0f921"
            ]
           ]
          },
          "colorway": [
           "#636efa",
           "#EF553B",
           "#00cc96",
           "#ab63fa",
           "#FFA15A",
           "#19d3f3",
           "#FF6692",
           "#B6E880",
           "#FF97FF",
           "#FECB52"
          ],
          "font": {
           "color": "#2a3f5f"
          },
          "geo": {
           "bgcolor": "white",
           "lakecolor": "white",
           "landcolor": "#E5ECF6",
           "showlakes": true,
           "showland": true,
           "subunitcolor": "white"
          },
          "hoverlabel": {
           "align": "left"
          },
          "hovermode": "closest",
          "mapbox": {
           "style": "light"
          },
          "paper_bgcolor": "white",
          "plot_bgcolor": "#E5ECF6",
          "polar": {
           "angularaxis": {
            "gridcolor": "white",
            "linecolor": "white",
            "ticks": ""
           },
           "bgcolor": "#E5ECF6",
           "radialaxis": {
            "gridcolor": "white",
            "linecolor": "white",
            "ticks": ""
           }
          },
          "scene": {
           "xaxis": {
            "backgroundcolor": "#E5ECF6",
            "gridcolor": "white",
            "gridwidth": 2,
            "linecolor": "white",
            "showbackground": true,
            "ticks": "",
            "zerolinecolor": "white"
           },
           "yaxis": {
            "backgroundcolor": "#E5ECF6",
            "gridcolor": "white",
            "gridwidth": 2,
            "linecolor": "white",
            "showbackground": true,
            "ticks": "",
            "zerolinecolor": "white"
           },
           "zaxis": {
            "backgroundcolor": "#E5ECF6",
            "gridcolor": "white",
            "gridwidth": 2,
            "linecolor": "white",
            "showbackground": true,
            "ticks": "",
            "zerolinecolor": "white"
           }
          },
          "shapedefaults": {
           "line": {
            "color": "#2a3f5f"
           }
          },
          "ternary": {
           "aaxis": {
            "gridcolor": "white",
            "linecolor": "white",
            "ticks": ""
           },
           "baxis": {
            "gridcolor": "white",
            "linecolor": "white",
            "ticks": ""
           },
           "bgcolor": "#E5ECF6",
           "caxis": {
            "gridcolor": "white",
            "linecolor": "white",
            "ticks": ""
           }
          },
          "title": {
           "x": 0.05
          },
          "xaxis": {
           "automargin": true,
           "gridcolor": "white",
           "linecolor": "white",
           "ticks": "",
           "title": {
            "standoff": 15
           },
           "zerolinecolor": "white",
           "zerolinewidth": 2
          },
          "yaxis": {
           "automargin": true,
           "gridcolor": "white",
           "linecolor": "white",
           "ticks": "",
           "title": {
            "standoff": 15
           },
           "zerolinecolor": "white",
           "zerolinewidth": 2
          }
         }
        },
        "title": {
         "text": "Loss by eliminated features"
        },
        "updatemenus": [
         {
          "active": 0,
          "buttons": [
           {
            "args": [
             {
              "visible": [
               true,
               true,
               false,
               false
              ]
             }
            ],
            "label": "Hide features",
            "method": "update"
           },
           {
            "args": [
             {
              "visible": [
               true,
               true,
               true,
               false
              ]
             }
            ],
            "label": "Show indices",
            "method": "update"
           },
           {
            "args": [
             {
              "visible": [
               true,
               true,
               false,
               true
              ]
             }
            ],
            "label": "Show names",
            "method": "update"
           }
          ],
          "pad": {
           "r": 10,
           "t": 10
          },
          "showactive": true,
          "x": -0.25,
          "xanchor": "left",
          "y": 1.03,
          "yanchor": "top"
         }
        ],
        "xaxis": {
         "gridcolor": "rgb(255,255,255)",
         "showgrid": true,
         "showline": false,
         "showticklabels": true,
         "tickcolor": "rgb(127,127,127)",
         "ticks": "outside",
         "title": {
          "text": "number of removed features"
         },
         "zeroline": false
        },
        "yaxis": {
         "gridcolor": "rgb(255,255,255)",
         "showgrid": true,
         "showline": false,
         "showticklabels": true,
         "tickcolor": "rgb(127,127,127)",
         "tickfont": {
          "color": "rgb(51,160,44)"
         },
         "ticks": "outside",
         "title": {
          "font": {
           "color": "rgb(51,160,44)"
          },
          "text": "loss value"
         },
         "zeroline": false
        }
       }
      }
     },
     "metadata": {},
     "output_type": "display_data"
    }
   ],
   "source": [
    "# Catboost 2\n",
    "for feature in categorical_features:\n",
    "    data[feature] = data[feature].astype('category')\n",
    "    if 'Missing' not in data[feature].cat.categories:\n",
    "        data[feature] = data[feature].cat.add_categories('Missing')\n",
    "    data[feature].fillna('Missing', inplace=True)\n",
    "    \n",
    "train_size = 7000\n",
    "\n",
    "x_train = data.iloc[:train_size]\n",
    "y_train = data.iloc[:train_size]['price']\n",
    "\n",
    "x_test = data.iloc[train_size:]\n",
    "y_test = data.iloc[train_size:]['price']\n",
    "\n",
    "x_test = data.drop(x_train.index)\n",
    "\n",
    "y_test = data.drop(y_train.index)['price']\n",
    "regressor = CatBoostRegressor(eval_metric='R2',\n",
    "                              iterations = 400, \n",
    "                              cat_features = categorical_features, \n",
    "                              random_state = 123\n",
    "                              )\n",
    "rfe_dict = regressor.select_features(X = x_train, \n",
    "                                     y = y_train, \n",
    "                                     eval_set = (x_test,y_test),\n",
    "                                     features_for_select = '0-19',\n",
    "                                     num_features_to_select = 8, \n",
    "                                     steps = 4, \n",
    "                                     verbose = 10,\n",
    "                                     train_final_model = True, \n",
    "                                     plot = True\n",
    "                                     )"
   ]
  },
  {
   "cell_type": "code",
   "execution_count": null,
   "id": "88fb9ef37ea5908a",
   "metadata": {
    "ExecuteTime": {
     "end_time": "2024-05-06T19:57:34.234285Z",
     "start_time": "2024-05-06T19:57:34.226085Z"
    }
   },
   "outputs": [
    {
     "name": "stdout",
     "output_type": "stream",
     "text": [
      "R2 on test set: 0.8882335651347875\n",
      "RMSE: 2685.968331383495\n"
     ]
    },
    {
     "name": "stderr",
     "output_type": "stream",
     "text": [
      "/Users/lantyynka/PycharmProjects/datax-project/.venv/lib/python3.10/site-packages/sklearn/metrics/_regression.py:483: FutureWarning:\n",
      "\n",
      "'squared' is deprecated in version 1.4 and will be removed in 1.6. To calculate the root mean squared error, use the function'root_mean_squared_error'.\n",
      "\n"
     ]
    }
   ],
   "source": [
    "\n",
    "\n",
    "y_pred = regressor.predict(x_test)\n",
    "\n",
    "r2_cat = r2_score(y_test, y_pred)\n",
    "print(\"R2 on test set:\", r2_cat)\n"
   ]
  },
  {
   "cell_type": "markdown",
   "id": "0ac466bd",
   "metadata": {},
   "source": [
    "## Random forest\n",
    "R2 = "
   ]
  },
  {
   "cell_type": "code",
   "execution_count": null,
   "id": "a74a8092",
   "metadata": {},
   "outputs": [],
   "source": [
    "from sklearn.model_selection import GridSearchCV\n",
    "from sklearn.ensemble import RandomForestRegressor\n",
    "\n",
    "\n",
    "hyper_grid = {'n_estimators': [100, 200, 300, 500],\n",
    "               'max_features': [4,8,9],\n",
    "               'min_samples_split': [5,10, 20]}\n",
    "\n",
    "#reinstantiate RandomForestRegressor regressor with empty parameter set\n",
    "forest_model_cv = RandomForestRegressor()\n",
    "\n",
    "# Instantiate the GridSearchCV with forest_model_cv  as estimator\n",
    "forest = GridSearchCV(estimator = forest_model_cv, param_grid = hyper_grid, \n",
    "                          cv = 3, n_jobs = -1, verbose = 2)\n",
    "\n",
    "forest.fit(X_train, y_train.values.ravel()) #values.ravel() flattened array expected by RandomForestRegressor\n",
    "\n",
    "print(forest.best_params_)\n",
    "\n",
    "forest_model_opt= forest.best_estimator_\n",
    "y_pred_forest = forest_model_opt.predict(X_test)\n",
    "\n",
    "\n",
    "r2_forest = r2_score(y_test, y_pred_forest)\n",
    "print(\"R2: {:.2f}\".format(r2_forest))"
   ]
  }
 ],
 "metadata": {
  "kernelspec": {
   "display_name": "Python 3",
   "language": "python",
   "name": "python3"
  },
  "language_info": {
   "codemirror_mode": {
    "name": "ipython",
    "version": 3
   },
   "file_extension": ".py",
   "mimetype": "text/x-python",
   "name": "python",
   "nbconvert_exporter": "python",
   "pygments_lexer": "ipython3",
   "version": "3.12.1"
  }
 },
 "nbformat": 4,
 "nbformat_minor": 5
}
