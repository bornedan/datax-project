{
 "cells": [
  {
   "cell_type": "code",
   "execution_count": 1,
   "id": "initial_id",
   "metadata": {
    "ExecuteTime": {
     "end_time": "2024-05-06T19:57:22.488749Z",
     "start_time": "2024-05-06T19:57:22.462501Z"
    },
    "collapsed": true
   },
   "outputs": [],
   "source": [
    "import pandas as pd\n",
    "import pickle"
   ]
  },
  {
   "cell_type": "code",
   "execution_count": 2,
   "id": "660835fea898d56e",
   "metadata": {
    "ExecuteTime": {
     "end_time": "2024-05-06T19:57:22.524993Z",
     "start_time": "2024-05-06T19:57:22.492850Z"
    }
   },
   "outputs": [
    {
     "name": "stdout",
     "output_type": "stream",
     "text": [
      "Index(['host_id', 'host_response_time', 'host_response_rate',\n",
      "       'host_acceptance_rate', 'host_is_superhost', 'neighbourhood_cleansed',\n",
      "       'room_type', 'accommodates', 'bathrooms', 'bedrooms', 'price',\n",
      "       'minimum_nights', 'maximum_nights', 'instant_bookable',\n",
      "       'reviews_per_month', 'amenities_count', 'count_verifications',\n",
      "       'seasonal_availability', 'season', 'min_rating', 'max_rating',\n",
      "       'distance_from_city_centre'],\n",
      "      dtype='object')\n"
     ]
    }
   ],
   "source": [
    "pickle_path = \"../data/processed/final_data.pck\"\n",
    "\n",
    "# Load the pickle file\n",
    "with open(pickle_path, 'rb') as f:\n",
    "    data = pickle.load(f)\n",
    "\n",
    "print(data.columns)\n",
    "\n",
    "categorical_features = ['host_response_time', 'neighbourhood_cleansed', 'room_type', 'season']"
   ]
  },
  {
   "cell_type": "code",
   "execution_count": 337,
   "id": "f3cad0d3695814cd",
   "metadata": {
    "ExecuteTime": {
     "end_time": "2024-05-06T19:57:22.806938Z",
     "start_time": "2024-05-06T19:57:22.525867Z"
    }
   },
   "outputs": [
    {
     "name": "stdout",
     "output_type": "stream",
     "text": [
      "R2: 0.03\n"
     ]
    }
   ],
   "source": [
    "# Linear Regression\n",
    "\n",
    "from sklearn.linear_model import LinearRegression\n",
    "from sklearn.model_selection import train_test_split\n",
    "from sklearn.metrics import r2_score\n",
    "from sklearn.impute import SimpleImputer\n",
    "\n",
    "# Dummy encode categorical columns\n",
    "\n",
    "dummy_df = pd.get_dummies(data, columns=categorical_columns)\n",
    "\n",
    "# Split features (X) and target variable (y)\n",
    "X = dummy_df.drop('price', axis=1)  # Features\n",
    "y = dummy_df['price']  # Target variable\n",
    "\n",
    "# Impute missing values in X\n",
    "imputer = SimpleImputer(strategy='median')\n",
    "X_imputed = imputer.fit_transform(X)\n",
    "\n",
    "# Split the data into training and testing sets\n",
    "X_train, X_test, y_train, y_test = train_test_split(X_imputed, y, test_size=0.2, random_state=42)\n",
    "\n",
    "# Initialize and fit linear regression model\n",
    "linear_regressor = LinearRegression()\n",
    "linear_regressor.fit(X_train, y_train)\n",
    "\n",
    "# Predict on the testing set\n",
    "y_pred_linear = linear_regressor.predict(X_test)\n",
    "\n",
    "# Calculate R-squared score\n",
    "r2_linear = r2_score(y_test, y_pred_linear)\n",
    "print(\"R2: {:.2f}\".format(r2_linear))\n"
   ]
  },
  {
   "cell_type": "code",
   "execution_count": 338,
   "id": "fb1536e77fa9b2",
   "metadata": {
    "ExecuteTime": {
     "end_time": "2024-05-06T19:57:25.035304Z",
     "start_time": "2024-05-06T19:57:22.809674Z"
    }
   },
   "outputs": [
    {
     "name": "stdout",
     "output_type": "stream",
     "text": [
      "R2 (CatBoost): 0.56\n",
      "RMSE (CatBoost): 24911.48\n"
     ]
    }
   ],
   "source": [
    "# Catboost 1 - all selected features\n",
    "\n",
    "from catboost import CatBoostRegressor\n",
    "from sklearn.metrics import mean_squared_error\n",
    "import numpy as np\n",
    "\n",
    "X = data.drop('price', axis=1) \n",
    "y = data['price']\n",
    "\n",
    "catboost_regressor = CatBoostRegressor(iterations=1000,\n",
    "                                       learning_rate=0.1,\n",
    "                                       depth=8,\n",
    "                                       loss_function='RMSE',\n",
    "                                       verbose=0)\n",
    "catboost_regressor.fit(X_train, y_train)\n",
    "\n",
    "# Predict on the testing set\n",
    "y_pred_catboost = catboost_regressor.predict(X_test)\n",
    "\n",
    "# R2\n",
    "r2_catboost = r2_score(y_test, y_pred_catboost)\n",
    "print(\"R2 (CatBoost): {:.2f}\".format(r2_catboost))\n",
    "\n",
    "# MSE\n",
    "mse_catboost = mean_squared_error(y_test, y_pred_catboost)\n",
    "\n",
    "# RMSE\n",
    "rmse_catboost = np.sqrt(mse_catboost)\n",
    "\n",
    "print(\"RMSE (CatBoost): {:.2f}\".format(rmse_catboost))"
   ]
  },
  {
   "cell_type": "code",
   "execution_count": 339,
   "id": "f063e458a6c56d8b",
   "metadata": {
    "ExecuteTime": {
     "end_time": "2024-05-06T19:57:34.224775Z",
     "start_time": "2024-05-06T19:57:25.036992Z"
    }
   },
   "outputs": [
    {
     "name": "stderr",
     "output_type": "stream",
     "text": [
      "/var/folders/zh/ldm1m0cx0v9cw1816rqb1mgw0000gn/T/ipykernel_551/1070339045.py:6: FutureWarning:\n",
      "\n",
      "A value is trying to be set on a copy of a DataFrame or Series through chained assignment using an inplace method.\n",
      "The behavior will change in pandas 3.0. This inplace method will never work because the intermediate object on which we are setting values always behaves as a copy.\n",
      "\n",
      "For example, when doing 'df[col].method(value, inplace=True)', try using 'df.method({col: value}, inplace=True)' or df[col] = df[col].method(value) instead, to perform the operation inplace on the original object.\n",
      "\n",
      "\n",
      "\n"
     ]
    },
    {
     "data": {
      "application/vnd.jupyter.widget-view+json": {
       "model_id": "2a2d37f592ad43b8b0b78f37cc4e9f29",
       "version_major": 2,
       "version_minor": 0
      },
      "text/plain": [
       "MetricVisualizer(layout=Layout(align_self='stretch', height='500px'))"
      ]
     },
     "metadata": {},
     "output_type": "display_data"
    },
    {
     "name": "stdout",
     "output_type": "stream",
     "text": [
      "Learning rate set to 0.12087\n",
      "Step #1 out of 4\n",
      "0:\tlearn: 0.1043200\ttest: 0.2027838\tbest: 0.2027838 (0)\ttotal: 7.29ms\tremaining: 2.91s\n",
      "10:\tlearn: 0.5788850\ttest: 0.6497267\tbest: 0.6497267 (10)\ttotal: 87.9ms\tremaining: 3.11s\n",
      "20:\tlearn: 0.7943710\ttest: 0.4913172\tbest: 0.6503638 (11)\ttotal: 148ms\tremaining: 2.66s\n",
      "30:\tlearn: 0.8930556\ttest: 0.0035191\tbest: 0.6503638 (11)\ttotal: 208ms\tremaining: 2.47s\n",
      "40:\tlearn: 0.9405800\ttest: -0.4394253\tbest: 0.6503638 (11)\ttotal: 253ms\tremaining: 2.21s\n",
      "50:\tlearn: 0.9674468\ttest: -1.0268974\tbest: 0.6503638 (11)\ttotal: 297ms\tremaining: 2.03s\n",
      "60:\tlearn: 0.9833810\ttest: -1.2733901\tbest: 0.6503638 (11)\ttotal: 371ms\tremaining: 2.06s\n",
      "70:\tlearn: 0.9918853\ttest: -1.3687757\tbest: 0.6503638 (11)\ttotal: 436ms\tremaining: 2.02s\n",
      "80:\tlearn: 0.9956712\ttest: -1.4693121\tbest: 0.6503638 (11)\ttotal: 486ms\tremaining: 1.91s\n",
      "90:\tlearn: 0.9974620\ttest: -1.5504525\tbest: 0.6503638 (11)\ttotal: 538ms\tremaining: 1.83s\n",
      "100:\tlearn: 0.9984643\ttest: -1.6251751\tbest: 0.6503638 (11)\ttotal: 583ms\tremaining: 1.73s\n",
      "110:\tlearn: 0.9990199\ttest: -1.6703316\tbest: 0.6503638 (11)\ttotal: 623ms\tremaining: 1.62s\n",
      "120:\tlearn: 0.9993485\ttest: -1.7272119\tbest: 0.6503638 (11)\ttotal: 677ms\tremaining: 1.56s\n",
      "130:\tlearn: 0.9995486\ttest: -1.7578320\tbest: 0.6503638 (11)\ttotal: 716ms\tremaining: 1.47s\n",
      "140:\tlearn: 0.9996968\ttest: -1.8195412\tbest: 0.6503638 (11)\ttotal: 757ms\tremaining: 1.39s\n",
      "150:\tlearn: 0.9997777\ttest: -1.8474566\tbest: 0.6503638 (11)\ttotal: 795ms\tremaining: 1.31s\n",
      "160:\tlearn: 0.9998229\ttest: -1.8538185\tbest: 0.6503638 (11)\ttotal: 835ms\tremaining: 1.24s\n",
      "170:\tlearn: 0.9998518\ttest: -1.8529140\tbest: 0.6503638 (11)\ttotal: 875ms\tremaining: 1.17s\n",
      "180:\tlearn: 0.9998749\ttest: -1.8458888\tbest: 0.6503638 (11)\ttotal: 921ms\tremaining: 1.11s\n",
      "190:\tlearn: 0.9998907\ttest: -1.8463049\tbest: 0.6503638 (11)\ttotal: 964ms\tremaining: 1.05s\n",
      "200:\tlearn: 0.9999076\ttest: -1.8423687\tbest: 0.6503638 (11)\ttotal: 1.03s\tremaining: 1.02s\n",
      "210:\tlearn: 0.9999212\ttest: -1.8398623\tbest: 0.6503638 (11)\ttotal: 1.09s\tremaining: 976ms\n",
      "220:\tlearn: 0.9999307\ttest: -1.8411357\tbest: 0.6503638 (11)\ttotal: 1.13s\tremaining: 917ms\n",
      "230:\tlearn: 0.9999378\ttest: -1.8396521\tbest: 0.6503638 (11)\ttotal: 1.17s\tremaining: 859ms\n",
      "240:\tlearn: 0.9999445\ttest: -1.8443482\tbest: 0.6503638 (11)\ttotal: 1.23s\tremaining: 814ms\n",
      "250:\tlearn: 0.9999490\ttest: -1.8434806\tbest: 0.6503638 (11)\ttotal: 1.29s\tremaining: 768ms\n",
      "260:\tlearn: 0.9999538\ttest: -1.8478083\tbest: 0.6503638 (11)\ttotal: 1.36s\tremaining: 723ms\n",
      "270:\tlearn: 0.9999582\ttest: -1.8490966\tbest: 0.6503638 (11)\ttotal: 1.42s\tremaining: 675ms\n",
      "280:\tlearn: 0.9999615\ttest: -1.8535567\tbest: 0.6503638 (11)\ttotal: 1.48s\tremaining: 626ms\n",
      "290:\tlearn: 0.9999650\ttest: -1.8539735\tbest: 0.6503638 (11)\ttotal: 1.53s\tremaining: 573ms\n",
      "300:\tlearn: 0.9999674\ttest: -1.8565583\tbest: 0.6503638 (11)\ttotal: 1.57s\tremaining: 518ms\n",
      "310:\tlearn: 0.9999696\ttest: -1.8589453\tbest: 0.6503638 (11)\ttotal: 1.62s\tremaining: 464ms\n",
      "320:\tlearn: 0.9999711\ttest: -1.8580522\tbest: 0.6503638 (11)\ttotal: 1.67s\tremaining: 410ms\n",
      "330:\tlearn: 0.9999731\ttest: -1.8630295\tbest: 0.6503638 (11)\ttotal: 1.71s\tremaining: 356ms\n",
      "340:\tlearn: 0.9999748\ttest: -1.8628874\tbest: 0.6503638 (11)\ttotal: 1.76s\tremaining: 304ms\n",
      "350:\tlearn: 0.9999764\ttest: -1.8638375\tbest: 0.6503638 (11)\ttotal: 1.82s\tremaining: 255ms\n",
      "360:\tlearn: 0.9999777\ttest: -1.8637268\tbest: 0.6503638 (11)\ttotal: 1.88s\tremaining: 203ms\n",
      "370:\tlearn: 0.9999788\ttest: -1.8641139\tbest: 0.6503638 (11)\ttotal: 1.91s\tremaining: 149ms\n",
      "380:\tlearn: 0.9999801\ttest: -1.8664388\tbest: 0.6503638 (11)\ttotal: 1.96s\tremaining: 97.6ms\n",
      "390:\tlearn: 0.9999811\ttest: -1.8665355\tbest: 0.6503638 (11)\ttotal: 2s\tremaining: 46.2ms\n",
      "399:\tlearn: 0.9999819\ttest: -1.8672063\tbest: 0.6503638 (11)\ttotal: 2.04s\tremaining: 0us\n",
      "\n",
      "bestTest = 0.6503637898\n",
      "bestIteration = 11\n",
      "\n",
      "Shrink model to first 12 iterations.\n",
      "Feature #8 eliminated\n",
      "Feature #0 eliminated\n",
      "Feature #9 eliminated\n",
      "Feature #19 eliminated\n",
      "Step #2 out of 4\n",
      "0:\tlearn: 0.1092958\ttest: 0.4896967\tbest: 0.4896967 (0)\ttotal: 4.33ms\tremaining: 1.73s\n",
      "10:\tlearn: 0.6365247\ttest: 0.6046400\tbest: 0.7299901 (6)\ttotal: 37.6ms\tremaining: 1.33s\n",
      "20:\tlearn: 0.8044029\ttest: -0.0070617\tbest: 0.7299901 (6)\ttotal: 72.8ms\tremaining: 1.31s\n",
      "30:\tlearn: 0.8985832\ttest: -1.4102243\tbest: 0.7299901 (6)\ttotal: 110ms\tremaining: 1.31s\n",
      "40:\tlearn: 0.9447670\ttest: -2.3162169\tbest: 0.7299901 (6)\ttotal: 148ms\tremaining: 1.29s\n",
      "50:\tlearn: 0.9685978\ttest: -3.0588227\tbest: 0.7299901 (6)\ttotal: 181ms\tremaining: 1.24s\n",
      "60:\tlearn: 0.9837467\ttest: -4.0972734\tbest: 0.7299901 (6)\ttotal: 216ms\tremaining: 1.2s\n",
      "70:\tlearn: 0.9915859\ttest: -4.5648290\tbest: 0.7299901 (6)\ttotal: 250ms\tremaining: 1.16s\n",
      "80:\tlearn: 0.9955838\ttest: -4.6201657\tbest: 0.7299901 (6)\ttotal: 301ms\tremaining: 1.19s\n",
      "90:\tlearn: 0.9974674\ttest: -4.7295245\tbest: 0.7299901 (6)\ttotal: 357ms\tremaining: 1.21s\n",
      "100:\tlearn: 0.9986667\ttest: -4.7932614\tbest: 0.7299901 (6)\ttotal: 448ms\tremaining: 1.32s\n",
      "110:\tlearn: 0.9991659\ttest: -4.9227833\tbest: 0.7299901 (6)\ttotal: 524ms\tremaining: 1.36s\n",
      "120:\tlearn: 0.9994628\ttest: -5.0176113\tbest: 0.7299901 (6)\ttotal: 597ms\tremaining: 1.38s\n",
      "130:\tlearn: 0.9996319\ttest: -5.0347802\tbest: 0.7299901 (6)\ttotal: 652ms\tremaining: 1.34s\n",
      "140:\tlearn: 0.9997377\ttest: -5.0746704\tbest: 0.7299901 (6)\ttotal: 693ms\tremaining: 1.27s\n",
      "150:\tlearn: 0.9998037\ttest: -5.1079274\tbest: 0.7299901 (6)\ttotal: 727ms\tremaining: 1.2s\n",
      "160:\tlearn: 0.9998235\ttest: -5.1177124\tbest: 0.7299901 (6)\ttotal: 764ms\tremaining: 1.13s\n",
      "170:\tlearn: 0.9998514\ttest: -5.1181848\tbest: 0.7299901 (6)\ttotal: 801ms\tremaining: 1.07s\n",
      "180:\tlearn: 0.9998789\ttest: -5.1295902\tbest: 0.7299901 (6)\ttotal: 844ms\tremaining: 1.02s\n",
      "190:\tlearn: 0.9998949\ttest: -5.1471821\tbest: 0.7299901 (6)\ttotal: 887ms\tremaining: 970ms\n",
      "200:\tlearn: 0.9999143\ttest: -5.1708650\tbest: 0.7299901 (6)\ttotal: 925ms\tremaining: 916ms\n",
      "210:\tlearn: 0.9999244\ttest: -5.1740756\tbest: 0.7299901 (6)\ttotal: 961ms\tremaining: 861ms\n",
      "220:\tlearn: 0.9999353\ttest: -5.1751378\tbest: 0.7299901 (6)\ttotal: 998ms\tremaining: 808ms\n",
      "230:\tlearn: 0.9999447\ttest: -5.1793479\tbest: 0.7299901 (6)\ttotal: 1.04s\tremaining: 762ms\n",
      "240:\tlearn: 0.9999499\ttest: -5.1844439\tbest: 0.7299901 (6)\ttotal: 1.08s\tremaining: 710ms\n",
      "250:\tlearn: 0.9999541\ttest: -5.1931699\tbest: 0.7299901 (6)\ttotal: 1.11s\tremaining: 660ms\n",
      "260:\tlearn: 0.9999585\ttest: -5.1945189\tbest: 0.7299901 (6)\ttotal: 1.15s\tremaining: 611ms\n",
      "270:\tlearn: 0.9999616\ttest: -5.1919396\tbest: 0.7299901 (6)\ttotal: 1.18s\tremaining: 564ms\n",
      "280:\tlearn: 0.9999647\ttest: -5.1942100\tbest: 0.7299901 (6)\ttotal: 1.26s\tremaining: 533ms\n",
      "290:\tlearn: 0.9999670\ttest: -5.1953151\tbest: 0.7299901 (6)\ttotal: 1.32s\tremaining: 493ms\n",
      "300:\tlearn: 0.9999688\ttest: -5.1951697\tbest: 0.7299901 (6)\ttotal: 1.35s\tremaining: 446ms\n",
      "310:\tlearn: 0.9999706\ttest: -5.1959482\tbest: 0.7299901 (6)\ttotal: 1.39s\tremaining: 398ms\n",
      "320:\tlearn: 0.9999722\ttest: -5.1918646\tbest: 0.7299901 (6)\ttotal: 1.43s\tremaining: 351ms\n",
      "330:\tlearn: 0.9999739\ttest: -5.1910691\tbest: 0.7299901 (6)\ttotal: 1.47s\tremaining: 306ms\n",
      "340:\tlearn: 0.9999754\ttest: -5.1879293\tbest: 0.7299901 (6)\ttotal: 1.51s\tremaining: 261ms\n",
      "350:\tlearn: 0.9999768\ttest: -5.1865408\tbest: 0.7299901 (6)\ttotal: 1.55s\tremaining: 216ms\n",
      "360:\tlearn: 0.9999780\ttest: -5.1890739\tbest: 0.7299901 (6)\ttotal: 1.58s\tremaining: 171ms\n",
      "370:\tlearn: 0.9999789\ttest: -5.1876677\tbest: 0.7299901 (6)\ttotal: 1.62s\tremaining: 127ms\n",
      "380:\tlearn: 0.9999798\ttest: -5.1879876\tbest: 0.7299901 (6)\ttotal: 1.68s\tremaining: 83.9ms\n",
      "390:\tlearn: 0.9999809\ttest: -5.1879896\tbest: 0.7299901 (6)\ttotal: 1.72s\tremaining: 39.7ms\n",
      "399:\tlearn: 0.9999815\ttest: -5.1884021\tbest: 0.7299901 (6)\ttotal: 1.76s\tremaining: 0us\n",
      "\n",
      "bestTest = 0.7299900627\n",
      "bestIteration = 6\n",
      "\n",
      "Shrink model to first 7 iterations.\n",
      "Feature #7 eliminated\n",
      "Feature #17 eliminated\n",
      "Feature #11 eliminated\n",
      "Step #3 out of 4\n",
      "0:\tlearn: 0.0713484\ttest: 0.2554405\tbest: 0.2554405 (0)\ttotal: 7.28ms\tremaining: 2.9s\n",
      "10:\tlearn: 0.6279125\ttest: 0.7533977\tbest: 0.7533977 (10)\ttotal: 66.4ms\tremaining: 2.35s\n",
      "20:\tlearn: 0.8188120\ttest: 0.7853122\tbest: 0.7930438 (15)\ttotal: 122ms\tremaining: 2.19s\n",
      "30:\tlearn: 0.8972728\ttest: 0.7830325\tbest: 0.7930438 (15)\ttotal: 164ms\tremaining: 1.95s\n",
      "40:\tlearn: 0.9402624\ttest: 0.7690170\tbest: 0.7930438 (15)\ttotal: 208ms\tremaining: 1.82s\n",
      "50:\tlearn: 0.9683838\ttest: 0.7774274\tbest: 0.7930438 (15)\ttotal: 240ms\tremaining: 1.64s\n",
      "60:\tlearn: 0.9820237\ttest: 0.8024487\tbest: 0.8045779 (58)\ttotal: 274ms\tremaining: 1.52s\n",
      "70:\tlearn: 0.9893728\ttest: 0.8171171\tbest: 0.8171171 (70)\ttotal: 306ms\tremaining: 1.42s\n",
      "80:\tlearn: 0.9932768\ttest: 0.8240960\tbest: 0.8240960 (80)\ttotal: 341ms\tremaining: 1.34s\n",
      "90:\tlearn: 0.9956483\ttest: 0.8291580\tbest: 0.8292999 (89)\ttotal: 379ms\tremaining: 1.29s\n",
      "100:\tlearn: 0.9969120\ttest: 0.8282104\tbest: 0.8299293 (95)\ttotal: 410ms\tremaining: 1.21s\n",
      "110:\tlearn: 0.9977761\ttest: 0.8269075\tbest: 0.8299293 (95)\ttotal: 444ms\tremaining: 1.16s\n",
      "120:\tlearn: 0.9984027\ttest: 0.8240098\tbest: 0.8299293 (95)\ttotal: 479ms\tremaining: 1.1s\n",
      "130:\tlearn: 0.9988491\ttest: 0.8213729\tbest: 0.8299293 (95)\ttotal: 585ms\tremaining: 1.2s\n",
      "140:\tlearn: 0.9991808\ttest: 0.8184927\tbest: 0.8299293 (95)\ttotal: 648ms\tremaining: 1.19s\n",
      "150:\tlearn: 0.9993860\ttest: 0.8106382\tbest: 0.8299293 (95)\ttotal: 685ms\tremaining: 1.13s\n",
      "160:\tlearn: 0.9995380\ttest: 0.8056465\tbest: 0.8299293 (95)\ttotal: 721ms\tremaining: 1.07s\n",
      "170:\tlearn: 0.9996179\ttest: 0.8055823\tbest: 0.8299293 (95)\ttotal: 755ms\tremaining: 1.01s\n",
      "180:\tlearn: 0.9996706\ttest: 0.8014296\tbest: 0.8299293 (95)\ttotal: 795ms\tremaining: 962ms\n",
      "190:\tlearn: 0.9997307\ttest: 0.7984714\tbest: 0.8299293 (95)\ttotal: 835ms\tremaining: 914ms\n",
      "200:\tlearn: 0.9997549\ttest: 0.7994258\tbest: 0.8299293 (95)\ttotal: 882ms\tremaining: 873ms\n",
      "210:\tlearn: 0.9997919\ttest: 0.7997597\tbest: 0.8299293 (95)\ttotal: 918ms\tremaining: 823ms\n",
      "220:\tlearn: 0.9998241\ttest: 0.8010760\tbest: 0.8299293 (95)\ttotal: 950ms\tremaining: 770ms\n",
      "230:\tlearn: 0.9998420\ttest: 0.7990457\tbest: 0.8299293 (95)\ttotal: 988ms\tremaining: 722ms\n",
      "240:\tlearn: 0.9998528\ttest: 0.7988675\tbest: 0.8299293 (95)\ttotal: 1.03s\tremaining: 677ms\n",
      "250:\tlearn: 0.9998705\ttest: 0.8005642\tbest: 0.8299293 (95)\ttotal: 1.06s\tremaining: 630ms\n",
      "260:\tlearn: 0.9998801\ttest: 0.7999200\tbest: 0.8299293 (95)\ttotal: 1.12s\tremaining: 597ms\n",
      "270:\tlearn: 0.9998890\ttest: 0.7991360\tbest: 0.8299293 (95)\ttotal: 1.16s\tremaining: 550ms\n",
      "280:\tlearn: 0.9998957\ttest: 0.7989874\tbest: 0.8299293 (95)\ttotal: 1.19s\tremaining: 503ms\n",
      "290:\tlearn: 0.9999069\ttest: 0.8009576\tbest: 0.8299293 (95)\ttotal: 1.22s\tremaining: 458ms\n",
      "300:\tlearn: 0.9999172\ttest: 0.8008859\tbest: 0.8299293 (95)\ttotal: 1.26s\tremaining: 416ms\n",
      "310:\tlearn: 0.9999238\ttest: 0.7997912\tbest: 0.8299293 (95)\ttotal: 1.3s\tremaining: 372ms\n",
      "320:\tlearn: 0.9999290\ttest: 0.7993052\tbest: 0.8299293 (95)\ttotal: 1.33s\tremaining: 329ms\n",
      "330:\tlearn: 0.9999357\ttest: 0.7990359\tbest: 0.8299293 (95)\ttotal: 1.37s\tremaining: 285ms\n",
      "340:\tlearn: 0.9999390\ttest: 0.7997826\tbest: 0.8299293 (95)\ttotal: 1.4s\tremaining: 243ms\n",
      "350:\tlearn: 0.9999440\ttest: 0.7999359\tbest: 0.8299293 (95)\ttotal: 1.44s\tremaining: 201ms\n",
      "360:\tlearn: 0.9999462\ttest: 0.8000017\tbest: 0.8299293 (95)\ttotal: 1.47s\tremaining: 159ms\n",
      "370:\tlearn: 0.9999498\ttest: 0.8007230\tbest: 0.8299293 (95)\ttotal: 1.54s\tremaining: 120ms\n",
      "380:\tlearn: 0.9999539\ttest: 0.7996002\tbest: 0.8299293 (95)\ttotal: 1.6s\tremaining: 79.6ms\n",
      "390:\tlearn: 0.9999556\ttest: 0.7993494\tbest: 0.8299293 (95)\ttotal: 1.63s\tremaining: 37.6ms\n",
      "399:\tlearn: 0.9999575\ttest: 0.7998143\tbest: 0.8299293 (95)\ttotal: 1.69s\tremaining: 0us\n",
      "\n",
      "bestTest = 0.8299292985\n",
      "bestIteration = 95\n",
      "\n",
      "Shrink model to first 96 iterations.\n",
      "Feature #15 eliminated\n",
      "Feature #13 eliminated\n",
      "Feature #2 eliminated\n",
      "Step #4 out of 4\n",
      "0:\tlearn: 0.0789775\ttest: 0.0785624\tbest: 0.0785624 (0)\ttotal: 3.49ms\tremaining: 1.39s\n",
      "10:\tlearn: 0.6110208\ttest: 0.5600339\tbest: 0.5600339 (10)\ttotal: 35ms\tremaining: 1.24s\n",
      "20:\tlearn: 0.8077799\ttest: 0.8208673\tbest: 0.8208673 (20)\ttotal: 69.1ms\tremaining: 1.25s\n",
      "30:\tlearn: 0.8973960\ttest: 0.8270802\tbest: 0.8273524 (29)\ttotal: 99.2ms\tremaining: 1.18s\n",
      "40:\tlearn: 0.9393596\ttest: 0.8341485\tbest: 0.8341485 (40)\ttotal: 154ms\tremaining: 1.35s\n",
      "50:\tlearn: 0.9673648\ttest: 0.8517002\tbest: 0.8517002 (50)\ttotal: 203ms\tremaining: 1.39s\n",
      "60:\tlearn: 0.9817606\ttest: 0.8688305\tbest: 0.8688305 (60)\ttotal: 239ms\tremaining: 1.33s\n",
      "70:\tlearn: 0.9894164\ttest: 0.8877702\tbest: 0.8877702 (70)\ttotal: 275ms\tremaining: 1.27s\n",
      "80:\tlearn: 0.9932969\ttest: 0.8926982\tbest: 0.8928373 (79)\ttotal: 309ms\tremaining: 1.22s\n",
      "90:\tlearn: 0.9956925\ttest: 0.8876587\tbest: 0.8958631 (84)\ttotal: 361ms\tremaining: 1.22s\n",
      "100:\tlearn: 0.9968951\ttest: 0.8769860\tbest: 0.8958631 (84)\ttotal: 401ms\tremaining: 1.19s\n",
      "110:\tlearn: 0.9976371\ttest: 0.8721239\tbest: 0.8958631 (84)\ttotal: 440ms\tremaining: 1.15s\n",
      "120:\tlearn: 0.9980544\ttest: 0.8723315\tbest: 0.8958631 (84)\ttotal: 479ms\tremaining: 1.1s\n",
      "130:\tlearn: 0.9984554\ttest: 0.8711450\tbest: 0.8958631 (84)\ttotal: 529ms\tremaining: 1.08s\n",
      "140:\tlearn: 0.9988864\ttest: 0.8710177\tbest: 0.8958631 (84)\ttotal: 562ms\tremaining: 1.03s\n",
      "150:\tlearn: 0.9991911\ttest: 0.8708623\tbest: 0.8958631 (84)\ttotal: 596ms\tremaining: 983ms\n",
      "160:\tlearn: 0.9993950\ttest: 0.8710174\tbest: 0.8958631 (84)\ttotal: 637ms\tremaining: 945ms\n",
      "170:\tlearn: 0.9995259\ttest: 0.8634923\tbest: 0.8958631 (84)\ttotal: 669ms\tremaining: 896ms\n",
      "180:\tlearn: 0.9995987\ttest: 0.8627424\tbest: 0.8958631 (84)\ttotal: 706ms\tremaining: 854ms\n",
      "190:\tlearn: 0.9996504\ttest: 0.8626384\tbest: 0.8958631 (84)\ttotal: 743ms\tremaining: 813ms\n",
      "200:\tlearn: 0.9997131\ttest: 0.8651779\tbest: 0.8958631 (84)\ttotal: 791ms\tremaining: 783ms\n",
      "210:\tlearn: 0.9997539\ttest: 0.8662254\tbest: 0.8958631 (84)\ttotal: 826ms\tremaining: 740ms\n",
      "220:\tlearn: 0.9997829\ttest: 0.8664058\tbest: 0.8958631 (84)\ttotal: 887ms\tremaining: 718ms\n",
      "230:\tlearn: 0.9998048\ttest: 0.8665982\tbest: 0.8958631 (84)\ttotal: 923ms\tremaining: 675ms\n",
      "240:\tlearn: 0.9998279\ttest: 0.8626927\tbest: 0.8958631 (84)\ttotal: 959ms\tremaining: 633ms\n",
      "250:\tlearn: 0.9998477\ttest: 0.8629342\tbest: 0.8958631 (84)\ttotal: 993ms\tremaining: 589ms\n",
      "260:\tlearn: 0.9998606\ttest: 0.8642077\tbest: 0.8958631 (84)\ttotal: 1.02s\tremaining: 546ms\n",
      "270:\tlearn: 0.9998730\ttest: 0.8642051\tbest: 0.8958631 (84)\ttotal: 1.06s\tremaining: 504ms\n",
      "280:\tlearn: 0.9998841\ttest: 0.8637141\tbest: 0.8958631 (84)\ttotal: 1.1s\tremaining: 465ms\n",
      "290:\tlearn: 0.9998971\ttest: 0.8640309\tbest: 0.8958631 (84)\ttotal: 1.14s\tremaining: 426ms\n",
      "300:\tlearn: 0.9999074\ttest: 0.8632311\tbest: 0.8958631 (84)\ttotal: 1.17s\tremaining: 385ms\n",
      "310:\tlearn: 0.9999136\ttest: 0.8633053\tbest: 0.8958631 (84)\ttotal: 1.24s\tremaining: 356ms\n",
      "320:\tlearn: 0.9999207\ttest: 0.8644414\tbest: 0.8958631 (84)\ttotal: 1.3s\tremaining: 320ms\n",
      "330:\tlearn: 0.9999278\ttest: 0.8649513\tbest: 0.8958631 (84)\ttotal: 1.36s\tremaining: 284ms\n",
      "340:\tlearn: 0.9999359\ttest: 0.8648280\tbest: 0.8958631 (84)\ttotal: 1.4s\tremaining: 242ms\n",
      "350:\tlearn: 0.9999405\ttest: 0.8660330\tbest: 0.8958631 (84)\ttotal: 1.43s\tremaining: 200ms\n",
      "360:\tlearn: 0.9999439\ttest: 0.8665579\tbest: 0.8958631 (84)\ttotal: 1.46s\tremaining: 158ms\n",
      "370:\tlearn: 0.9999463\ttest: 0.8670671\tbest: 0.8958631 (84)\ttotal: 1.5s\tremaining: 117ms\n",
      "380:\tlearn: 0.9999492\ttest: 0.8673331\tbest: 0.8958631 (84)\ttotal: 1.54s\tremaining: 77ms\n",
      "390:\tlearn: 0.9999516\ttest: 0.8670069\tbest: 0.8958631 (84)\ttotal: 1.58s\tremaining: 36.4ms\n",
      "399:\tlearn: 0.9999524\ttest: 0.8673072\tbest: 0.8958631 (84)\ttotal: 1.61s\tremaining: 0us\n",
      "\n",
      "bestTest = 0.8958630785\n",
      "bestIteration = 84\n",
      "\n",
      "Shrink model to first 85 iterations.\n",
      "Feature #4 eliminated\n",
      "Feature #16 eliminated\n",
      "Train final model\n",
      "0:\tlearn: 0.1043327\ttest: 0.0402169\tbest: 0.0402169 (0)\ttotal: 3.81ms\tremaining: 1.52s\n",
      "10:\tlearn: 0.6020187\ttest: 0.5665686\tbest: 0.5665686 (10)\ttotal: 34.4ms\tremaining: 1.22s\n",
      "20:\tlearn: 0.8037571\ttest: 0.7499491\tbest: 0.7499491 (20)\ttotal: 79.6ms\tremaining: 1.44s\n",
      "30:\tlearn: 0.8901126\ttest: 0.7554392\tbest: 0.7776071 (24)\ttotal: 125ms\tremaining: 1.49s\n",
      "40:\tlearn: 0.9363726\ttest: 0.7393468\tbest: 0.7776071 (24)\ttotal: 157ms\tremaining: 1.37s\n",
      "50:\tlearn: 0.9696053\ttest: 0.8086401\tbest: 0.8086401 (50)\ttotal: 188ms\tremaining: 1.29s\n",
      "60:\tlearn: 0.9850893\ttest: 0.8363524\tbest: 0.8363524 (60)\ttotal: 225ms\tremaining: 1.25s\n",
      "70:\tlearn: 0.9913009\ttest: 0.8455849\tbest: 0.8455849 (70)\ttotal: 257ms\tremaining: 1.19s\n",
      "80:\tlearn: 0.9945989\ttest: 0.8593129\tbest: 0.8594105 (79)\ttotal: 291ms\tremaining: 1.15s\n",
      "90:\tlearn: 0.9966095\ttest: 0.8539605\tbest: 0.8601149 (81)\ttotal: 327ms\tremaining: 1.11s\n",
      "100:\tlearn: 0.9976291\ttest: 0.8558836\tbest: 0.8601149 (81)\ttotal: 361ms\tremaining: 1.07s\n",
      "110:\tlearn: 0.9984098\ttest: 0.8616832\tbest: 0.8642211 (105)\ttotal: 399ms\tremaining: 1.04s\n",
      "120:\tlearn: 0.9988689\ttest: 0.8635578\tbest: 0.8660519 (111)\ttotal: 437ms\tremaining: 1.01s\n",
      "130:\tlearn: 0.9991379\ttest: 0.8707100\tbest: 0.8734480 (127)\ttotal: 471ms\tremaining: 967ms\n",
      "140:\tlearn: 0.9993632\ttest: 0.8757390\tbest: 0.8767586 (138)\ttotal: 510ms\tremaining: 937ms\n",
      "150:\tlearn: 0.9994904\ttest: 0.8774585\tbest: 0.8784546 (149)\ttotal: 550ms\tremaining: 907ms\n",
      "160:\tlearn: 0.9995866\ttest: 0.8799869\tbest: 0.8799996 (157)\ttotal: 586ms\tremaining: 870ms\n",
      "170:\tlearn: 0.9996721\ttest: 0.8821818\tbest: 0.8825466 (169)\ttotal: 620ms\tremaining: 830ms\n",
      "180:\tlearn: 0.9997277\ttest: 0.8858168\tbest: 0.8858168 (180)\ttotal: 652ms\tremaining: 789ms\n",
      "190:\tlearn: 0.9997748\ttest: 0.8874469\tbest: 0.8874469 (190)\ttotal: 728ms\tremaining: 796ms\n",
      "200:\tlearn: 0.9997961\ttest: 0.8874746\tbest: 0.8876932 (198)\ttotal: 772ms\tremaining: 764ms\n",
      "210:\tlearn: 0.9998232\ttest: 0.8876895\tbest: 0.8876932 (198)\ttotal: 806ms\tremaining: 722ms\n",
      "220:\tlearn: 0.9998471\ttest: 0.8880292\tbest: 0.8881411 (219)\ttotal: 840ms\tremaining: 680ms\n",
      "230:\tlearn: 0.9998598\ttest: 0.8877823\tbest: 0.8882336 (225)\ttotal: 874ms\tremaining: 639ms\n",
      "240:\tlearn: 0.9998765\ttest: 0.8873657\tbest: 0.8882336 (225)\ttotal: 904ms\tremaining: 597ms\n",
      "250:\tlearn: 0.9998915\ttest: 0.8868900\tbest: 0.8882336 (225)\ttotal: 941ms\tremaining: 559ms\n",
      "260:\tlearn: 0.9999024\ttest: 0.8868322\tbest: 0.8882336 (225)\ttotal: 981ms\tremaining: 523ms\n",
      "270:\tlearn: 0.9999091\ttest: 0.8872474\tbest: 0.8882336 (225)\ttotal: 1.01s\tremaining: 483ms\n",
      "280:\tlearn: 0.9999180\ttest: 0.8874613\tbest: 0.8882336 (225)\ttotal: 1.05s\tremaining: 444ms\n",
      "290:\tlearn: 0.9999261\ttest: 0.8875040\tbest: 0.8882336 (225)\ttotal: 1.08s\tremaining: 404ms\n",
      "300:\tlearn: 0.9999339\ttest: 0.8875437\tbest: 0.8882336 (225)\ttotal: 1.25s\tremaining: 410ms\n",
      "310:\tlearn: 0.9999397\ttest: 0.8877191\tbest: 0.8882336 (225)\ttotal: 1.34s\tremaining: 384ms\n",
      "320:\tlearn: 0.9999444\ttest: 0.8875366\tbest: 0.8882336 (225)\ttotal: 1.37s\tremaining: 338ms\n",
      "330:\tlearn: 0.9999483\ttest: 0.8873947\tbest: 0.8882336 (225)\ttotal: 1.41s\tremaining: 293ms\n",
      "340:\tlearn: 0.9999514\ttest: 0.8875215\tbest: 0.8882336 (225)\ttotal: 1.44s\tremaining: 250ms\n",
      "350:\tlearn: 0.9999540\ttest: 0.8874112\tbest: 0.8882336 (225)\ttotal: 1.48s\tremaining: 207ms\n",
      "360:\tlearn: 0.9999567\ttest: 0.8876757\tbest: 0.8882336 (225)\ttotal: 1.52s\tremaining: 164ms\n",
      "370:\tlearn: 0.9999603\ttest: 0.8876399\tbest: 0.8882336 (225)\ttotal: 1.55s\tremaining: 121ms\n",
      "380:\tlearn: 0.9999624\ttest: 0.8875850\tbest: 0.8882336 (225)\ttotal: 1.59s\tremaining: 79.1ms\n",
      "390:\tlearn: 0.9999645\ttest: 0.8874538\tbest: 0.8882336 (225)\ttotal: 1.62s\tremaining: 37.3ms\n",
      "399:\tlearn: 0.9999661\ttest: 0.8874287\tbest: 0.8882336 (225)\ttotal: 1.65s\tremaining: 0us\n",
      "\n",
      "bestTest = 0.8882335651\n",
      "bestIteration = 225\n",
      "\n",
      "Shrink model to first 226 iterations.\n"
     ]
    },
    {
     "data": {
      "application/vnd.plotly.v1+json": {
       "config": {
        "plotlyServerURL": "https://plot.ly"
       },
       "data": [
        {
         "line": {
          "color": "rgb(51,160,44)"
         },
         "mode": "lines+markers",
         "name": "",
         "text": [
          "",
          "bathrooms",
          "host_id",
          "bedrooms",
          "min_rating",
          "accommodates",
          "seasonal_availability",
          "minimum_nights",
          "amenities_count",
          "instant_bookable",
          "host_response_rate",
          "host_is_superhost",
          "count_verifications"
         ],
         "type": "scatter",
         "x": [
          0,
          1,
          2,
          3,
          4,
          5,
          6,
          7,
          8,
          9,
          10,
          11,
          12
         ],
         "y": [
          4750.653890152772,
          4360.883944094657,
          4298.239981256354,
          4235.074245075886,
          4174.794117476791,
          3489.0034046860237,
          3325.600144966964,
          3313.293743264333,
          2608.9653166894223,
          2600.386469741207,
          2592.671873446891,
          2685.294751707694,
          2685.968331383495
         ]
        },
        {
         "marker": {
          "size": 10,
          "symbol": "square"
         },
         "mode": "markers",
         "name": "",
         "text": [
          "",
          "min_rating",
          "minimum_nights",
          "host_response_rate",
          "count_verifications"
         ],
         "type": "scatter",
         "x": [
          0,
          4,
          7,
          10,
          12
         ],
         "y": [
          4750.653890152772,
          4174.794117476791,
          3313.293743264333,
          2592.671873446891,
          2685.968331383495
         ]
        },
        {
         "mode": "text",
         "name": "",
         "text": [
          "",
          "8",
          "0",
          "9",
          "19",
          "7",
          "17",
          "11",
          "15",
          "13",
          "2",
          "4",
          "16"
         ],
         "textfont": {
          "color": "rgb(51,160,44)",
          "family": "sans serif",
          "size": 18
         },
         "textposition": "bottom center",
         "type": "scatter",
         "visible": false,
         "x": [
          0,
          1,
          2,
          3,
          4,
          5,
          6,
          7,
          8,
          9,
          10,
          11,
          12
         ],
         "y": [
          4750.653890152772,
          4360.883944094657,
          4298.239981256354,
          4235.074245075886,
          4174.794117476791,
          3489.0034046860237,
          3325.600144966964,
          3313.293743264333,
          2608.9653166894223,
          2600.386469741207,
          2592.671873446891,
          2685.294751707694,
          2685.968331383495
         ]
        },
        {
         "mode": "text",
         "name": "",
         "text": [
          "",
          "bathrooms",
          "host_id",
          "bedrooms",
          "min_rating",
          "accommodates",
          "seasonal_availability",
          "minimum_nights",
          "amenities_count",
          "instant_bookable",
          "host_response_rate",
          "host_is_superhost",
          "count_verifications"
         ],
         "textfont": {
          "color": "rgb(51,160,44)",
          "family": "sans serif",
          "size": 18
         },
         "textposition": "bottom center",
         "type": "scatter",
         "visible": false,
         "x": [
          0,
          1,
          2,
          3,
          4,
          5,
          6,
          7,
          8,
          9,
          10,
          11,
          12
         ],
         "y": [
          4750.653890152772,
          4360.883944094657,
          4298.239981256354,
          4235.074245075886,
          4174.794117476791,
          3489.0034046860237,
          3325.600144966964,
          3313.293743264333,
          2608.9653166894223,
          2600.386469741207,
          2592.671873446891,
          2685.294751707694,
          2685.968331383495
         ]
        }
       ],
       "layout": {
        "showlegend": false,
        "template": {
         "data": {
          "bar": [
           {
            "error_x": {
             "color": "#2a3f5f"
            },
            "error_y": {
             "color": "#2a3f5f"
            },
            "marker": {
             "line": {
              "color": "#E5ECF6",
              "width": 0.5
             },
             "pattern": {
              "fillmode": "overlay",
              "size": 10,
              "solidity": 0.2
             }
            },
            "type": "bar"
           }
          ],
          "barpolar": [
           {
            "marker": {
             "line": {
              "color": "#E5ECF6",
              "width": 0.5
             },
             "pattern": {
              "fillmode": "overlay",
              "size": 10,
              "solidity": 0.2
             }
            },
            "type": "barpolar"
           }
          ],
          "carpet": [
           {
            "aaxis": {
             "endlinecolor": "#2a3f5f",
             "gridcolor": "white",
             "linecolor": "white",
             "minorgridcolor": "white",
             "startlinecolor": "#2a3f5f"
            },
            "baxis": {
             "endlinecolor": "#2a3f5f",
             "gridcolor": "white",
             "linecolor": "white",
             "minorgridcolor": "white",
             "startlinecolor": "#2a3f5f"
            },
            "type": "carpet"
           }
          ],
          "choropleth": [
           {
            "colorbar": {
             "outlinewidth": 0,
             "ticks": ""
            },
            "type": "choropleth"
           }
          ],
          "contour": [
           {
            "colorbar": {
             "outlinewidth": 0,
             "ticks": ""
            },
            "colorscale": [
             [
              0,
              "#0d0887"
             ],
             [
              0.1111111111111111,
              "#46039f"
             ],
             [
              0.2222222222222222,
              "#7201a8"
             ],
             [
              0.3333333333333333,
              "#9c179e"
             ],
             [
              0.4444444444444444,
              "#bd3786"
             ],
             [
              0.5555555555555556,
              "#d8576b"
             ],
             [
              0.6666666666666666,
              "#ed7953"
             ],
             [
              0.7777777777777778,
              "#fb9f3a"
             ],
             [
              0.8888888888888888,
              "#fdca26"
             ],
             [
              1,
              "#f0f921"
             ]
            ],
            "type": "contour"
           }
          ],
          "contourcarpet": [
           {
            "colorbar": {
             "outlinewidth": 0,
             "ticks": ""
            },
            "type": "contourcarpet"
           }
          ],
          "heatmap": [
           {
            "colorbar": {
             "outlinewidth": 0,
             "ticks": ""
            },
            "colorscale": [
             [
              0,
              "#0d0887"
             ],
             [
              0.1111111111111111,
              "#46039f"
             ],
             [
              0.2222222222222222,
              "#7201a8"
             ],
             [
              0.3333333333333333,
              "#9c179e"
             ],
             [
              0.4444444444444444,
              "#bd3786"
             ],
             [
              0.5555555555555556,
              "#d8576b"
             ],
             [
              0.6666666666666666,
              "#ed7953"
             ],
             [
              0.7777777777777778,
              "#fb9f3a"
             ],
             [
              0.8888888888888888,
              "#fdca26"
             ],
             [
              1,
              "#f0f921"
             ]
            ],
            "type": "heatmap"
           }
          ],
          "heatmapgl": [
           {
            "colorbar": {
             "outlinewidth": 0,
             "ticks": ""
            },
            "colorscale": [
             [
              0,
              "#0d0887"
             ],
             [
              0.1111111111111111,
              "#46039f"
             ],
             [
              0.2222222222222222,
              "#7201a8"
             ],
             [
              0.3333333333333333,
              "#9c179e"
             ],
             [
              0.4444444444444444,
              "#bd3786"
             ],
             [
              0.5555555555555556,
              "#d8576b"
             ],
             [
              0.6666666666666666,
              "#ed7953"
             ],
             [
              0.7777777777777778,
              "#fb9f3a"
             ],
             [
              0.8888888888888888,
              "#fdca26"
             ],
             [
              1,
              "#f0f921"
             ]
            ],
            "type": "heatmapgl"
           }
          ],
          "histogram": [
           {
            "marker": {
             "pattern": {
              "fillmode": "overlay",
              "size": 10,
              "solidity": 0.2
             }
            },
            "type": "histogram"
           }
          ],
          "histogram2d": [
           {
            "colorbar": {
             "outlinewidth": 0,
             "ticks": ""
            },
            "colorscale": [
             [
              0,
              "#0d0887"
             ],
             [
              0.1111111111111111,
              "#46039f"
             ],
             [
              0.2222222222222222,
              "#7201a8"
             ],
             [
              0.3333333333333333,
              "#9c179e"
             ],
             [
              0.4444444444444444,
              "#bd3786"
             ],
             [
              0.5555555555555556,
              "#d8576b"
             ],
             [
              0.6666666666666666,
              "#ed7953"
             ],
             [
              0.7777777777777778,
              "#fb9f3a"
             ],
             [
              0.8888888888888888,
              "#fdca26"
             ],
             [
              1,
              "#f0f921"
             ]
            ],
            "type": "histogram2d"
           }
          ],
          "histogram2dcontour": [
           {
            "colorbar": {
             "outlinewidth": 0,
             "ticks": ""
            },
            "colorscale": [
             [
              0,
              "#0d0887"
             ],
             [
              0.1111111111111111,
              "#46039f"
             ],
             [
              0.2222222222222222,
              "#7201a8"
             ],
             [
              0.3333333333333333,
              "#9c179e"
             ],
             [
              0.4444444444444444,
              "#bd3786"
             ],
             [
              0.5555555555555556,
              "#d8576b"
             ],
             [
              0.6666666666666666,
              "#ed7953"
             ],
             [
              0.7777777777777778,
              "#fb9f3a"
             ],
             [
              0.8888888888888888,
              "#fdca26"
             ],
             [
              1,
              "#f0f921"
             ]
            ],
            "type": "histogram2dcontour"
           }
          ],
          "mesh3d": [
           {
            "colorbar": {
             "outlinewidth": 0,
             "ticks": ""
            },
            "type": "mesh3d"
           }
          ],
          "parcoords": [
           {
            "line": {
             "colorbar": {
              "outlinewidth": 0,
              "ticks": ""
             }
            },
            "type": "parcoords"
           }
          ],
          "pie": [
           {
            "automargin": true,
            "type": "pie"
           }
          ],
          "scatter": [
           {
            "fillpattern": {
             "fillmode": "overlay",
             "size": 10,
             "solidity": 0.2
            },
            "type": "scatter"
           }
          ],
          "scatter3d": [
           {
            "line": {
             "colorbar": {
              "outlinewidth": 0,
              "ticks": ""
             }
            },
            "marker": {
             "colorbar": {
              "outlinewidth": 0,
              "ticks": ""
             }
            },
            "type": "scatter3d"
           }
          ],
          "scattercarpet": [
           {
            "marker": {
             "colorbar": {
              "outlinewidth": 0,
              "ticks": ""
             }
            },
            "type": "scattercarpet"
           }
          ],
          "scattergeo": [
           {
            "marker": {
             "colorbar": {
              "outlinewidth": 0,
              "ticks": ""
             }
            },
            "type": "scattergeo"
           }
          ],
          "scattergl": [
           {
            "marker": {
             "colorbar": {
              "outlinewidth": 0,
              "ticks": ""
             }
            },
            "type": "scattergl"
           }
          ],
          "scattermapbox": [
           {
            "marker": {
             "colorbar": {
              "outlinewidth": 0,
              "ticks": ""
             }
            },
            "type": "scattermapbox"
           }
          ],
          "scatterpolar": [
           {
            "marker": {
             "colorbar": {
              "outlinewidth": 0,
              "ticks": ""
             }
            },
            "type": "scatterpolar"
           }
          ],
          "scatterpolargl": [
           {
            "marker": {
             "colorbar": {
              "outlinewidth": 0,
              "ticks": ""
             }
            },
            "type": "scatterpolargl"
           }
          ],
          "scatterternary": [
           {
            "marker": {
             "colorbar": {
              "outlinewidth": 0,
              "ticks": ""
             }
            },
            "type": "scatterternary"
           }
          ],
          "surface": [
           {
            "colorbar": {
             "outlinewidth": 0,
             "ticks": ""
            },
            "colorscale": [
             [
              0,
              "#0d0887"
             ],
             [
              0.1111111111111111,
              "#46039f"
             ],
             [
              0.2222222222222222,
              "#7201a8"
             ],
             [
              0.3333333333333333,
              "#9c179e"
             ],
             [
              0.4444444444444444,
              "#bd3786"
             ],
             [
              0.5555555555555556,
              "#d8576b"
             ],
             [
              0.6666666666666666,
              "#ed7953"
             ],
             [
              0.7777777777777778,
              "#fb9f3a"
             ],
             [
              0.8888888888888888,
              "#fdca26"
             ],
             [
              1,
              "#f0f921"
             ]
            ],
            "type": "surface"
           }
          ],
          "table": [
           {
            "cells": {
             "fill": {
              "color": "#EBF0F8"
             },
             "line": {
              "color": "white"
             }
            },
            "header": {
             "fill": {
              "color": "#C8D4E3"
             },
             "line": {
              "color": "white"
             }
            },
            "type": "table"
           }
          ]
         },
         "layout": {
          "annotationdefaults": {
           "arrowcolor": "#2a3f5f",
           "arrowhead": 0,
           "arrowwidth": 1
          },
          "autotypenumbers": "strict",
          "coloraxis": {
           "colorbar": {
            "outlinewidth": 0,
            "ticks": ""
           }
          },
          "colorscale": {
           "diverging": [
            [
             0,
             "#8e0152"
            ],
            [
             0.1,
             "#c51b7d"
            ],
            [
             0.2,
             "#de77ae"
            ],
            [
             0.3,
             "#f1b6da"
            ],
            [
             0.4,
             "#fde0ef"
            ],
            [
             0.5,
             "#f7f7f7"
            ],
            [
             0.6,
             "#e6f5d0"
            ],
            [
             0.7,
             "#b8e186"
            ],
            [
             0.8,
             "#7fbc41"
            ],
            [
             0.9,
             "#4d9221"
            ],
            [
             1,
             "#276419"
            ]
           ],
           "sequential": [
            [
             0,
             "#0d0887"
            ],
            [
             0.1111111111111111,
             "#46039f"
            ],
            [
             0.2222222222222222,
             "#7201a8"
            ],
            [
             0.3333333333333333,
             "#9c179e"
            ],
            [
             0.4444444444444444,
             "#bd3786"
            ],
            [
             0.5555555555555556,
             "#d8576b"
            ],
            [
             0.6666666666666666,
             "#ed7953"
            ],
            [
             0.7777777777777778,
             "#fb9f3a"
            ],
            [
             0.8888888888888888,
             "#fdca26"
            ],
            [
             1,
             "#f0f921"
            ]
           ],
           "sequentialminus": [
            [
             0,
             "#0d0887"
            ],
            [
             0.1111111111111111,
             "#46039f"
            ],
            [
             0.2222222222222222,
             "#7201a8"
            ],
            [
             0.3333333333333333,
             "#9c179e"
            ],
            [
             0.4444444444444444,
             "#bd3786"
            ],
            [
             0.5555555555555556,
             "#d8576b"
            ],
            [
             0.6666666666666666,
             "#ed7953"
            ],
            [
             0.7777777777777778,
             "#fb9f3a"
            ],
            [
             0.8888888888888888,
             "#fdca26"
            ],
            [
             1,
             "#f0f921"
            ]
           ]
          },
          "colorway": [
           "#636efa",
           "#EF553B",
           "#00cc96",
           "#ab63fa",
           "#FFA15A",
           "#19d3f3",
           "#FF6692",
           "#B6E880",
           "#FF97FF",
           "#FECB52"
          ],
          "font": {
           "color": "#2a3f5f"
          },
          "geo": {
           "bgcolor": "white",
           "lakecolor": "white",
           "landcolor": "#E5ECF6",
           "showlakes": true,
           "showland": true,
           "subunitcolor": "white"
          },
          "hoverlabel": {
           "align": "left"
          },
          "hovermode": "closest",
          "mapbox": {
           "style": "light"
          },
          "paper_bgcolor": "white",
          "plot_bgcolor": "#E5ECF6",
          "polar": {
           "angularaxis": {
            "gridcolor": "white",
            "linecolor": "white",
            "ticks": ""
           },
           "bgcolor": "#E5ECF6",
           "radialaxis": {
            "gridcolor": "white",
            "linecolor": "white",
            "ticks": ""
           }
          },
          "scene": {
           "xaxis": {
            "backgroundcolor": "#E5ECF6",
            "gridcolor": "white",
            "gridwidth": 2,
            "linecolor": "white",
            "showbackground": true,
            "ticks": "",
            "zerolinecolor": "white"
           },
           "yaxis": {
            "backgroundcolor": "#E5ECF6",
            "gridcolor": "white",
            "gridwidth": 2,
            "linecolor": "white",
            "showbackground": true,
            "ticks": "",
            "zerolinecolor": "white"
           },
           "zaxis": {
            "backgroundcolor": "#E5ECF6",
            "gridcolor": "white",
            "gridwidth": 2,
            "linecolor": "white",
            "showbackground": true,
            "ticks": "",
            "zerolinecolor": "white"
           }
          },
          "shapedefaults": {
           "line": {
            "color": "#2a3f5f"
           }
          },
          "ternary": {
           "aaxis": {
            "gridcolor": "white",
            "linecolor": "white",
            "ticks": ""
           },
           "baxis": {
            "gridcolor": "white",
            "linecolor": "white",
            "ticks": ""
           },
           "bgcolor": "#E5ECF6",
           "caxis": {
            "gridcolor": "white",
            "linecolor": "white",
            "ticks": ""
           }
          },
          "title": {
           "x": 0.05
          },
          "xaxis": {
           "automargin": true,
           "gridcolor": "white",
           "linecolor": "white",
           "ticks": "",
           "title": {
            "standoff": 15
           },
           "zerolinecolor": "white",
           "zerolinewidth": 2
          },
          "yaxis": {
           "automargin": true,
           "gridcolor": "white",
           "linecolor": "white",
           "ticks": "",
           "title": {
            "standoff": 15
           },
           "zerolinecolor": "white",
           "zerolinewidth": 2
          }
         }
        },
        "title": {
         "text": "Loss by eliminated features"
        },
        "updatemenus": [
         {
          "active": 0,
          "buttons": [
           {
            "args": [
             {
              "visible": [
               true,
               true,
               false,
               false
              ]
             }
            ],
            "label": "Hide features",
            "method": "update"
           },
           {
            "args": [
             {
              "visible": [
               true,
               true,
               true,
               false
              ]
             }
            ],
            "label": "Show indices",
            "method": "update"
           },
           {
            "args": [
             {
              "visible": [
               true,
               true,
               false,
               true
              ]
             }
            ],
            "label": "Show names",
            "method": "update"
           }
          ],
          "pad": {
           "r": 10,
           "t": 10
          },
          "showactive": true,
          "x": -0.25,
          "xanchor": "left",
          "y": 1.03,
          "yanchor": "top"
         }
        ],
        "xaxis": {
         "gridcolor": "rgb(255,255,255)",
         "showgrid": true,
         "showline": false,
         "showticklabels": true,
         "tickcolor": "rgb(127,127,127)",
         "ticks": "outside",
         "title": {
          "text": "number of removed features"
         },
         "zeroline": false
        },
        "yaxis": {
         "gridcolor": "rgb(255,255,255)",
         "showgrid": true,
         "showline": false,
         "showticklabels": true,
         "tickcolor": "rgb(127,127,127)",
         "tickfont": {
          "color": "rgb(51,160,44)"
         },
         "ticks": "outside",
         "title": {
          "font": {
           "color": "rgb(51,160,44)"
          },
          "text": "loss value"
         },
         "zeroline": false
        }
       }
      },
      "text/html": [
       "<div>                            <div id=\"dbac1d86-4e21-495e-8853-6ecf96b7f3a4\" class=\"plotly-graph-div\" style=\"height:525px; width:100%;\"></div>            <script type=\"text/javascript\">                require([\"plotly\"], function(Plotly) {                    window.PLOTLYENV=window.PLOTLYENV || {};                                    if (document.getElementById(\"dbac1d86-4e21-495e-8853-6ecf96b7f3a4\")) {                    Plotly.newPlot(                        \"dbac1d86-4e21-495e-8853-6ecf96b7f3a4\",                        [{\"line\":{\"color\":\"rgb(51,160,44)\"},\"mode\":\"lines+markers\",\"name\":\"\",\"text\":[\"\",\"bathrooms\",\"host_id\",\"bedrooms\",\"min_rating\",\"accommodates\",\"seasonal_availability\",\"minimum_nights\",\"amenities_count\",\"instant_bookable\",\"host_response_rate\",\"host_is_superhost\",\"count_verifications\"],\"x\":[0,1,2,3,4,5,6,7,8,9,10,11,12],\"y\":[4750.653890152772,4360.883944094657,4298.239981256354,4235.074245075886,4174.794117476791,3489.0034046860237,3325.600144966964,3313.293743264333,2608.9653166894223,2600.386469741207,2592.671873446891,2685.294751707694,2685.968331383495],\"type\":\"scatter\"},{\"marker\":{\"size\":10,\"symbol\":\"square\"},\"mode\":\"markers\",\"name\":\"\",\"text\":[\"\",\"min_rating\",\"minimum_nights\",\"host_response_rate\",\"count_verifications\"],\"x\":[0,4,7,10,12],\"y\":[4750.653890152772,4174.794117476791,3313.293743264333,2592.671873446891,2685.968331383495],\"type\":\"scatter\"},{\"mode\":\"text\",\"name\":\"\",\"text\":[\"\",\"8\",\"0\",\"9\",\"19\",\"7\",\"17\",\"11\",\"15\",\"13\",\"2\",\"4\",\"16\"],\"textfont\":{\"color\":\"rgb(51,160,44)\",\"family\":\"sans serif\",\"size\":18},\"textposition\":\"bottom center\",\"visible\":false,\"x\":[0,1,2,3,4,5,6,7,8,9,10,11,12],\"y\":[4750.653890152772,4360.883944094657,4298.239981256354,4235.074245075886,4174.794117476791,3489.0034046860237,3325.600144966964,3313.293743264333,2608.9653166894223,2600.386469741207,2592.671873446891,2685.294751707694,2685.968331383495],\"type\":\"scatter\"},{\"mode\":\"text\",\"name\":\"\",\"text\":[\"\",\"bathrooms\",\"host_id\",\"bedrooms\",\"min_rating\",\"accommodates\",\"seasonal_availability\",\"minimum_nights\",\"amenities_count\",\"instant_bookable\",\"host_response_rate\",\"host_is_superhost\",\"count_verifications\"],\"textfont\":{\"color\":\"rgb(51,160,44)\",\"family\":\"sans serif\",\"size\":18},\"textposition\":\"bottom center\",\"visible\":false,\"x\":[0,1,2,3,4,5,6,7,8,9,10,11,12],\"y\":[4750.653890152772,4360.883944094657,4298.239981256354,4235.074245075886,4174.794117476791,3489.0034046860237,3325.600144966964,3313.293743264333,2608.9653166894223,2600.386469741207,2592.671873446891,2685.294751707694,2685.968331383495],\"type\":\"scatter\"}],                        {\"template\":{\"data\":{\"histogram2dcontour\":[{\"type\":\"histogram2dcontour\",\"colorbar\":{\"outlinewidth\":0,\"ticks\":\"\"},\"colorscale\":[[0.0,\"#0d0887\"],[0.1111111111111111,\"#46039f\"],[0.2222222222222222,\"#7201a8\"],[0.3333333333333333,\"#9c179e\"],[0.4444444444444444,\"#bd3786\"],[0.5555555555555556,\"#d8576b\"],[0.6666666666666666,\"#ed7953\"],[0.7777777777777778,\"#fb9f3a\"],[0.8888888888888888,\"#fdca26\"],[1.0,\"#f0f921\"]]}],\"choropleth\":[{\"type\":\"choropleth\",\"colorbar\":{\"outlinewidth\":0,\"ticks\":\"\"}}],\"histogram2d\":[{\"type\":\"histogram2d\",\"colorbar\":{\"outlinewidth\":0,\"ticks\":\"\"},\"colorscale\":[[0.0,\"#0d0887\"],[0.1111111111111111,\"#46039f\"],[0.2222222222222222,\"#7201a8\"],[0.3333333333333333,\"#9c179e\"],[0.4444444444444444,\"#bd3786\"],[0.5555555555555556,\"#d8576b\"],[0.6666666666666666,\"#ed7953\"],[0.7777777777777778,\"#fb9f3a\"],[0.8888888888888888,\"#fdca26\"],[1.0,\"#f0f921\"]]}],\"heatmap\":[{\"type\":\"heatmap\",\"colorbar\":{\"outlinewidth\":0,\"ticks\":\"\"},\"colorscale\":[[0.0,\"#0d0887\"],[0.1111111111111111,\"#46039f\"],[0.2222222222222222,\"#7201a8\"],[0.3333333333333333,\"#9c179e\"],[0.4444444444444444,\"#bd3786\"],[0.5555555555555556,\"#d8576b\"],[0.6666666666666666,\"#ed7953\"],[0.7777777777777778,\"#fb9f3a\"],[0.8888888888888888,\"#fdca26\"],[1.0,\"#f0f921\"]]}],\"heatmapgl\":[{\"type\":\"heatmapgl\",\"colorbar\":{\"outlinewidth\":0,\"ticks\":\"\"},\"colorscale\":[[0.0,\"#0d0887\"],[0.1111111111111111,\"#46039f\"],[0.2222222222222222,\"#7201a8\"],[0.3333333333333333,\"#9c179e\"],[0.4444444444444444,\"#bd3786\"],[0.5555555555555556,\"#d8576b\"],[0.6666666666666666,\"#ed7953\"],[0.7777777777777778,\"#fb9f3a\"],[0.8888888888888888,\"#fdca26\"],[1.0,\"#f0f921\"]]}],\"contourcarpet\":[{\"type\":\"contourcarpet\",\"colorbar\":{\"outlinewidth\":0,\"ticks\":\"\"}}],\"contour\":[{\"type\":\"contour\",\"colorbar\":{\"outlinewidth\":0,\"ticks\":\"\"},\"colorscale\":[[0.0,\"#0d0887\"],[0.1111111111111111,\"#46039f\"],[0.2222222222222222,\"#7201a8\"],[0.3333333333333333,\"#9c179e\"],[0.4444444444444444,\"#bd3786\"],[0.5555555555555556,\"#d8576b\"],[0.6666666666666666,\"#ed7953\"],[0.7777777777777778,\"#fb9f3a\"],[0.8888888888888888,\"#fdca26\"],[1.0,\"#f0f921\"]]}],\"surface\":[{\"type\":\"surface\",\"colorbar\":{\"outlinewidth\":0,\"ticks\":\"\"},\"colorscale\":[[0.0,\"#0d0887\"],[0.1111111111111111,\"#46039f\"],[0.2222222222222222,\"#7201a8\"],[0.3333333333333333,\"#9c179e\"],[0.4444444444444444,\"#bd3786\"],[0.5555555555555556,\"#d8576b\"],[0.6666666666666666,\"#ed7953\"],[0.7777777777777778,\"#fb9f3a\"],[0.8888888888888888,\"#fdca26\"],[1.0,\"#f0f921\"]]}],\"mesh3d\":[{\"type\":\"mesh3d\",\"colorbar\":{\"outlinewidth\":0,\"ticks\":\"\"}}],\"scatter\":[{\"fillpattern\":{\"fillmode\":\"overlay\",\"size\":10,\"solidity\":0.2},\"type\":\"scatter\"}],\"parcoords\":[{\"type\":\"parcoords\",\"line\":{\"colorbar\":{\"outlinewidth\":0,\"ticks\":\"\"}}}],\"scatterpolargl\":[{\"type\":\"scatterpolargl\",\"marker\":{\"colorbar\":{\"outlinewidth\":0,\"ticks\":\"\"}}}],\"bar\":[{\"error_x\":{\"color\":\"#2a3f5f\"},\"error_y\":{\"color\":\"#2a3f5f\"},\"marker\":{\"line\":{\"color\":\"#E5ECF6\",\"width\":0.5},\"pattern\":{\"fillmode\":\"overlay\",\"size\":10,\"solidity\":0.2}},\"type\":\"bar\"}],\"scattergeo\":[{\"type\":\"scattergeo\",\"marker\":{\"colorbar\":{\"outlinewidth\":0,\"ticks\":\"\"}}}],\"scatterpolar\":[{\"type\":\"scatterpolar\",\"marker\":{\"colorbar\":{\"outlinewidth\":0,\"ticks\":\"\"}}}],\"histogram\":[{\"marker\":{\"pattern\":{\"fillmode\":\"overlay\",\"size\":10,\"solidity\":0.2}},\"type\":\"histogram\"}],\"scattergl\":[{\"type\":\"scattergl\",\"marker\":{\"colorbar\":{\"outlinewidth\":0,\"ticks\":\"\"}}}],\"scatter3d\":[{\"type\":\"scatter3d\",\"line\":{\"colorbar\":{\"outlinewidth\":0,\"ticks\":\"\"}},\"marker\":{\"colorbar\":{\"outlinewidth\":0,\"ticks\":\"\"}}}],\"scattermapbox\":[{\"type\":\"scattermapbox\",\"marker\":{\"colorbar\":{\"outlinewidth\":0,\"ticks\":\"\"}}}],\"scatterternary\":[{\"type\":\"scatterternary\",\"marker\":{\"colorbar\":{\"outlinewidth\":0,\"ticks\":\"\"}}}],\"scattercarpet\":[{\"type\":\"scattercarpet\",\"marker\":{\"colorbar\":{\"outlinewidth\":0,\"ticks\":\"\"}}}],\"carpet\":[{\"aaxis\":{\"endlinecolor\":\"#2a3f5f\",\"gridcolor\":\"white\",\"linecolor\":\"white\",\"minorgridcolor\":\"white\",\"startlinecolor\":\"#2a3f5f\"},\"baxis\":{\"endlinecolor\":\"#2a3f5f\",\"gridcolor\":\"white\",\"linecolor\":\"white\",\"minorgridcolor\":\"white\",\"startlinecolor\":\"#2a3f5f\"},\"type\":\"carpet\"}],\"table\":[{\"cells\":{\"fill\":{\"color\":\"#EBF0F8\"},\"line\":{\"color\":\"white\"}},\"header\":{\"fill\":{\"color\":\"#C8D4E3\"},\"line\":{\"color\":\"white\"}},\"type\":\"table\"}],\"barpolar\":[{\"marker\":{\"line\":{\"color\":\"#E5ECF6\",\"width\":0.5},\"pattern\":{\"fillmode\":\"overlay\",\"size\":10,\"solidity\":0.2}},\"type\":\"barpolar\"}],\"pie\":[{\"automargin\":true,\"type\":\"pie\"}]},\"layout\":{\"autotypenumbers\":\"strict\",\"colorway\":[\"#636efa\",\"#EF553B\",\"#00cc96\",\"#ab63fa\",\"#FFA15A\",\"#19d3f3\",\"#FF6692\",\"#B6E880\",\"#FF97FF\",\"#FECB52\"],\"font\":{\"color\":\"#2a3f5f\"},\"hovermode\":\"closest\",\"hoverlabel\":{\"align\":\"left\"},\"paper_bgcolor\":\"white\",\"plot_bgcolor\":\"#E5ECF6\",\"polar\":{\"bgcolor\":\"#E5ECF6\",\"angularaxis\":{\"gridcolor\":\"white\",\"linecolor\":\"white\",\"ticks\":\"\"},\"radialaxis\":{\"gridcolor\":\"white\",\"linecolor\":\"white\",\"ticks\":\"\"}},\"ternary\":{\"bgcolor\":\"#E5ECF6\",\"aaxis\":{\"gridcolor\":\"white\",\"linecolor\":\"white\",\"ticks\":\"\"},\"baxis\":{\"gridcolor\":\"white\",\"linecolor\":\"white\",\"ticks\":\"\"},\"caxis\":{\"gridcolor\":\"white\",\"linecolor\":\"white\",\"ticks\":\"\"}},\"coloraxis\":{\"colorbar\":{\"outlinewidth\":0,\"ticks\":\"\"}},\"colorscale\":{\"sequential\":[[0.0,\"#0d0887\"],[0.1111111111111111,\"#46039f\"],[0.2222222222222222,\"#7201a8\"],[0.3333333333333333,\"#9c179e\"],[0.4444444444444444,\"#bd3786\"],[0.5555555555555556,\"#d8576b\"],[0.6666666666666666,\"#ed7953\"],[0.7777777777777778,\"#fb9f3a\"],[0.8888888888888888,\"#fdca26\"],[1.0,\"#f0f921\"]],\"sequentialminus\":[[0.0,\"#0d0887\"],[0.1111111111111111,\"#46039f\"],[0.2222222222222222,\"#7201a8\"],[0.3333333333333333,\"#9c179e\"],[0.4444444444444444,\"#bd3786\"],[0.5555555555555556,\"#d8576b\"],[0.6666666666666666,\"#ed7953\"],[0.7777777777777778,\"#fb9f3a\"],[0.8888888888888888,\"#fdca26\"],[1.0,\"#f0f921\"]],\"diverging\":[[0,\"#8e0152\"],[0.1,\"#c51b7d\"],[0.2,\"#de77ae\"],[0.3,\"#f1b6da\"],[0.4,\"#fde0ef\"],[0.5,\"#f7f7f7\"],[0.6,\"#e6f5d0\"],[0.7,\"#b8e186\"],[0.8,\"#7fbc41\"],[0.9,\"#4d9221\"],[1,\"#276419\"]]},\"xaxis\":{\"gridcolor\":\"white\",\"linecolor\":\"white\",\"ticks\":\"\",\"title\":{\"standoff\":15},\"zerolinecolor\":\"white\",\"automargin\":true,\"zerolinewidth\":2},\"yaxis\":{\"gridcolor\":\"white\",\"linecolor\":\"white\",\"ticks\":\"\",\"title\":{\"standoff\":15},\"zerolinecolor\":\"white\",\"automargin\":true,\"zerolinewidth\":2},\"scene\":{\"xaxis\":{\"backgroundcolor\":\"#E5ECF6\",\"gridcolor\":\"white\",\"linecolor\":\"white\",\"showbackground\":true,\"ticks\":\"\",\"zerolinecolor\":\"white\",\"gridwidth\":2},\"yaxis\":{\"backgroundcolor\":\"#E5ECF6\",\"gridcolor\":\"white\",\"linecolor\":\"white\",\"showbackground\":true,\"ticks\":\"\",\"zerolinecolor\":\"white\",\"gridwidth\":2},\"zaxis\":{\"backgroundcolor\":\"#E5ECF6\",\"gridcolor\":\"white\",\"linecolor\":\"white\",\"showbackground\":true,\"ticks\":\"\",\"zerolinecolor\":\"white\",\"gridwidth\":2}},\"shapedefaults\":{\"line\":{\"color\":\"#2a3f5f\"}},\"annotationdefaults\":{\"arrowcolor\":\"#2a3f5f\",\"arrowhead\":0,\"arrowwidth\":1},\"geo\":{\"bgcolor\":\"white\",\"landcolor\":\"#E5ECF6\",\"subunitcolor\":\"white\",\"showland\":true,\"showlakes\":true,\"lakecolor\":\"white\"},\"title\":{\"x\":0.05},\"mapbox\":{\"style\":\"light\"}}},\"title\":{\"text\":\"Loss by eliminated features\"},\"xaxis\":{\"title\":{\"text\":\"number of removed features\"},\"gridcolor\":\"rgb(255,255,255)\",\"showgrid\":true,\"showline\":false,\"showticklabels\":true,\"tickcolor\":\"rgb(127,127,127)\",\"ticks\":\"outside\",\"zeroline\":false},\"yaxis\":{\"title\":{\"text\":\"loss value\",\"font\":{\"color\":\"rgb(51,160,44)\"}},\"tickfont\":{\"color\":\"rgb(51,160,44)\"},\"gridcolor\":\"rgb(255,255,255)\",\"showgrid\":true,\"showline\":false,\"showticklabels\":true,\"tickcolor\":\"rgb(127,127,127)\",\"ticks\":\"outside\",\"zeroline\":false},\"updatemenus\":[{\"active\":0,\"buttons\":[{\"args\":[{\"visible\":[true,true,false,false]}],\"label\":\"Hide features\",\"method\":\"update\"},{\"args\":[{\"visible\":[true,true,true,false]}],\"label\":\"Show indices\",\"method\":\"update\"},{\"args\":[{\"visible\":[true,true,false,true]}],\"label\":\"Show names\",\"method\":\"update\"}],\"pad\":{\"r\":10,\"t\":10},\"showactive\":true,\"x\":-0.25,\"xanchor\":\"left\",\"y\":1.03,\"yanchor\":\"top\"}],\"showlegend\":false},                        {\"responsive\": true}                    ).then(function(){\n",
       "                            \n",
       "var gd = document.getElementById('dbac1d86-4e21-495e-8853-6ecf96b7f3a4');\n",
       "var x = new MutationObserver(function (mutations, observer) {{\n",
       "        var display = window.getComputedStyle(gd).display;\n",
       "        if (!display || display === 'none') {{\n",
       "            console.log([gd, 'removed!']);\n",
       "            Plotly.purge(gd);\n",
       "            observer.disconnect();\n",
       "        }}\n",
       "}});\n",
       "\n",
       "// Listen for the removal of the full notebook cells\n",
       "var notebookContainer = gd.closest('#notebook-container');\n",
       "if (notebookContainer) {{\n",
       "    x.observe(notebookContainer, {childList: true});\n",
       "}}\n",
       "\n",
       "// Listen for the clearing of the current output cell\n",
       "var outputEl = gd.closest('.output');\n",
       "if (outputEl) {{\n",
       "    x.observe(outputEl, {childList: true});\n",
       "}}\n",
       "\n",
       "                        })                };                });            </script>        </div>"
      ]
     },
     "metadata": {},
     "output_type": "display_data"
    }
   ],
   "source": [
    "# Catboost 2\n",
    "for feature in categorical_features:\n",
    "    data[feature] = data[feature].astype('category')\n",
    "    if 'Missing' not in data[feature].cat.categories:\n",
    "        data[feature] = data[feature].cat.add_categories('Missing')\n",
    "    data[feature].fillna('Missing', inplace=True)\n",
    "    \n",
    "train_size = 7000\n",
    "\n",
    "x_train = data.iloc[:train_size]\n",
    "y_train = data.iloc[:train_size]['price']\n",
    "\n",
    "x_test = data.iloc[train_size:]\n",
    "y_test = data.iloc[train_size:]['price']\n",
    "\n",
    "x_test = data.drop(x_train.index)\n",
    "\n",
    "y_test = data.drop(y_train.index)['price']\n",
    "regressor = CatBoostRegressor(eval_metric='R2',\n",
    "                              iterations = 400, \n",
    "                              cat_features = categorical_features, \n",
    "                              random_state = 123\n",
    "                              )\n",
    "rfe_dict = regressor.select_features(X = x_train, \n",
    "                                     y = y_train, \n",
    "                                     eval_set = (x_test,y_test),\n",
    "                                     features_for_select = '0-19',\n",
    "                                     num_features_to_select = 8, \n",
    "                                     steps = 4, \n",
    "                                     verbose = 10,\n",
    "                                     train_final_model = True, \n",
    "                                     plot = True\n",
    "                                     )"
   ]
  },
  {
   "cell_type": "code",
   "execution_count": 340,
   "id": "88fb9ef37ea5908a",
   "metadata": {
    "ExecuteTime": {
     "end_time": "2024-05-06T19:57:34.234285Z",
     "start_time": "2024-05-06T19:57:34.226085Z"
    }
   },
   "outputs": [
    {
     "name": "stdout",
     "output_type": "stream",
     "text": [
      "R2 on test set: 0.8882335651347875\n",
      "RMSE: 2685.968331383495\n"
     ]
    },
    {
     "name": "stderr",
     "output_type": "stream",
     "text": [
      "/Users/lantyynka/PycharmProjects/datax-project/.venv/lib/python3.10/site-packages/sklearn/metrics/_regression.py:483: FutureWarning:\n",
      "\n",
      "'squared' is deprecated in version 1.4 and will be removed in 1.6. To calculate the root mean squared error, use the function'root_mean_squared_error'.\n",
      "\n"
     ]
    }
   ],
   "source": [
    "from sklearn.metrics import mean_squared_error\n",
    "\n",
    "y_pred = regressor.predict(x_test)\n",
    "\n",
    "r2_cat = r2_score(y_test, y_pred)\n",
    "print(\"R2 on test set:\", r2_cat)\n",
    "\n",
    "rmse = mean_squared_error(y_test, y_pred, squared=False)\n",
    "print(\"RMSE:\", rmse)"
   ]
  },
  {
   "cell_type": "code",
   "execution_count": 341,
   "id": "794972b43a4bcf99",
   "metadata": {
    "ExecuteTime": {
     "end_time": "2024-05-06T19:57:43.257361Z",
     "start_time": "2024-05-06T19:57:34.236369Z"
    }
   },
   "outputs": [
    {
     "data": {
      "application/vnd.jupyter.widget-view+json": {
       "model_id": "0cadb254a21846d38afe2abbc970f13d",
       "version_major": 2,
       "version_minor": 0
      },
      "text/plain": [
       "MetricVisualizer(layout=Layout(align_self='stretch', height='500px'))"
      ]
     },
     "metadata": {},
     "output_type": "display_data"
    },
    {
     "name": "stdout",
     "output_type": "stream",
     "text": [
      "Learning rate set to 0.12087\n",
      "Step #1 out of 4\n",
      "0:\tlearn: 0.1043200\ttest: 0.2027838\tbest: 0.2027838 (0)\ttotal: 9.65ms\tremaining: 3.85s\n",
      "10:\tlearn: 0.5788850\ttest: 0.6497267\tbest: 0.6497267 (10)\ttotal: 120ms\tremaining: 4.24s\n",
      "20:\tlearn: 0.7943710\ttest: 0.4913172\tbest: 0.6503638 (11)\ttotal: 152ms\tremaining: 2.75s\n",
      "30:\tlearn: 0.8930556\ttest: 0.0035191\tbest: 0.6503638 (11)\ttotal: 192ms\tremaining: 2.28s\n",
      "40:\tlearn: 0.9405800\ttest: -0.4394253\tbest: 0.6503638 (11)\ttotal: 237ms\tremaining: 2.07s\n",
      "50:\tlearn: 0.9674468\ttest: -1.0268974\tbest: 0.6503638 (11)\ttotal: 280ms\tremaining: 1.92s\n",
      "60:\tlearn: 0.9833810\ttest: -1.2733901\tbest: 0.6503638 (11)\ttotal: 333ms\tremaining: 1.85s\n",
      "70:\tlearn: 0.9918853\ttest: -1.3687757\tbest: 0.6503638 (11)\ttotal: 395ms\tremaining: 1.83s\n",
      "80:\tlearn: 0.9956712\ttest: -1.4693121\tbest: 0.6503638 (11)\ttotal: 447ms\tremaining: 1.76s\n",
      "90:\tlearn: 0.9974620\ttest: -1.5504525\tbest: 0.6503638 (11)\ttotal: 502ms\tremaining: 1.7s\n",
      "100:\tlearn: 0.9984643\ttest: -1.6251751\tbest: 0.6503638 (11)\ttotal: 539ms\tremaining: 1.6s\n",
      "110:\tlearn: 0.9990199\ttest: -1.6703316\tbest: 0.6503638 (11)\ttotal: 574ms\tremaining: 1.49s\n",
      "120:\tlearn: 0.9993485\ttest: -1.7272119\tbest: 0.6503638 (11)\ttotal: 615ms\tremaining: 1.42s\n",
      "130:\tlearn: 0.9995486\ttest: -1.7578320\tbest: 0.6503638 (11)\ttotal: 666ms\tremaining: 1.37s\n",
      "140:\tlearn: 0.9996968\ttest: -1.8195412\tbest: 0.6503638 (11)\ttotal: 709ms\tremaining: 1.3s\n",
      "150:\tlearn: 0.9997777\ttest: -1.8474566\tbest: 0.6503638 (11)\ttotal: 746ms\tremaining: 1.23s\n",
      "160:\tlearn: 0.9998229\ttest: -1.8538185\tbest: 0.6503638 (11)\ttotal: 786ms\tremaining: 1.17s\n",
      "170:\tlearn: 0.9998518\ttest: -1.8529140\tbest: 0.6503638 (11)\ttotal: 825ms\tremaining: 1.1s\n",
      "180:\tlearn: 0.9998749\ttest: -1.8458888\tbest: 0.6503638 (11)\ttotal: 873ms\tremaining: 1.06s\n",
      "190:\tlearn: 0.9998907\ttest: -1.8463049\tbest: 0.6503638 (11)\ttotal: 935ms\tremaining: 1.02s\n",
      "200:\tlearn: 0.9999076\ttest: -1.8423687\tbest: 0.6503638 (11)\ttotal: 983ms\tremaining: 974ms\n",
      "210:\tlearn: 0.9999212\ttest: -1.8398623\tbest: 0.6503638 (11)\ttotal: 1.03s\tremaining: 922ms\n",
      "220:\tlearn: 0.9999307\ttest: -1.8411357\tbest: 0.6503638 (11)\ttotal: 1.07s\tremaining: 869ms\n",
      "230:\tlearn: 0.9999378\ttest: -1.8396521\tbest: 0.6503638 (11)\ttotal: 1.12s\tremaining: 820ms\n",
      "240:\tlearn: 0.9999445\ttest: -1.8443482\tbest: 0.6503638 (11)\ttotal: 1.17s\tremaining: 770ms\n",
      "250:\tlearn: 0.9999490\ttest: -1.8434806\tbest: 0.6503638 (11)\ttotal: 1.2s\tremaining: 715ms\n",
      "260:\tlearn: 0.9999538\ttest: -1.8478083\tbest: 0.6503638 (11)\ttotal: 1.24s\tremaining: 662ms\n",
      "270:\tlearn: 0.9999582\ttest: -1.8490966\tbest: 0.6503638 (11)\ttotal: 1.3s\tremaining: 618ms\n",
      "280:\tlearn: 0.9999615\ttest: -1.8535567\tbest: 0.6503638 (11)\ttotal: 1.35s\tremaining: 574ms\n",
      "290:\tlearn: 0.9999650\ttest: -1.8539735\tbest: 0.6503638 (11)\ttotal: 1.41s\tremaining: 526ms\n",
      "300:\tlearn: 0.9999674\ttest: -1.8565583\tbest: 0.6503638 (11)\ttotal: 1.46s\tremaining: 479ms\n",
      "310:\tlearn: 0.9999696\ttest: -1.8589453\tbest: 0.6503638 (11)\ttotal: 1.53s\tremaining: 439ms\n",
      "320:\tlearn: 0.9999711\ttest: -1.8580522\tbest: 0.6503638 (11)\ttotal: 1.57s\tremaining: 387ms\n",
      "330:\tlearn: 0.9999731\ttest: -1.8630295\tbest: 0.6503638 (11)\ttotal: 1.63s\tremaining: 339ms\n",
      "340:\tlearn: 0.9999748\ttest: -1.8628874\tbest: 0.6503638 (11)\ttotal: 1.69s\tremaining: 292ms\n",
      "350:\tlearn: 0.9999764\ttest: -1.8638375\tbest: 0.6503638 (11)\ttotal: 1.77s\tremaining: 247ms\n",
      "360:\tlearn: 0.9999777\ttest: -1.8637268\tbest: 0.6503638 (11)\ttotal: 1.82s\tremaining: 197ms\n",
      "370:\tlearn: 0.9999788\ttest: -1.8641139\tbest: 0.6503638 (11)\ttotal: 1.87s\tremaining: 146ms\n",
      "380:\tlearn: 0.9999801\ttest: -1.8664388\tbest: 0.6503638 (11)\ttotal: 1.95s\tremaining: 97.4ms\n",
      "390:\tlearn: 0.9999811\ttest: -1.8665355\tbest: 0.6503638 (11)\ttotal: 2.02s\tremaining: 46.5ms\n",
      "399:\tlearn: 0.9999819\ttest: -1.8672063\tbest: 0.6503638 (11)\ttotal: 2.07s\tremaining: 0us\n",
      "\n",
      "bestTest = 0.6503637898\n",
      "bestIteration = 11\n",
      "\n",
      "Shrink model to first 12 iterations.\n",
      "Feature #8 eliminated\n",
      "Feature #0 eliminated\n",
      "Feature #9 eliminated\n",
      "Feature #19 eliminated\n",
      "Step #2 out of 4\n",
      "0:\tlearn: 0.1092958\ttest: 0.4896967\tbest: 0.4896967 (0)\ttotal: 7.96ms\tremaining: 3.17s\n",
      "10:\tlearn: 0.6365247\ttest: 0.6046400\tbest: 0.7299901 (6)\ttotal: 62.5ms\tremaining: 2.21s\n",
      "20:\tlearn: 0.8044029\ttest: -0.0070617\tbest: 0.7299901 (6)\ttotal: 105ms\tremaining: 1.89s\n",
      "30:\tlearn: 0.8985832\ttest: -1.4102243\tbest: 0.7299901 (6)\ttotal: 152ms\tremaining: 1.81s\n",
      "40:\tlearn: 0.9447670\ttest: -2.3162169\tbest: 0.7299901 (6)\ttotal: 206ms\tremaining: 1.8s\n",
      "50:\tlearn: 0.9685978\ttest: -3.0588227\tbest: 0.7299901 (6)\ttotal: 252ms\tremaining: 1.73s\n",
      "60:\tlearn: 0.9837467\ttest: -4.0972734\tbest: 0.7299901 (6)\ttotal: 323ms\tremaining: 1.79s\n",
      "70:\tlearn: 0.9915859\ttest: -4.5648290\tbest: 0.7299901 (6)\ttotal: 394ms\tremaining: 1.83s\n",
      "80:\tlearn: 0.9955838\ttest: -4.6201657\tbest: 0.7299901 (6)\ttotal: 452ms\tremaining: 1.78s\n",
      "90:\tlearn: 0.9974674\ttest: -4.7295245\tbest: 0.7299901 (6)\ttotal: 502ms\tremaining: 1.7s\n",
      "100:\tlearn: 0.9986667\ttest: -4.7932614\tbest: 0.7299901 (6)\ttotal: 544ms\tremaining: 1.61s\n",
      "110:\tlearn: 0.9991659\ttest: -4.9227833\tbest: 0.7299901 (6)\ttotal: 607ms\tremaining: 1.58s\n",
      "120:\tlearn: 0.9994628\ttest: -5.0176113\tbest: 0.7299901 (6)\ttotal: 652ms\tremaining: 1.5s\n",
      "130:\tlearn: 0.9996319\ttest: -5.0347802\tbest: 0.7299901 (6)\ttotal: 699ms\tremaining: 1.44s\n",
      "140:\tlearn: 0.9997377\ttest: -5.0746704\tbest: 0.7299901 (6)\ttotal: 742ms\tremaining: 1.36s\n",
      "150:\tlearn: 0.9998037\ttest: -5.1079274\tbest: 0.7299901 (6)\ttotal: 791ms\tremaining: 1.3s\n",
      "160:\tlearn: 0.9998235\ttest: -5.1177124\tbest: 0.7299901 (6)\ttotal: 858ms\tremaining: 1.27s\n",
      "170:\tlearn: 0.9998514\ttest: -5.1181848\tbest: 0.7299901 (6)\ttotal: 922ms\tremaining: 1.23s\n",
      "180:\tlearn: 0.9998789\ttest: -5.1295902\tbest: 0.7299901 (6)\ttotal: 973ms\tremaining: 1.18s\n",
      "190:\tlearn: 0.9998949\ttest: -5.1471821\tbest: 0.7299901 (6)\ttotal: 1.02s\tremaining: 1.11s\n",
      "200:\tlearn: 0.9999143\ttest: -5.1708650\tbest: 0.7299901 (6)\ttotal: 1.06s\tremaining: 1.05s\n",
      "210:\tlearn: 0.9999244\ttest: -5.1740756\tbest: 0.7299901 (6)\ttotal: 1.11s\tremaining: 991ms\n",
      "220:\tlearn: 0.9999353\ttest: -5.1751378\tbest: 0.7299901 (6)\ttotal: 1.15s\tremaining: 930ms\n",
      "230:\tlearn: 0.9999447\ttest: -5.1793479\tbest: 0.7299901 (6)\ttotal: 1.19s\tremaining: 872ms\n",
      "240:\tlearn: 0.9999499\ttest: -5.1844439\tbest: 0.7299901 (6)\ttotal: 1.24s\tremaining: 815ms\n",
      "250:\tlearn: 0.9999541\ttest: -5.1931699\tbest: 0.7299901 (6)\ttotal: 1.29s\tremaining: 769ms\n",
      "260:\tlearn: 0.9999585\ttest: -5.1945189\tbest: 0.7299901 (6)\ttotal: 1.35s\tremaining: 720ms\n",
      "270:\tlearn: 0.9999616\ttest: -5.1919396\tbest: 0.7299901 (6)\ttotal: 1.4s\tremaining: 668ms\n",
      "280:\tlearn: 0.9999647\ttest: -5.1942100\tbest: 0.7299901 (6)\ttotal: 1.46s\tremaining: 617ms\n",
      "290:\tlearn: 0.9999670\ttest: -5.1953151\tbest: 0.7299901 (6)\ttotal: 1.51s\tremaining: 565ms\n",
      "300:\tlearn: 0.9999688\ttest: -5.1951697\tbest: 0.7299901 (6)\ttotal: 1.56s\tremaining: 513ms\n",
      "310:\tlearn: 0.9999706\ttest: -5.1959482\tbest: 0.7299901 (6)\ttotal: 1.67s\tremaining: 477ms\n",
      "320:\tlearn: 0.9999722\ttest: -5.1918646\tbest: 0.7299901 (6)\ttotal: 1.77s\tremaining: 436ms\n",
      "330:\tlearn: 0.9999739\ttest: -5.1910691\tbest: 0.7299901 (6)\ttotal: 1.89s\tremaining: 393ms\n",
      "340:\tlearn: 0.9999754\ttest: -5.1879293\tbest: 0.7299901 (6)\ttotal: 1.96s\tremaining: 340ms\n",
      "350:\tlearn: 0.9999768\ttest: -5.1865408\tbest: 0.7299901 (6)\ttotal: 2.04s\tremaining: 285ms\n",
      "360:\tlearn: 0.9999780\ttest: -5.1890739\tbest: 0.7299901 (6)\ttotal: 2.12s\tremaining: 229ms\n",
      "370:\tlearn: 0.9999789\ttest: -5.1876677\tbest: 0.7299901 (6)\ttotal: 2.18s\tremaining: 171ms\n",
      "380:\tlearn: 0.9999798\ttest: -5.1879876\tbest: 0.7299901 (6)\ttotal: 2.23s\tremaining: 111ms\n",
      "390:\tlearn: 0.9999809\ttest: -5.1879896\tbest: 0.7299901 (6)\ttotal: 2.29s\tremaining: 52.8ms\n",
      "399:\tlearn: 0.9999815\ttest: -5.1884021\tbest: 0.7299901 (6)\ttotal: 2.37s\tremaining: 0us\n",
      "\n",
      "bestTest = 0.7299900627\n",
      "bestIteration = 6\n",
      "\n",
      "Shrink model to first 7 iterations.\n",
      "Feature #7 eliminated\n",
      "Feature #17 eliminated\n",
      "Feature #11 eliminated\n",
      "Step #3 out of 4\n",
      "0:\tlearn: 0.0713484\ttest: 0.2554405\tbest: 0.2554405 (0)\ttotal: 5.33ms\tremaining: 2.13s\n",
      "10:\tlearn: 0.6279125\ttest: 0.7533977\tbest: 0.7533977 (10)\ttotal: 69.9ms\tremaining: 2.47s\n",
      "20:\tlearn: 0.8188120\ttest: 0.7853122\tbest: 0.7930438 (15)\ttotal: 130ms\tremaining: 2.35s\n",
      "30:\tlearn: 0.8972728\ttest: 0.7830325\tbest: 0.7930438 (15)\ttotal: 181ms\tremaining: 2.15s\n",
      "40:\tlearn: 0.9402624\ttest: 0.7690170\tbest: 0.7930438 (15)\ttotal: 228ms\tremaining: 1.99s\n",
      "50:\tlearn: 0.9683838\ttest: 0.7774274\tbest: 0.7930438 (15)\ttotal: 278ms\tremaining: 1.9s\n",
      "60:\tlearn: 0.9820237\ttest: 0.8024487\tbest: 0.8045779 (58)\ttotal: 337ms\tremaining: 1.87s\n",
      "70:\tlearn: 0.9893728\ttest: 0.8171171\tbest: 0.8171171 (70)\ttotal: 421ms\tremaining: 1.95s\n",
      "80:\tlearn: 0.9932768\ttest: 0.8240960\tbest: 0.8240960 (80)\ttotal: 524ms\tremaining: 2.06s\n",
      "90:\tlearn: 0.9956483\ttest: 0.8291580\tbest: 0.8292999 (89)\ttotal: 579ms\tremaining: 1.97s\n",
      "100:\tlearn: 0.9969120\ttest: 0.8282104\tbest: 0.8299293 (95)\ttotal: 623ms\tremaining: 1.84s\n",
      "110:\tlearn: 0.9977761\ttest: 0.8269075\tbest: 0.8299293 (95)\ttotal: 672ms\tremaining: 1.75s\n",
      "120:\tlearn: 0.9984027\ttest: 0.8240098\tbest: 0.8299293 (95)\ttotal: 715ms\tremaining: 1.65s\n",
      "130:\tlearn: 0.9988491\ttest: 0.8213729\tbest: 0.8299293 (95)\ttotal: 752ms\tremaining: 1.54s\n",
      "140:\tlearn: 0.9991808\ttest: 0.8184927\tbest: 0.8299293 (95)\ttotal: 791ms\tremaining: 1.45s\n",
      "150:\tlearn: 0.9993860\ttest: 0.8106382\tbest: 0.8299293 (95)\ttotal: 843ms\tremaining: 1.39s\n",
      "160:\tlearn: 0.9995380\ttest: 0.8056465\tbest: 0.8299293 (95)\ttotal: 913ms\tremaining: 1.35s\n",
      "170:\tlearn: 0.9996179\ttest: 0.8055823\tbest: 0.8299293 (95)\ttotal: 969ms\tremaining: 1.3s\n",
      "180:\tlearn: 0.9996706\ttest: 0.8014296\tbest: 0.8299293 (95)\ttotal: 1.03s\tremaining: 1.24s\n",
      "190:\tlearn: 0.9997307\ttest: 0.7984714\tbest: 0.8299293 (95)\ttotal: 1.09s\tremaining: 1.19s\n",
      "200:\tlearn: 0.9997549\ttest: 0.7994258\tbest: 0.8299293 (95)\ttotal: 1.15s\tremaining: 1.13s\n",
      "210:\tlearn: 0.9997919\ttest: 0.7997597\tbest: 0.8299293 (95)\ttotal: 1.2s\tremaining: 1.08s\n",
      "220:\tlearn: 0.9998241\ttest: 0.8010760\tbest: 0.8299293 (95)\ttotal: 1.26s\tremaining: 1.02s\n",
      "230:\tlearn: 0.9998420\ttest: 0.7990457\tbest: 0.8299293 (95)\ttotal: 1.31s\tremaining: 956ms\n",
      "240:\tlearn: 0.9998528\ttest: 0.7988675\tbest: 0.8299293 (95)\ttotal: 1.35s\tremaining: 894ms\n",
      "250:\tlearn: 0.9998705\ttest: 0.8005642\tbest: 0.8299293 (95)\ttotal: 1.4s\tremaining: 833ms\n",
      "260:\tlearn: 0.9998801\ttest: 0.7999200\tbest: 0.8299293 (95)\ttotal: 1.46s\tremaining: 779ms\n",
      "270:\tlearn: 0.9998890\ttest: 0.7991360\tbest: 0.8299293 (95)\ttotal: 1.52s\tremaining: 722ms\n",
      "280:\tlearn: 0.9998957\ttest: 0.7989874\tbest: 0.8299293 (95)\ttotal: 1.57s\tremaining: 666ms\n",
      "290:\tlearn: 0.9999069\ttest: 0.8009576\tbest: 0.8299293 (95)\ttotal: 1.63s\tremaining: 609ms\n",
      "300:\tlearn: 0.9999172\ttest: 0.8008859\tbest: 0.8299293 (95)\ttotal: 1.67s\tremaining: 550ms\n",
      "310:\tlearn: 0.9999238\ttest: 0.7997912\tbest: 0.8299293 (95)\ttotal: 1.72s\tremaining: 493ms\n",
      "320:\tlearn: 0.9999290\ttest: 0.7993052\tbest: 0.8299293 (95)\ttotal: 1.77s\tremaining: 436ms\n",
      "330:\tlearn: 0.9999357\ttest: 0.7990359\tbest: 0.8299293 (95)\ttotal: 1.82s\tremaining: 380ms\n",
      "340:\tlearn: 0.9999390\ttest: 0.7997826\tbest: 0.8299293 (95)\ttotal: 1.88s\tremaining: 326ms\n",
      "350:\tlearn: 0.9999440\ttest: 0.7999359\tbest: 0.8299293 (95)\ttotal: 1.93s\tremaining: 270ms\n",
      "360:\tlearn: 0.9999462\ttest: 0.8000017\tbest: 0.8299293 (95)\ttotal: 1.99s\tremaining: 215ms\n",
      "370:\tlearn: 0.9999498\ttest: 0.8007230\tbest: 0.8299293 (95)\ttotal: 2.06s\tremaining: 161ms\n",
      "380:\tlearn: 0.9999539\ttest: 0.7996002\tbest: 0.8299293 (95)\ttotal: 2.13s\tremaining: 106ms\n",
      "390:\tlearn: 0.9999556\ttest: 0.7993494\tbest: 0.8299293 (95)\ttotal: 2.18s\tremaining: 50.2ms\n",
      "399:\tlearn: 0.9999575\ttest: 0.7998143\tbest: 0.8299293 (95)\ttotal: 2.24s\tremaining: 0us\n",
      "\n",
      "bestTest = 0.8299292985\n",
      "bestIteration = 95\n",
      "\n",
      "Shrink model to first 96 iterations.\n",
      "Feature #15 eliminated\n",
      "Feature #13 eliminated\n",
      "Feature #2 eliminated\n",
      "Step #4 out of 4\n",
      "0:\tlearn: 0.0789775\ttest: 0.0785624\tbest: 0.0785624 (0)\ttotal: 7.37ms\tremaining: 2.94s\n",
      "10:\tlearn: 0.6110208\ttest: 0.5600339\tbest: 0.5600339 (10)\ttotal: 75.5ms\tremaining: 2.67s\n",
      "20:\tlearn: 0.8077799\ttest: 0.8208673\tbest: 0.8208673 (20)\ttotal: 139ms\tremaining: 2.5s\n",
      "30:\tlearn: 0.8973960\ttest: 0.8270802\tbest: 0.8273524 (29)\ttotal: 199ms\tremaining: 2.37s\n",
      "40:\tlearn: 0.9393596\ttest: 0.8341485\tbest: 0.8341485 (40)\ttotal: 244ms\tremaining: 2.14s\n",
      "50:\tlearn: 0.9673648\ttest: 0.8517002\tbest: 0.8517002 (50)\ttotal: 294ms\tremaining: 2.01s\n",
      "60:\tlearn: 0.9817606\ttest: 0.8688305\tbest: 0.8688305 (60)\ttotal: 343ms\tremaining: 1.91s\n",
      "70:\tlearn: 0.9894164\ttest: 0.8877702\tbest: 0.8877702 (70)\ttotal: 382ms\tremaining: 1.77s\n",
      "80:\tlearn: 0.9932969\ttest: 0.8926982\tbest: 0.8928373 (79)\ttotal: 427ms\tremaining: 1.68s\n",
      "90:\tlearn: 0.9956925\ttest: 0.8876587\tbest: 0.8958631 (84)\ttotal: 469ms\tremaining: 1.59s\n",
      "100:\tlearn: 0.9968951\ttest: 0.8769860\tbest: 0.8958631 (84)\ttotal: 530ms\tremaining: 1.57s\n",
      "110:\tlearn: 0.9976371\ttest: 0.8721239\tbest: 0.8958631 (84)\ttotal: 627ms\tremaining: 1.63s\n",
      "120:\tlearn: 0.9980544\ttest: 0.8723315\tbest: 0.8958631 (84)\ttotal: 673ms\tremaining: 1.55s\n",
      "130:\tlearn: 0.9984554\ttest: 0.8711450\tbest: 0.8958631 (84)\ttotal: 708ms\tremaining: 1.45s\n",
      "140:\tlearn: 0.9988864\ttest: 0.8710177\tbest: 0.8958631 (84)\ttotal: 751ms\tremaining: 1.38s\n",
      "150:\tlearn: 0.9991911\ttest: 0.8708623\tbest: 0.8958631 (84)\ttotal: 799ms\tremaining: 1.32s\n",
      "160:\tlearn: 0.9993950\ttest: 0.8710174\tbest: 0.8958631 (84)\ttotal: 840ms\tremaining: 1.25s\n",
      "170:\tlearn: 0.9995259\ttest: 0.8634923\tbest: 0.8958631 (84)\ttotal: 879ms\tremaining: 1.18s\n",
      "180:\tlearn: 0.9995987\ttest: 0.8627424\tbest: 0.8958631 (84)\ttotal: 928ms\tremaining: 1.12s\n",
      "190:\tlearn: 0.9996504\ttest: 0.8626384\tbest: 0.8958631 (84)\ttotal: 995ms\tremaining: 1.09s\n",
      "200:\tlearn: 0.9997131\ttest: 0.8651779\tbest: 0.8958631 (84)\ttotal: 1.06s\tremaining: 1.04s\n",
      "210:\tlearn: 0.9997539\ttest: 0.8662254\tbest: 0.8958631 (84)\ttotal: 1.11s\tremaining: 995ms\n",
      "220:\tlearn: 0.9997829\ttest: 0.8664058\tbest: 0.8958631 (84)\ttotal: 1.17s\tremaining: 949ms\n",
      "230:\tlearn: 0.9998048\ttest: 0.8665982\tbest: 0.8958631 (84)\ttotal: 1.22s\tremaining: 892ms\n",
      "240:\tlearn: 0.9998279\ttest: 0.8626927\tbest: 0.8958631 (84)\ttotal: 1.26s\tremaining: 833ms\n",
      "250:\tlearn: 0.9998477\ttest: 0.8629342\tbest: 0.8958631 (84)\ttotal: 1.3s\tremaining: 772ms\n",
      "260:\tlearn: 0.9998606\ttest: 0.8642077\tbest: 0.8958631 (84)\ttotal: 1.33s\tremaining: 711ms\n",
      "270:\tlearn: 0.9998730\ttest: 0.8642051\tbest: 0.8958631 (84)\ttotal: 1.37s\tremaining: 653ms\n",
      "280:\tlearn: 0.9998841\ttest: 0.8637141\tbest: 0.8958631 (84)\ttotal: 1.41s\tremaining: 597ms\n",
      "290:\tlearn: 0.9998971\ttest: 0.8640309\tbest: 0.8958631 (84)\ttotal: 1.46s\tremaining: 546ms\n",
      "300:\tlearn: 0.9999074\ttest: 0.8632311\tbest: 0.8958631 (84)\ttotal: 1.5s\tremaining: 495ms\n",
      "310:\tlearn: 0.9999136\ttest: 0.8633053\tbest: 0.8958631 (84)\ttotal: 1.54s\tremaining: 442ms\n",
      "320:\tlearn: 0.9999207\ttest: 0.8644414\tbest: 0.8958631 (84)\ttotal: 1.61s\tremaining: 397ms\n",
      "330:\tlearn: 0.9999278\ttest: 0.8649513\tbest: 0.8958631 (84)\ttotal: 1.67s\tremaining: 348ms\n",
      "340:\tlearn: 0.9999359\ttest: 0.8648280\tbest: 0.8958631 (84)\ttotal: 1.72s\tremaining: 297ms\n",
      "350:\tlearn: 0.9999405\ttest: 0.8660330\tbest: 0.8958631 (84)\ttotal: 1.76s\tremaining: 246ms\n",
      "360:\tlearn: 0.9999439\ttest: 0.8665579\tbest: 0.8958631 (84)\ttotal: 1.8s\tremaining: 195ms\n",
      "370:\tlearn: 0.9999463\ttest: 0.8670671\tbest: 0.8958631 (84)\ttotal: 1.85s\tremaining: 145ms\n",
      "380:\tlearn: 0.9999492\ttest: 0.8673331\tbest: 0.8958631 (84)\ttotal: 1.9s\tremaining: 94.6ms\n"
     ]
    },
    {
     "ename": "KeyboardInterrupt",
     "evalue": "",
     "output_type": "error",
     "traceback": [
      "\u001b[0;31m---------------------------------------------------------------------------\u001b[0m",
      "\u001b[0;31mKeyboardInterrupt\u001b[0m                         Traceback (most recent call last)",
      "Cell \u001b[0;32mIn[341], line 16\u001b[0m\n\u001b[1;32m      9\u001b[0m \u001b[38;5;66;03m# Initialize CatBoostRegressor\u001b[39;00m\n\u001b[1;32m     11\u001b[0m regressor \u001b[38;5;241m=\u001b[39m CatBoostRegressor(eval_metric\u001b[38;5;241m=\u001b[39m\u001b[38;5;124m'\u001b[39m\u001b[38;5;124mR2\u001b[39m\u001b[38;5;124m'\u001b[39m,\n\u001b[1;32m     12\u001b[0m                               iterations \u001b[38;5;241m=\u001b[39m \u001b[38;5;241m400\u001b[39m, \n\u001b[1;32m     13\u001b[0m                               cat_features \u001b[38;5;241m=\u001b[39m categorical_features, \n\u001b[1;32m     14\u001b[0m                               random_state \u001b[38;5;241m=\u001b[39m \u001b[38;5;241m123\u001b[39m\n\u001b[1;32m     15\u001b[0m                               )\n\u001b[0;32m---> 16\u001b[0m rfe_dict \u001b[38;5;241m=\u001b[39m \u001b[43mregressor\u001b[49m\u001b[38;5;241;43m.\u001b[39;49m\u001b[43mselect_features\u001b[49m\u001b[43m(\u001b[49m\u001b[43mX\u001b[49m\u001b[43m \u001b[49m\u001b[38;5;241;43m=\u001b[39;49m\u001b[43m \u001b[49m\u001b[43mx_train\u001b[49m\u001b[43m,\u001b[49m\u001b[43m \u001b[49m\n\u001b[1;32m     17\u001b[0m \u001b[43m                                     \u001b[49m\u001b[43my\u001b[49m\u001b[43m \u001b[49m\u001b[38;5;241;43m=\u001b[39;49m\u001b[43m \u001b[49m\u001b[43my_train\u001b[49m\u001b[43m,\u001b[49m\u001b[43m \u001b[49m\n\u001b[1;32m     18\u001b[0m \u001b[43m                                     \u001b[49m\u001b[43meval_set\u001b[49m\u001b[43m \u001b[49m\u001b[38;5;241;43m=\u001b[39;49m\u001b[43m \u001b[49m\u001b[43m(\u001b[49m\u001b[43mx_test\u001b[49m\u001b[43m,\u001b[49m\u001b[43my_test\u001b[49m\u001b[43m)\u001b[49m\u001b[43m,\u001b[49m\n\u001b[1;32m     19\u001b[0m \u001b[43m                                     \u001b[49m\u001b[43mfeatures_for_select\u001b[49m\u001b[43m \u001b[49m\u001b[38;5;241;43m=\u001b[39;49m\u001b[43m \u001b[49m\u001b[38;5;124;43m'\u001b[39;49m\u001b[38;5;124;43m0-19\u001b[39;49m\u001b[38;5;124;43m'\u001b[39;49m\u001b[43m,\u001b[49m\n\u001b[1;32m     20\u001b[0m \u001b[43m                                     \u001b[49m\u001b[43mnum_features_to_select\u001b[49m\u001b[43m \u001b[49m\u001b[38;5;241;43m=\u001b[39;49m\u001b[43m \u001b[49m\u001b[38;5;241;43m8\u001b[39;49m\u001b[43m,\u001b[49m\u001b[43m \u001b[49m\n\u001b[1;32m     21\u001b[0m \u001b[43m                                     \u001b[49m\u001b[43msteps\u001b[49m\u001b[43m \u001b[49m\u001b[38;5;241;43m=\u001b[39;49m\u001b[43m \u001b[49m\u001b[38;5;241;43m4\u001b[39;49m\u001b[43m,\u001b[49m\u001b[43m \u001b[49m\n\u001b[1;32m     22\u001b[0m \u001b[43m                                     \u001b[49m\u001b[43mverbose\u001b[49m\u001b[43m \u001b[49m\u001b[38;5;241;43m=\u001b[39;49m\u001b[43m \u001b[49m\u001b[38;5;241;43m10\u001b[39;49m\u001b[43m,\u001b[49m\n\u001b[1;32m     23\u001b[0m \u001b[43m                                     \u001b[49m\u001b[43mtrain_final_model\u001b[49m\u001b[43m \u001b[49m\u001b[38;5;241;43m=\u001b[39;49m\u001b[43m \u001b[49m\u001b[38;5;28;43;01mTrue\u001b[39;49;00m\u001b[43m,\u001b[49m\u001b[43m \u001b[49m\n\u001b[1;32m     24\u001b[0m \u001b[43m                                     \u001b[49m\u001b[43mplot\u001b[49m\u001b[43m \u001b[49m\u001b[38;5;241;43m=\u001b[39;49m\u001b[43m \u001b[49m\u001b[38;5;28;43;01mTrue\u001b[39;49;00m\n\u001b[1;32m     25\u001b[0m \u001b[43m                                     \u001b[49m\u001b[43m)\u001b[49m\n\u001b[1;32m     27\u001b[0m \u001b[38;5;66;03m# Perform cross-validation\u001b[39;00m\n\u001b[1;32m     28\u001b[0m rmses \u001b[38;5;241m=\u001b[39m []\n",
      "File \u001b[0;32m~/PycharmProjects/datax-project/.venv/lib/python3.10/site-packages/catboost/core.py:4498\u001b[0m, in \u001b[0;36mCatBoost.select_features\u001b[0;34m(self, X, y, eval_set, features_for_select, num_features_to_select, algorithm, steps, shap_calc_type, train_final_model, verbose, logging_level, plot, plot_file, log_cout, log_cerr, grouping, features_tags_for_select, num_features_tags_to_select)\u001b[0m\n\u001b[1;32m   4495\u001b[0m     create_dir_if_not_exist(plot_dir)\n\u001b[1;32m   4497\u001b[0m \u001b[38;5;28;01mwith\u001b[39;00m plot_wrapper(plot, plot_file\u001b[38;5;241m=\u001b[39mplot_file, plot_title\u001b[38;5;241m=\u001b[39m\u001b[38;5;124m'\u001b[39m\u001b[38;5;124mSelect features plot\u001b[39m\u001b[38;5;124m'\u001b[39m, train_dirs\u001b[38;5;241m=\u001b[39mplot_dirs):\n\u001b[0;32m-> 4498\u001b[0m     summary \u001b[38;5;241m=\u001b[39m \u001b[38;5;28;43mself\u001b[39;49m\u001b[38;5;241;43m.\u001b[39;49m\u001b[43m_object\u001b[49m\u001b[38;5;241;43m.\u001b[39;49m\u001b[43m_select_features\u001b[49m\u001b[43m(\u001b[49m\u001b[43mtrain_pool\u001b[49m\u001b[43m,\u001b[49m\u001b[43m \u001b[49m\u001b[43mtest_pool\u001b[49m\u001b[43m,\u001b[49m\u001b[43m \u001b[49m\u001b[43mparams\u001b[49m\u001b[43m)\u001b[49m\n\u001b[1;32m   4500\u001b[0m \u001b[38;5;28;01mif\u001b[39;00m train_final_model:\n\u001b[1;32m   4501\u001b[0m     \u001b[38;5;28mself\u001b[39m\u001b[38;5;241m.\u001b[39m_set_trained_model_attributes()\n",
      "File \u001b[0;32m_catboost.pyx:5438\u001b[0m, in \u001b[0;36m_catboost._CatBoost._select_features\u001b[0;34m()\u001b[0m\n",
      "File \u001b[0;32m_catboost.pyx:5452\u001b[0m, in \u001b[0;36m_catboost._CatBoost._select_features\u001b[0;34m()\u001b[0m\n",
      "\u001b[0;31mKeyboardInterrupt\u001b[0m: "
     ]
    }
   ],
   "source": [
    "# křížová validace, která je úplně k ničemu\n",
    "\n",
    "from sklearn.model_selection import KFold\n",
    "\n",
    "# Define number of folds for cross-validation\n",
    "n_splits = 20\n",
    "kf = KFold(n_splits=n_splits, shuffle=True, random_state=123)\n",
    "\n",
    "# Initialize CatBoostRegressor\n",
    "\n",
    "regressor = CatBoostRegressor(eval_metric='R2',\n",
    "                              iterations = 400, \n",
    "                              cat_features = categorical_features, \n",
    "                              random_state = 123\n",
    "                              )\n",
    "rfe_dict = regressor.select_features(X = x_train, \n",
    "                                     y = y_train, \n",
    "                                     eval_set = (x_test,y_test),\n",
    "                                     features_for_select = '0-19',\n",
    "                                     num_features_to_select = 8, \n",
    "                                     steps = 4, \n",
    "                                     verbose = 10,\n",
    "                                     train_final_model = True, \n",
    "                                     plot = True\n",
    "                                     )\n",
    "\n",
    "# Perform cross-validation\n",
    "rmses = []\n",
    "for train_index, val_index in kf.split(x_train):\n",
    "    X_train_fold, X_val_fold = x_train.iloc[train_index], x_train.iloc[val_index]\n",
    "    y_train_fold, y_val_fold = y_train.iloc[train_index], y_train.iloc[val_index]\n",
    "\n",
    "    # Fit the model\n",
    "    regressor.fit(X_train_fold, y_train_fold, eval_set=(X_val_fold, y_val_fold))\n",
    "\n",
    "    # Predict on the validation set\n",
    "    y_pred_val = regressor.predict(X_val_fold)\n",
    "\n",
    "    # Calculate RMSE\n",
    "    rmse_fold = np.sqrt(mean_squared_error(y_val_fold, y_pred_val))\n",
    "    rmses.append(rmse_fold)\n",
    "\n",
    "# Calculate average RMSE across all folds\n",
    "avg_rmse = np.mean(rmses)\n",
    "print(\"Average RMSE across all folds:\", avg_rmse)\n"
   ]
  }
 ],
 "metadata": {
  "kernelspec": {
   "display_name": "Python 3",
   "language": "python",
   "name": "python3"
  },
  "language_info": {
   "codemirror_mode": {
    "name": "ipython",
    "version": 3
   },
   "file_extension": ".py",
   "mimetype": "text/x-python",
   "name": "python",
   "nbconvert_exporter": "python",
   "pygments_lexer": "ipython3",
   "version": "3.12.1"
  }
 },
 "nbformat": 4,
 "nbformat_minor": 5
}
