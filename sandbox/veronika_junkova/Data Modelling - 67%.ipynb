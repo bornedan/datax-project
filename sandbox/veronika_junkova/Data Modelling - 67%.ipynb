{
 "cells": [
  {
   "cell_type": "code",
   "id": "initial_id",
   "metadata": {
    "collapsed": true,
    "ExecuteTime": {
     "end_time": "2024-05-06T10:40:33.930647Z",
     "start_time": "2024-05-06T10:40:33.925641Z"
    }
   },
   "source": [
    "import pandas as pd\n",
    "import pickle"
   ],
   "outputs": [],
   "execution_count": 133
  },
  {
   "metadata": {
    "ExecuteTime": {
     "end_time": "2024-05-06T10:44:31.092429Z",
     "start_time": "2024-05-06T10:44:31.052258Z"
    }
   },
   "cell_type": "code",
   "source": [
    "pickle_path = \"../../sandbox/veronika_junkova/data_for_model.pck\"\n",
    "\n",
    "# Load the pickle file\n",
    "with open(pickle_path, 'rb') as f:\n",
    "    data = pickle.load(f)\n",
    "\n",
    "print(data.columns)\n",
    "data.drop(\"reviews_per_month\", axis=1, inplace=True)\n",
    "data.drop(\"min_rating\", axis=1, inplace=True)\n",
    "data.drop(\"bedrooms\", axis=1, inplace=True)\n",
    "data.drop(\"bedrooms\", axis=1, inplace=True)\n"
   ],
   "id": "660835fea898d56e",
   "outputs": [
    {
     "name": "stdout",
     "output_type": "stream",
     "text": [
      "Index(['host_id', 'host_response_time', 'host_response_rate',\n",
      "       'host_acceptance_rate', 'host_is_superhost', 'host_listings_count',\n",
      "       'host_has_profile_pic', 'host_identity_verified',\n",
      "       'neighbourhood_cleansed', 'room_type', 'accommodates', 'bathrooms',\n",
      "       'bathrooms_text', 'bedrooms', 'beds', 'price', 'minimum_nights',\n",
      "       'maximum_nights', 'has_availability', 'instant_bookable',\n",
      "       'reviews_per_month', 'amenities_count', 'count_verifications',\n",
      "       'seasonal_availability', 'season', 'min_rating', 'max_rating',\n",
      "       'distance_from_city_centre'],\n",
      "      dtype='object')\n"
     ]
    }
   ],
   "execution_count": 179
  },
  {
   "metadata": {
    "ExecuteTime": {
     "end_time": "2024-05-06T10:44:31.637233Z",
     "start_time": "2024-05-06T10:44:31.634895Z"
    }
   },
   "cell_type": "code",
   "source": [
    "# categorical columns\n",
    "\n",
    "#categorical_columns = data.select_dtypes(include=['object', 'category']).columns.astype(str)\n",
    "categorical_columns = ['host_response_time', 'neighbourhood_cleansed', 'room_type', 'season']\n",
    "\n",
    "print(categorical_columns)"
   ],
   "id": "a639fcf9b350699a",
   "outputs": [
    {
     "name": "stdout",
     "output_type": "stream",
     "text": [
      "['host_response_time', 'neighbourhood_cleansed', 'room_type', 'season']\n"
     ]
    }
   ],
   "execution_count": 180
  },
  {
   "metadata": {
    "ExecuteTime": {
     "end_time": "2024-05-06T10:44:32.228205Z",
     "start_time": "2024-05-06T10:44:32.093814Z"
    }
   },
   "cell_type": "code",
   "source": [
    "# Linear Regression\n",
    "\n",
    "from sklearn.linear_model import LinearRegression\n",
    "from sklearn.model_selection import train_test_split\n",
    "from sklearn.metrics import r2_score\n",
    "from sklearn.impute import SimpleImputer\n",
    "\n",
    "# Dummy encode categorical columns\n",
    "\n",
    "dummy_df = pd.get_dummies(data, columns=categorical_columns)\n",
    "\n",
    "# Split features (X) and target variable (y)\n",
    "X = dummy_df.drop('price', axis=1)  # Features\n",
    "y = dummy_df['price']  # Target variable\n",
    "\n",
    "# Impute missing values in X\n",
    "imputer = SimpleImputer(strategy='median')\n",
    "X_imputed = imputer.fit_transform(X)\n",
    "\n",
    "# Split the data into training and testing sets\n",
    "X_train, X_test, y_train, y_test = train_test_split(X_imputed, y, test_size=0.2, random_state=42)\n",
    "\n",
    "# Initialize and fit linear regression model\n",
    "linear_regressor = LinearRegression()\n",
    "linear_regressor.fit(X_train, y_train)\n",
    "\n",
    "# Predict on the testing set\n",
    "y_pred_linear = linear_regressor.predict(X_test)\n",
    "\n",
    "# Calculate R-squared score\n",
    "r2_linear = r2_score(y_test, y_pred_linear)\n",
    "print(\"R2: {:.2f}\".format(r2_linear))\n"
   ],
   "id": "f3cad0d3695814cd",
   "outputs": [
    {
     "name": "stdout",
     "output_type": "stream",
     "text": [
      "R2: 0.02\n"
     ]
    }
   ],
   "execution_count": 181
  },
  {
   "metadata": {
    "ExecuteTime": {
     "end_time": "2024-05-06T10:44:35.163586Z",
     "start_time": "2024-05-06T10:44:32.511705Z"
    }
   },
   "cell_type": "code",
   "source": [
    "# Catboost\n",
    "\n",
    "from catboost import CatBoostRegressor\n",
    "\n",
    "# Split features (X) and target variable (y)\n",
    "X = data.drop('price', axis=1) \n",
    "y = data['price']\n",
    "\n",
    "# Initialize and fit CatBoost regression model\n",
    "catboost_regressor = CatBoostRegressor(iterations=1000,\n",
    "                                       learning_rate=0.1,\n",
    "                                       depth=7,\n",
    "                                       loss_function='RMSE',\n",
    "                                       verbose=0)\n",
    "catboost_regressor.fit(X_train, y_train)\n",
    "\n",
    "# Predict on the testing set\n",
    "y_pred_catboost = catboost_regressor.predict(X_test)\n",
    "\n",
    "# Calculate R-squared score\n",
    "r2_catboost = r2_score(y_test, y_pred_catboost)\n",
    "print(\"R2 (CatBoost): {:.2f}\".format(r2_catboost))"
   ],
   "id": "fb1536e77fa9b2",
   "outputs": [
    {
     "name": "stdout",
     "output_type": "stream",
     "text": [
      "R2 (CatBoost): 0.67\n"
     ]
    }
   ],
   "execution_count": 182
  },
  {
   "metadata": {
    "ExecuteTime": {
     "end_time": "2024-05-06T10:38:36.870578Z",
     "start_time": "2024-05-06T10:38:36.862720Z"
    }
   },
   "cell_type": "code",
   "source": [
    "# Handle missing values in categorical columns\n",
    "\n",
    "# Define the categories for the categorical columns\n",
    "for col in categorical_columns:\n",
    "    X[col] = X[col].astype('category').cat.add_categories('missing')\n",
    "\n",
    "\n",
    "# Fill missing values in categorical features with a placeholder string\n",
    "X[categorical_columns] = X[categorical_columns].fillna(\"missing\")\n",
    "\n",
    "print(df[])"
   ],
   "id": "792e4a54d1c12b43",
   "outputs": [],
   "execution_count": 129
  },
  {
   "metadata": {
    "ExecuteTime": {
     "end_time": "2024-05-06T10:38:46.929060Z",
     "start_time": "2024-05-06T10:38:46.810094Z"
    }
   },
   "cell_type": "code",
   "source": [
    "# Catboost with Cross Validation\n",
    "\n",
    "from sklearn.model_selection import KFold\n",
    "from sklearn.metrics import r2_score\n",
    "\n",
    "# Define the number of folds for cross-validation\n",
    "n_splits = 5\n",
    "kf = KFold(n_splits=n_splits, shuffle=True, random_state=42)\n",
    "\n",
    "# Initialize CatBoostRegressor\n",
    "catboost_regressor = CatBoostRegressor(iterations=1000, \n",
    "                                       learning_rate=0.1,\n",
    "                                       depth=7,\n",
    "                                       loss_function='RMSE',\n",
    "                                       verbose=0,\n",
    "                                       cat_features=['host_response_time', 'host_is_superhost', 'neighbourhood_cleansed',\n",
    "                                       'room_type', 'has_availability', 'season'])\n",
    "\n",
    "# Perform cross-validation\n",
    "r2_scores = []\n",
    "for train_index, test_index in kf.split(X):\n",
    "    X_train, X_test = X.iloc[train_index], X.iloc[test_index]\n",
    "    y_train, y_test = y.iloc[train_index], y.iloc[test_index]\n",
    "    \n",
    "    # Fit the model\n",
    "    catboost_regressor.fit(X_train, y_train)\n",
    "    \n",
    "    # Predict on the test set\n",
    "    y_pred = catboost_regressor.predict(X_test)\n",
    "    \n",
    "    # Calculate R-squared score\n",
    "    r2 = r2_score(y_test, y_pred)\n",
    "    r2_scores.append(r2)\n",
    "\n",
    "# Calculate the average R-squared score across all folds\n",
    "avg_r2_score = sum(r2_scores) / len(r2_scores)\n",
    "print(\"Average R2 score: {:.2f}\".format(avg_r2_score))"
   ],
   "id": "10dc2f66396fe1e9",
   "outputs": [
    {
     "ename": "CatBoostError",
     "evalue": "Invalid type for cat_feature[non-default value idx=0,feature_idx=4]=1.0 : cat_features must be integer or string, real number values and NaN values should be converted to string.",
     "output_type": "error",
     "traceback": [
      "\u001B[0;31m---------------------------------------------------------------------------\u001B[0m",
      "\u001B[0;31mCatBoostError\u001B[0m                             Traceback (most recent call last)",
      "File \u001B[0;32m_catboost.pyx:2449\u001B[0m, in \u001B[0;36m_catboost.get_cat_factor_bytes_representation\u001B[0;34m()\u001B[0m\n",
      "File \u001B[0;32m_catboost.pyx:1967\u001B[0m, in \u001B[0;36m_catboost.get_id_object_bytes_string_representation\u001B[0;34m()\u001B[0m\n",
      "\u001B[0;31mCatBoostError\u001B[0m: bad object for id: 1.0",
      "\nDuring handling of the above exception, another exception occurred:\n",
      "\u001B[0;31mCatBoostError\u001B[0m                             Traceback (most recent call last)",
      "Cell \u001B[0;32mIn[130], line 26\u001B[0m\n\u001B[1;32m     23\u001B[0m y_train, y_test \u001B[38;5;241m=\u001B[39m y\u001B[38;5;241m.\u001B[39miloc[train_index], y\u001B[38;5;241m.\u001B[39miloc[test_index]\n\u001B[1;32m     25\u001B[0m \u001B[38;5;66;03m# Fit the model\u001B[39;00m\n\u001B[0;32m---> 26\u001B[0m \u001B[43mcatboost_regressor\u001B[49m\u001B[38;5;241;43m.\u001B[39;49m\u001B[43mfit\u001B[49m\u001B[43m(\u001B[49m\u001B[43mX_train\u001B[49m\u001B[43m,\u001B[49m\u001B[43m \u001B[49m\u001B[43my_train\u001B[49m\u001B[43m)\u001B[49m\n\u001B[1;32m     28\u001B[0m \u001B[38;5;66;03m# Predict on the test set\u001B[39;00m\n\u001B[1;32m     29\u001B[0m y_pred \u001B[38;5;241m=\u001B[39m catboost_regressor\u001B[38;5;241m.\u001B[39mpredict(X_test)\n",
      "File \u001B[0;32m~/PycharmProjects/datax-project/.venv/lib/python3.10/site-packages/catboost/core.py:5827\u001B[0m, in \u001B[0;36mCatBoostRegressor.fit\u001B[0;34m(self, X, y, cat_features, text_features, embedding_features, sample_weight, baseline, use_best_model, eval_set, verbose, logging_level, plot, plot_file, column_description, verbose_eval, metric_period, silent, early_stopping_rounds, save_snapshot, snapshot_file, snapshot_interval, init_model, callbacks, log_cout, log_cerr)\u001B[0m\n\u001B[1;32m   5824\u001B[0m \u001B[38;5;28;01mif\u001B[39;00m \u001B[38;5;124m'\u001B[39m\u001B[38;5;124mloss_function\u001B[39m\u001B[38;5;124m'\u001B[39m \u001B[38;5;129;01min\u001B[39;00m params:\n\u001B[1;32m   5825\u001B[0m     CatBoostRegressor\u001B[38;5;241m.\u001B[39m_check_is_compatible_loss(params[\u001B[38;5;124m'\u001B[39m\u001B[38;5;124mloss_function\u001B[39m\u001B[38;5;124m'\u001B[39m])\n\u001B[0;32m-> 5827\u001B[0m \u001B[38;5;28;01mreturn\u001B[39;00m \u001B[38;5;28;43mself\u001B[39;49m\u001B[38;5;241;43m.\u001B[39;49m\u001B[43m_fit\u001B[49m\u001B[43m(\u001B[49m\u001B[43mX\u001B[49m\u001B[43m,\u001B[49m\u001B[43m \u001B[49m\u001B[43my\u001B[49m\u001B[43m,\u001B[49m\u001B[43m \u001B[49m\u001B[43mcat_features\u001B[49m\u001B[43m,\u001B[49m\u001B[43m \u001B[49m\u001B[43mtext_features\u001B[49m\u001B[43m,\u001B[49m\u001B[43m \u001B[49m\u001B[43membedding_features\u001B[49m\u001B[43m,\u001B[49m\u001B[43m \u001B[49m\u001B[38;5;28;43;01mNone\u001B[39;49;00m\u001B[43m,\u001B[49m\u001B[43m \u001B[49m\u001B[43msample_weight\u001B[49m\u001B[43m,\u001B[49m\u001B[43m \u001B[49m\u001B[38;5;28;43;01mNone\u001B[39;49;00m\u001B[43m,\u001B[49m\u001B[43m \u001B[49m\u001B[38;5;28;43;01mNone\u001B[39;49;00m\u001B[43m,\u001B[49m\u001B[43m \u001B[49m\u001B[38;5;28;43;01mNone\u001B[39;49;00m\u001B[43m,\u001B[49m\u001B[43m \u001B[49m\u001B[38;5;28;43;01mNone\u001B[39;49;00m\u001B[43m,\u001B[49m\u001B[43m \u001B[49m\u001B[43mbaseline\u001B[49m\u001B[43m,\u001B[49m\n\u001B[1;32m   5828\u001B[0m \u001B[43m                 \u001B[49m\u001B[43muse_best_model\u001B[49m\u001B[43m,\u001B[49m\u001B[43m \u001B[49m\u001B[43meval_set\u001B[49m\u001B[43m,\u001B[49m\u001B[43m \u001B[49m\u001B[43mverbose\u001B[49m\u001B[43m,\u001B[49m\u001B[43m \u001B[49m\u001B[43mlogging_level\u001B[49m\u001B[43m,\u001B[49m\u001B[43m \u001B[49m\u001B[43mplot\u001B[49m\u001B[43m,\u001B[49m\u001B[43m \u001B[49m\u001B[43mplot_file\u001B[49m\u001B[43m,\u001B[49m\u001B[43m \u001B[49m\u001B[43mcolumn_description\u001B[49m\u001B[43m,\u001B[49m\n\u001B[1;32m   5829\u001B[0m \u001B[43m                 \u001B[49m\u001B[43mverbose_eval\u001B[49m\u001B[43m,\u001B[49m\u001B[43m \u001B[49m\u001B[43mmetric_period\u001B[49m\u001B[43m,\u001B[49m\u001B[43m \u001B[49m\u001B[43msilent\u001B[49m\u001B[43m,\u001B[49m\u001B[43m \u001B[49m\u001B[43mearly_stopping_rounds\u001B[49m\u001B[43m,\u001B[49m\n\u001B[1;32m   5830\u001B[0m \u001B[43m                 \u001B[49m\u001B[43msave_snapshot\u001B[49m\u001B[43m,\u001B[49m\u001B[43m \u001B[49m\u001B[43msnapshot_file\u001B[49m\u001B[43m,\u001B[49m\u001B[43m \u001B[49m\u001B[43msnapshot_interval\u001B[49m\u001B[43m,\u001B[49m\u001B[43m \u001B[49m\u001B[43minit_model\u001B[49m\u001B[43m,\u001B[49m\u001B[43m \u001B[49m\u001B[43mcallbacks\u001B[49m\u001B[43m,\u001B[49m\u001B[43m \u001B[49m\u001B[43mlog_cout\u001B[49m\u001B[43m,\u001B[49m\u001B[43m \u001B[49m\u001B[43mlog_cerr\u001B[49m\u001B[43m)\u001B[49m\n",
      "File \u001B[0;32m~/PycharmProjects/datax-project/.venv/lib/python3.10/site-packages/catboost/core.py:2385\u001B[0m, in \u001B[0;36mCatBoost._fit\u001B[0;34m(self, X, y, cat_features, text_features, embedding_features, pairs, sample_weight, group_id, group_weight, subgroup_id, pairs_weight, baseline, use_best_model, eval_set, verbose, logging_level, plot, plot_file, column_description, verbose_eval, metric_period, silent, early_stopping_rounds, save_snapshot, snapshot_file, snapshot_interval, init_model, callbacks, log_cout, log_cerr)\u001B[0m\n\u001B[1;32m   2382\u001B[0m \u001B[38;5;28;01mif\u001B[39;00m y \u001B[38;5;129;01mis\u001B[39;00m \u001B[38;5;28;01mNone\u001B[39;00m \u001B[38;5;129;01mand\u001B[39;00m \u001B[38;5;129;01mnot\u001B[39;00m \u001B[38;5;28misinstance\u001B[39m(X, PATH_TYPES \u001B[38;5;241m+\u001B[39m (Pool,)):\n\u001B[1;32m   2383\u001B[0m     \u001B[38;5;28;01mraise\u001B[39;00m CatBoostError(\u001B[38;5;124m\"\u001B[39m\u001B[38;5;124my may be None only when X is an instance of catboost.Pool or string\u001B[39m\u001B[38;5;124m\"\u001B[39m)\n\u001B[0;32m-> 2385\u001B[0m train_params \u001B[38;5;241m=\u001B[39m \u001B[38;5;28;43mself\u001B[39;49m\u001B[38;5;241;43m.\u001B[39;49m\u001B[43m_prepare_train_params\u001B[49m\u001B[43m(\u001B[49m\n\u001B[1;32m   2386\u001B[0m \u001B[43m    \u001B[49m\u001B[43mX\u001B[49m\u001B[38;5;241;43m=\u001B[39;49m\u001B[43mX\u001B[49m\u001B[43m,\u001B[49m\u001B[43m \u001B[49m\u001B[43my\u001B[49m\u001B[38;5;241;43m=\u001B[39;49m\u001B[43my\u001B[49m\u001B[43m,\u001B[49m\u001B[43m \u001B[49m\u001B[43mcat_features\u001B[49m\u001B[38;5;241;43m=\u001B[39;49m\u001B[43mcat_features\u001B[49m\u001B[43m,\u001B[49m\u001B[43m \u001B[49m\u001B[43mtext_features\u001B[49m\u001B[38;5;241;43m=\u001B[39;49m\u001B[43mtext_features\u001B[49m\u001B[43m,\u001B[49m\u001B[43m \u001B[49m\u001B[43membedding_features\u001B[49m\u001B[38;5;241;43m=\u001B[39;49m\u001B[43membedding_features\u001B[49m\u001B[43m,\u001B[49m\n\u001B[1;32m   2387\u001B[0m \u001B[43m    \u001B[49m\u001B[43mpairs\u001B[49m\u001B[38;5;241;43m=\u001B[39;49m\u001B[43mpairs\u001B[49m\u001B[43m,\u001B[49m\u001B[43m \u001B[49m\u001B[43msample_weight\u001B[49m\u001B[38;5;241;43m=\u001B[39;49m\u001B[43msample_weight\u001B[49m\u001B[43m,\u001B[49m\u001B[43m \u001B[49m\u001B[43mgroup_id\u001B[49m\u001B[38;5;241;43m=\u001B[39;49m\u001B[43mgroup_id\u001B[49m\u001B[43m,\u001B[49m\u001B[43m \u001B[49m\u001B[43mgroup_weight\u001B[49m\u001B[38;5;241;43m=\u001B[39;49m\u001B[43mgroup_weight\u001B[49m\u001B[43m,\u001B[49m\n\u001B[1;32m   2388\u001B[0m \u001B[43m    \u001B[49m\u001B[43msubgroup_id\u001B[49m\u001B[38;5;241;43m=\u001B[39;49m\u001B[43msubgroup_id\u001B[49m\u001B[43m,\u001B[49m\u001B[43m \u001B[49m\u001B[43mpairs_weight\u001B[49m\u001B[38;5;241;43m=\u001B[39;49m\u001B[43mpairs_weight\u001B[49m\u001B[43m,\u001B[49m\u001B[43m \u001B[49m\u001B[43mbaseline\u001B[49m\u001B[38;5;241;43m=\u001B[39;49m\u001B[43mbaseline\u001B[49m\u001B[43m,\u001B[49m\u001B[43m \u001B[49m\u001B[43muse_best_model\u001B[49m\u001B[38;5;241;43m=\u001B[39;49m\u001B[43muse_best_model\u001B[49m\u001B[43m,\u001B[49m\n\u001B[1;32m   2389\u001B[0m \u001B[43m    \u001B[49m\u001B[43meval_set\u001B[49m\u001B[38;5;241;43m=\u001B[39;49m\u001B[43meval_set\u001B[49m\u001B[43m,\u001B[49m\u001B[43m \u001B[49m\u001B[43mverbose\u001B[49m\u001B[38;5;241;43m=\u001B[39;49m\u001B[43mverbose\u001B[49m\u001B[43m,\u001B[49m\u001B[43m \u001B[49m\u001B[43mlogging_level\u001B[49m\u001B[38;5;241;43m=\u001B[39;49m\u001B[43mlogging_level\u001B[49m\u001B[43m,\u001B[49m\u001B[43m \u001B[49m\u001B[43mplot\u001B[49m\u001B[38;5;241;43m=\u001B[39;49m\u001B[43mplot\u001B[49m\u001B[43m,\u001B[49m\u001B[43m \u001B[49m\u001B[43mplot_file\u001B[49m\u001B[38;5;241;43m=\u001B[39;49m\u001B[43mplot_file\u001B[49m\u001B[43m,\u001B[49m\n\u001B[1;32m   2390\u001B[0m \u001B[43m    \u001B[49m\u001B[43mcolumn_description\u001B[49m\u001B[38;5;241;43m=\u001B[39;49m\u001B[43mcolumn_description\u001B[49m\u001B[43m,\u001B[49m\u001B[43m \u001B[49m\u001B[43mverbose_eval\u001B[49m\u001B[38;5;241;43m=\u001B[39;49m\u001B[43mverbose_eval\u001B[49m\u001B[43m,\u001B[49m\u001B[43m \u001B[49m\u001B[43mmetric_period\u001B[49m\u001B[38;5;241;43m=\u001B[39;49m\u001B[43mmetric_period\u001B[49m\u001B[43m,\u001B[49m\n\u001B[1;32m   2391\u001B[0m \u001B[43m    \u001B[49m\u001B[43msilent\u001B[49m\u001B[38;5;241;43m=\u001B[39;49m\u001B[43msilent\u001B[49m\u001B[43m,\u001B[49m\u001B[43m \u001B[49m\u001B[43mearly_stopping_rounds\u001B[49m\u001B[38;5;241;43m=\u001B[39;49m\u001B[43mearly_stopping_rounds\u001B[49m\u001B[43m,\u001B[49m\u001B[43m \u001B[49m\u001B[43msave_snapshot\u001B[49m\u001B[38;5;241;43m=\u001B[39;49m\u001B[43msave_snapshot\u001B[49m\u001B[43m,\u001B[49m\n\u001B[1;32m   2392\u001B[0m \u001B[43m    \u001B[49m\u001B[43msnapshot_file\u001B[49m\u001B[38;5;241;43m=\u001B[39;49m\u001B[43msnapshot_file\u001B[49m\u001B[43m,\u001B[49m\u001B[43m \u001B[49m\u001B[43msnapshot_interval\u001B[49m\u001B[38;5;241;43m=\u001B[39;49m\u001B[43msnapshot_interval\u001B[49m\u001B[43m,\u001B[49m\u001B[43m \u001B[49m\u001B[43minit_model\u001B[49m\u001B[38;5;241;43m=\u001B[39;49m\u001B[43minit_model\u001B[49m\u001B[43m,\u001B[49m\n\u001B[1;32m   2393\u001B[0m \u001B[43m    \u001B[49m\u001B[43mcallbacks\u001B[49m\u001B[38;5;241;43m=\u001B[39;49m\u001B[43mcallbacks\u001B[49m\n\u001B[1;32m   2394\u001B[0m \u001B[43m\u001B[49m\u001B[43m)\u001B[49m\n\u001B[1;32m   2395\u001B[0m params \u001B[38;5;241m=\u001B[39m train_params[\u001B[38;5;124m\"\u001B[39m\u001B[38;5;124mparams\u001B[39m\u001B[38;5;124m\"\u001B[39m]\n\u001B[1;32m   2396\u001B[0m train_pool \u001B[38;5;241m=\u001B[39m train_params[\u001B[38;5;124m\"\u001B[39m\u001B[38;5;124mtrain_pool\u001B[39m\u001B[38;5;124m\"\u001B[39m]\n",
      "File \u001B[0;32m~/PycharmProjects/datax-project/.venv/lib/python3.10/site-packages/catboost/core.py:2265\u001B[0m, in \u001B[0;36mCatBoost._prepare_train_params\u001B[0;34m(self, X, y, cat_features, text_features, embedding_features, pairs, sample_weight, group_id, group_weight, subgroup_id, pairs_weight, baseline, use_best_model, eval_set, verbose, logging_level, plot, plot_file, column_description, verbose_eval, metric_period, silent, early_stopping_rounds, save_snapshot, snapshot_file, snapshot_interval, init_model, callbacks)\u001B[0m\n\u001B[1;32m   2262\u001B[0m text_features \u001B[38;5;241m=\u001B[39m _process_feature_indices(text_features, X, params, \u001B[38;5;124m'\u001B[39m\u001B[38;5;124mtext_features\u001B[39m\u001B[38;5;124m'\u001B[39m)\n\u001B[1;32m   2263\u001B[0m embedding_features \u001B[38;5;241m=\u001B[39m _process_feature_indices(embedding_features, X, params, \u001B[38;5;124m'\u001B[39m\u001B[38;5;124membedding_features\u001B[39m\u001B[38;5;124m'\u001B[39m)\n\u001B[0;32m-> 2265\u001B[0m train_pool \u001B[38;5;241m=\u001B[39m \u001B[43m_build_train_pool\u001B[49m\u001B[43m(\u001B[49m\u001B[43mX\u001B[49m\u001B[43m,\u001B[49m\u001B[43m \u001B[49m\u001B[43my\u001B[49m\u001B[43m,\u001B[49m\u001B[43m \u001B[49m\u001B[43mcat_features\u001B[49m\u001B[43m,\u001B[49m\u001B[43m \u001B[49m\u001B[43mtext_features\u001B[49m\u001B[43m,\u001B[49m\u001B[43m \u001B[49m\u001B[43membedding_features\u001B[49m\u001B[43m,\u001B[49m\u001B[43m \u001B[49m\u001B[43mpairs\u001B[49m\u001B[43m,\u001B[49m\n\u001B[1;32m   2266\u001B[0m \u001B[43m                               \u001B[49m\u001B[43msample_weight\u001B[49m\u001B[43m,\u001B[49m\u001B[43m \u001B[49m\u001B[43mgroup_id\u001B[49m\u001B[43m,\u001B[49m\u001B[43m \u001B[49m\u001B[43mgroup_weight\u001B[49m\u001B[43m,\u001B[49m\u001B[43m \u001B[49m\u001B[43msubgroup_id\u001B[49m\u001B[43m,\u001B[49m\u001B[43m \u001B[49m\u001B[43mpairs_weight\u001B[49m\u001B[43m,\u001B[49m\n\u001B[1;32m   2267\u001B[0m \u001B[43m                               \u001B[49m\u001B[43mbaseline\u001B[49m\u001B[43m,\u001B[49m\u001B[43m \u001B[49m\u001B[43mcolumn_description\u001B[49m\u001B[43m)\u001B[49m\n\u001B[1;32m   2268\u001B[0m \u001B[38;5;28;01mif\u001B[39;00m train_pool\u001B[38;5;241m.\u001B[39mis_empty_:\n\u001B[1;32m   2269\u001B[0m     \u001B[38;5;28;01mraise\u001B[39;00m CatBoostError(\u001B[38;5;124m\"\u001B[39m\u001B[38;5;124mX is empty.\u001B[39m\u001B[38;5;124m\"\u001B[39m)\n",
      "File \u001B[0;32m~/PycharmProjects/datax-project/.venv/lib/python3.10/site-packages/catboost/core.py:1503\u001B[0m, in \u001B[0;36m_build_train_pool\u001B[0;34m(X, y, cat_features, text_features, embedding_features, pairs, sample_weight, group_id, group_weight, subgroup_id, pairs_weight, baseline, column_description)\u001B[0m\n\u001B[1;32m   1501\u001B[0m     \u001B[38;5;28;01mif\u001B[39;00m y \u001B[38;5;129;01mis\u001B[39;00m \u001B[38;5;28;01mNone\u001B[39;00m:\n\u001B[1;32m   1502\u001B[0m         \u001B[38;5;28;01mraise\u001B[39;00m CatBoostError(\u001B[38;5;124m\"\u001B[39m\u001B[38;5;124my has not initialized in fit(): X is not catboost.Pool object, y must be not None in fit().\u001B[39m\u001B[38;5;124m\"\u001B[39m)\n\u001B[0;32m-> 1503\u001B[0m     train_pool \u001B[38;5;241m=\u001B[39m \u001B[43mPool\u001B[49m\u001B[43m(\u001B[49m\u001B[43mX\u001B[49m\u001B[43m,\u001B[49m\u001B[43m \u001B[49m\u001B[43my\u001B[49m\u001B[43m,\u001B[49m\u001B[43m \u001B[49m\u001B[43mcat_features\u001B[49m\u001B[38;5;241;43m=\u001B[39;49m\u001B[43mcat_features\u001B[49m\u001B[43m,\u001B[49m\u001B[43m \u001B[49m\u001B[43mtext_features\u001B[49m\u001B[38;5;241;43m=\u001B[39;49m\u001B[43mtext_features\u001B[49m\u001B[43m,\u001B[49m\u001B[43m \u001B[49m\u001B[43membedding_features\u001B[49m\u001B[38;5;241;43m=\u001B[39;49m\u001B[43membedding_features\u001B[49m\u001B[43m,\u001B[49m\u001B[43m \u001B[49m\u001B[43mpairs\u001B[49m\u001B[38;5;241;43m=\u001B[39;49m\u001B[43mpairs\u001B[49m\u001B[43m,\u001B[49m\u001B[43m \u001B[49m\u001B[43mweight\u001B[49m\u001B[38;5;241;43m=\u001B[39;49m\u001B[43msample_weight\u001B[49m\u001B[43m,\u001B[49m\u001B[43m \u001B[49m\u001B[43mgroup_id\u001B[49m\u001B[38;5;241;43m=\u001B[39;49m\u001B[43mgroup_id\u001B[49m\u001B[43m,\u001B[49m\n\u001B[1;32m   1504\u001B[0m \u001B[43m                      \u001B[49m\u001B[43mgroup_weight\u001B[49m\u001B[38;5;241;43m=\u001B[39;49m\u001B[43mgroup_weight\u001B[49m\u001B[43m,\u001B[49m\u001B[43m \u001B[49m\u001B[43msubgroup_id\u001B[49m\u001B[38;5;241;43m=\u001B[39;49m\u001B[43msubgroup_id\u001B[49m\u001B[43m,\u001B[49m\u001B[43m \u001B[49m\u001B[43mpairs_weight\u001B[49m\u001B[38;5;241;43m=\u001B[39;49m\u001B[43mpairs_weight\u001B[49m\u001B[43m,\u001B[49m\u001B[43m \u001B[49m\u001B[43mbaseline\u001B[49m\u001B[38;5;241;43m=\u001B[39;49m\u001B[43mbaseline\u001B[49m\u001B[43m)\u001B[49m\n\u001B[1;32m   1505\u001B[0m \u001B[38;5;28;01mreturn\u001B[39;00m train_pool\n",
      "File \u001B[0;32m~/PycharmProjects/datax-project/.venv/lib/python3.10/site-packages/catboost/core.py:848\u001B[0m, in \u001B[0;36mPool.__init__\u001B[0;34m(self, data, label, cat_features, text_features, embedding_features, embedding_features_data, column_description, pairs, delimiter, has_header, ignore_csv_quoting, weight, group_id, group_weight, subgroup_id, pairs_weight, baseline, timestamp, feature_names, feature_tags, thread_count, log_cout, log_cerr, data_can_be_none)\u001B[0m\n\u001B[1;32m    842\u001B[0m         \u001B[38;5;28;01mif\u001B[39;00m \u001B[38;5;28misinstance\u001B[39m(feature_names, PATH_TYPES):\n\u001B[1;32m    843\u001B[0m             \u001B[38;5;28;01mraise\u001B[39;00m CatBoostError(\n\u001B[1;32m    844\u001B[0m                 \u001B[38;5;124m\"\u001B[39m\u001B[38;5;124mfeature_names must be None or have non-string type when the pool is created from \u001B[39m\u001B[38;5;124m\"\u001B[39m\n\u001B[1;32m    845\u001B[0m                 \u001B[38;5;124m\"\u001B[39m\u001B[38;5;124mpython objects.\u001B[39m\u001B[38;5;124m\"\u001B[39m\n\u001B[1;32m    846\u001B[0m             )\n\u001B[0;32m--> 848\u001B[0m         \u001B[38;5;28;43mself\u001B[39;49m\u001B[38;5;241;43m.\u001B[39;49m\u001B[43m_init\u001B[49m\u001B[43m(\u001B[49m\u001B[43mdata\u001B[49m\u001B[43m,\u001B[49m\u001B[43m \u001B[49m\u001B[43mlabel\u001B[49m\u001B[43m,\u001B[49m\u001B[43m \u001B[49m\u001B[43mcat_features\u001B[49m\u001B[43m,\u001B[49m\u001B[43m \u001B[49m\u001B[43mtext_features\u001B[49m\u001B[43m,\u001B[49m\u001B[43m \u001B[49m\u001B[43membedding_features\u001B[49m\u001B[43m,\u001B[49m\u001B[43m \u001B[49m\u001B[43membedding_features_data\u001B[49m\u001B[43m,\u001B[49m\u001B[43m \u001B[49m\u001B[43mpairs\u001B[49m\u001B[43m,\u001B[49m\u001B[43m \u001B[49m\u001B[43mweight\u001B[49m\u001B[43m,\u001B[49m\n\u001B[1;32m    849\u001B[0m \u001B[43m                   \u001B[49m\u001B[43mgroup_id\u001B[49m\u001B[43m,\u001B[49m\u001B[43m \u001B[49m\u001B[43mgroup_weight\u001B[49m\u001B[43m,\u001B[49m\u001B[43m \u001B[49m\u001B[43msubgroup_id\u001B[49m\u001B[43m,\u001B[49m\u001B[43m \u001B[49m\u001B[43mpairs_weight\u001B[49m\u001B[43m,\u001B[49m\u001B[43m \u001B[49m\u001B[43mbaseline\u001B[49m\u001B[43m,\u001B[49m\u001B[43m \u001B[49m\u001B[43mtimestamp\u001B[49m\u001B[43m,\u001B[49m\u001B[43m \u001B[49m\u001B[43mfeature_names\u001B[49m\u001B[43m,\u001B[49m\u001B[43m \u001B[49m\u001B[43mfeature_tags\u001B[49m\u001B[43m,\u001B[49m\u001B[43m \u001B[49m\u001B[43mthread_count\u001B[49m\u001B[43m)\u001B[49m\n\u001B[1;32m    850\u001B[0m \u001B[38;5;28;01melif\u001B[39;00m \u001B[38;5;129;01mnot\u001B[39;00m data_can_be_none:\n\u001B[1;32m    851\u001B[0m     \u001B[38;5;28;01mraise\u001B[39;00m CatBoostError(\u001B[38;5;124m\"\u001B[39m\u001B[38;5;124m'\u001B[39m\u001B[38;5;124mdata\u001B[39m\u001B[38;5;124m'\u001B[39m\u001B[38;5;124m parameter can\u001B[39m\u001B[38;5;124m'\u001B[39m\u001B[38;5;124mt be None\u001B[39m\u001B[38;5;124m\"\u001B[39m)\n",
      "File \u001B[0;32m~/PycharmProjects/datax-project/.venv/lib/python3.10/site-packages/catboost/core.py:1481\u001B[0m, in \u001B[0;36mPool._init\u001B[0;34m(self, data, label, cat_features, text_features, embedding_features, embedding_features_data, pairs, weight, group_id, group_weight, subgroup_id, pairs_weight, baseline, timestamp, feature_names, feature_tags, thread_count)\u001B[0m\n\u001B[1;32m   1479\u001B[0m \u001B[38;5;28;01mif\u001B[39;00m feature_tags \u001B[38;5;129;01mis\u001B[39;00m \u001B[38;5;129;01mnot\u001B[39;00m \u001B[38;5;28;01mNone\u001B[39;00m:\n\u001B[1;32m   1480\u001B[0m     feature_tags \u001B[38;5;241m=\u001B[39m \u001B[38;5;28mself\u001B[39m\u001B[38;5;241m.\u001B[39m_check_transform_tags(feature_tags, feature_names)\n\u001B[0;32m-> 1481\u001B[0m \u001B[38;5;28;43mself\u001B[39;49m\u001B[38;5;241;43m.\u001B[39;49m\u001B[43m_init_pool\u001B[49m\u001B[43m(\u001B[49m\u001B[43mdata\u001B[49m\u001B[43m,\u001B[49m\u001B[43m \u001B[49m\u001B[43mlabel\u001B[49m\u001B[43m,\u001B[49m\u001B[43m \u001B[49m\u001B[43mcat_features\u001B[49m\u001B[43m,\u001B[49m\u001B[43m \u001B[49m\u001B[43mtext_features\u001B[49m\u001B[43m,\u001B[49m\u001B[43m \u001B[49m\u001B[43membedding_features\u001B[49m\u001B[43m,\u001B[49m\u001B[43m \u001B[49m\u001B[43membedding_features_data\u001B[49m\u001B[43m,\u001B[49m\u001B[43m \u001B[49m\u001B[43mpairs\u001B[49m\u001B[43m,\u001B[49m\u001B[43m \u001B[49m\u001B[43mweight\u001B[49m\u001B[43m,\u001B[49m\n\u001B[1;32m   1482\u001B[0m \u001B[43m                \u001B[49m\u001B[43mgroup_id\u001B[49m\u001B[43m,\u001B[49m\u001B[43m \u001B[49m\u001B[43mgroup_weight\u001B[49m\u001B[43m,\u001B[49m\u001B[43m \u001B[49m\u001B[43msubgroup_id\u001B[49m\u001B[43m,\u001B[49m\u001B[43m \u001B[49m\u001B[43mpairs_weight\u001B[49m\u001B[43m,\u001B[49m\u001B[43m \u001B[49m\u001B[43mbaseline\u001B[49m\u001B[43m,\u001B[49m\u001B[43m \u001B[49m\u001B[43mtimestamp\u001B[49m\u001B[43m,\u001B[49m\u001B[43m \u001B[49m\u001B[43mfeature_names\u001B[49m\u001B[43m,\u001B[49m\u001B[43m \u001B[49m\u001B[43mfeature_tags\u001B[49m\u001B[43m,\u001B[49m\u001B[43m \u001B[49m\u001B[43mthread_count\u001B[49m\u001B[43m)\u001B[49m\n",
      "File \u001B[0;32m_catboost.pyx:4159\u001B[0m, in \u001B[0;36m_catboost._PoolBase._init_pool\u001B[0;34m()\u001B[0m\n",
      "File \u001B[0;32m_catboost.pyx:4209\u001B[0m, in \u001B[0;36m_catboost._PoolBase._init_pool\u001B[0;34m()\u001B[0m\n",
      "File \u001B[0;32m_catboost.pyx:4025\u001B[0m, in \u001B[0;36m_catboost._PoolBase._init_features_order_layout_pool\u001B[0;34m()\u001B[0m\n",
      "File \u001B[0;32m_catboost.pyx:2936\u001B[0m, in \u001B[0;36m_catboost._set_features_order_data_pd_data_frame\u001B[0;34m()\u001B[0m\n",
      "File \u001B[0;32m_catboost.pyx:2456\u001B[0m, in \u001B[0;36m_catboost.get_cat_factor_bytes_representation\u001B[0;34m()\u001B[0m\n",
      "\u001B[0;31mCatBoostError\u001B[0m: Invalid type for cat_feature[non-default value idx=0,feature_idx=4]=1.0 : cat_features must be integer or string, real number values and NaN values should be converted to string."
     ]
    }
   ],
   "execution_count": 130
  },
  {
   "metadata": {},
   "cell_type": "code",
   "outputs": [],
   "execution_count": null,
   "source": "",
   "id": "21a78bee3e85e185"
  }
 ],
 "metadata": {
  "kernelspec": {
   "display_name": "Python 3",
   "language": "python",
   "name": "python3"
  },
  "language_info": {
   "codemirror_mode": {
    "name": "ipython",
    "version": 2
   },
   "file_extension": ".py",
   "mimetype": "text/x-python",
   "name": "python",
   "nbconvert_exporter": "python",
   "pygments_lexer": "ipython2",
   "version": "2.7.6"
  }
 },
 "nbformat": 4,
 "nbformat_minor": 5
}
