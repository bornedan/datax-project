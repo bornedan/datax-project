{
 "cells": [
  {
   "cell_type": "code",
   "id": "initial_id",
   "metadata": {
    "collapsed": true,
    "ExecuteTime": {
     "end_time": "2024-05-05T16:08:25.821183Z",
     "start_time": "2024-05-05T16:08:25.815872Z"
    }
   },
   "source": [
    "import pandas as pd\n",
    "import pickle"
   ],
   "outputs": [],
   "execution_count": 33
  },
  {
   "metadata": {
    "ExecuteTime": {
     "end_time": "2024-05-05T16:08:26.242134Z",
     "start_time": "2024-05-05T16:08:26.231400Z"
    }
   },
   "cell_type": "code",
   "source": [
    "pickle_path = \"../../sandbox/lucie_pinterova/listing_clean_price.pck\"\n",
    "\n",
    "# Load the pickle file\n",
    "with open(pickle_path, 'rb') as f:\n",
    "    data = pickle.load(f)\n",
    "\n",
    "(data.dtypes)"
   ],
   "id": "660835fea898d56e",
   "outputs": [
    {
     "data": {
      "text/plain": [
       "host_since                   int32\n",
       "host_response_time        category\n",
       "host_response_rate         float64\n",
       "host_acceptance_rate       float64\n",
       "host_is_superhost             bool\n",
       "host_listings_count          int64\n",
       "host_has_profile_pic          bool\n",
       "host_identity_verified        bool\n",
       "neighbourhood_cleansed    category\n",
       "latitude                   float64\n",
       "longitude                  float64\n",
       "room_type                 category\n",
       "accommodates                 int64\n",
       "bathrooms_text             float64\n",
       "beds                       float64\n",
       "price                      float64\n",
       "minimum_nights               int64\n",
       "maximum_nights               int64\n",
       "has_availability              bool\n",
       "instant_bookable              bool\n",
       "reviews_per_month          float64\n",
       "count_verifications          int64\n",
       "seasonal_availability      float64\n",
       "season                    category\n",
       "min_rating                 float64\n",
       "max_rating                 float64\n",
       "dtype: object"
      ]
     },
     "execution_count": 34,
     "metadata": {},
     "output_type": "execute_result"
    }
   ],
   "execution_count": 34
  },
  {
   "metadata": {
    "ExecuteTime": {
     "end_time": "2024-05-05T16:08:26.907711Z",
     "start_time": "2024-05-05T16:08:26.903835Z"
    }
   },
   "cell_type": "code",
   "source": [
    "# encoding\n",
    "\n",
    "categorical_columns = data.select_dtypes(include=['object', 'category']).columns\n",
    "print(categorical_columns)"
   ],
   "id": "a639fcf9b350699a",
   "outputs": [
    {
     "name": "stdout",
     "output_type": "stream",
     "text": [
      "Index(['host_response_time', 'neighbourhood_cleansed', 'room_type', 'season'], dtype='object')\n"
     ]
    }
   ],
   "execution_count": 35
  },
  {
   "metadata": {
    "ExecuteTime": {
     "end_time": "2024-05-05T16:09:07.533534Z",
     "start_time": "2024-05-05T16:09:07.373555Z"
    }
   },
   "cell_type": "code",
   "source": [
    "# Linear Regression\n",
    "\n",
    "from sklearn.linear_model import LinearRegression\n",
    "from sklearn.model_selection import train_test_split\n",
    "from sklearn.metrics import r2_score\n",
    "from sklearn.impute import SimpleImputer\n",
    "\n",
    "# Dummy encode categorical columns\n",
    "\n",
    "dummy_df = pd.get_dummies(data, columns=categorical_columns)\n",
    "\n",
    "# Split features (X) and target variable (y)\n",
    "X = dummy_df.drop('price', axis=1)  # Features\n",
    "y = dummy_df['price']  # Target variable\n",
    "\n",
    "# Impute missing values in X\n",
    "imputer = SimpleImputer(strategy='most_frequent')  # You can use other strategies like 'median' or 'most_frequent'\n",
    "X_imputed = imputer.fit_transform(X)\n",
    "\n",
    "# Split the data into training and testing sets\n",
    "X_train, X_test, y_train, y_test = train_test_split(X_imputed, y, test_size=0.2, random_state=42)\n",
    "\n",
    "# Initialize and fit linear regression model\n",
    "linear_regressor = LinearRegression()\n",
    "linear_regressor.fit(X_train, y_train)\n",
    "\n",
    "# Predict on the testing set\n",
    "y_pred_linear = linear_regressor.predict(X_test)\n",
    "\n",
    "# Calculate R-squared score\n",
    "r2_linear = r2_score(y_test, y_pred_linear)\n",
    "print(\"R2: {:.2f}\".format(r2_linear))\n"
   ],
   "id": "f3cad0d3695814cd",
   "outputs": [
    {
     "name": "stdout",
     "output_type": "stream",
     "text": [
      "R2: 0.04\n"
     ]
    }
   ],
   "execution_count": 39
  },
  {
   "metadata": {},
   "cell_type": "code",
   "outputs": [],
   "execution_count": null,
   "source": "# ",
   "id": "fb1536e77fa9b2"
  }
 ],
 "metadata": {
  "kernelspec": {
   "display_name": "Python 3",
   "language": "python",
   "name": "python3"
  },
  "language_info": {
   "codemirror_mode": {
    "name": "ipython",
    "version": 2
   },
   "file_extension": ".py",
   "mimetype": "text/x-python",
   "name": "python",
   "nbconvert_exporter": "python",
   "pygments_lexer": "ipython2",
   "version": "2.7.6"
  }
 },
 "nbformat": 4,
 "nbformat_minor": 5
}
