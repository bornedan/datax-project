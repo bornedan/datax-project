{
 "cells": [
  {
   "cell_type": "code",
   "id": "initial_id",
   "metadata": {
    "collapsed": true,
    "ExecuteTime": {
     "end_time": "2024-05-05T21:07:02.669027Z",
     "start_time": "2024-05-05T21:07:02.661307Z"
    }
   },
   "source": [
    "import pandas as pd\n",
    "import pickle"
   ],
   "outputs": [],
   "execution_count": 35
  },
  {
   "metadata": {
    "ExecuteTime": {
     "end_time": "2024-05-05T21:12:40.465775Z",
     "start_time": "2024-05-05T21:12:40.452082Z"
    }
   },
   "cell_type": "code",
   "source": [
    "pickle_path = \"../../sandbox/filip_rott/listing_clean_price.pck\"\n",
    "\n",
    "# Load the pickle file\n",
    "with open(pickle_path, 'rb') as f:\n",
    "    data = pickle.load(f)\n",
    "\n",
    "print(data.columns)\n",
    "\n",
    "del_cols = [\"last_scraped\", \"description\", \"latitude\", \"longitude\", \"host_has_profile_pic\", \"calendar_last_scraped\", \"bathrooms\"]\n",
    "data = data.drop(del_cols, axis=1)"
   ],
   "id": "660835fea898d56e",
   "outputs": [
    {
     "name": "stdout",
     "output_type": "stream",
     "text": [
      "Index(['last_scraped', 'description', 'host_since', 'host_response_time',\n",
      "       'host_response_rate', 'host_acceptance_rate', 'host_is_superhost',\n",
      "       'host_listings_count', 'host_has_profile_pic', 'host_identity_verified',\n",
      "       'neighbourhood_cleansed', 'latitude', 'longitude', 'room_type',\n",
      "       'accommodates', 'bathrooms', 'bathrooms_text', 'bedrooms', 'beds',\n",
      "       'price', 'minimum_nights', 'maximum_nights', 'has_availability',\n",
      "       'calendar_last_scraped', 'instant_bookable', 'reviews_per_month',\n",
      "       'amenities_count', 'count_verifications', 'seasonal_availability',\n",
      "       'season', 'min_rating', 'max_rating', 'distance_from_city_centre'],\n",
      "      dtype='object')\n"
     ]
    }
   ],
   "execution_count": 87
  },
  {
   "metadata": {
    "ExecuteTime": {
     "end_time": "2024-05-05T21:12:40.975131Z",
     "start_time": "2024-05-05T21:12:40.970607Z"
    }
   },
   "cell_type": "code",
   "source": [
    "# encoding\n",
    "\n",
    "categorical_columns = data.select_dtypes(include=['object', 'category']).columns\n",
    "print(categorical_columns)"
   ],
   "id": "a639fcf9b350699a",
   "outputs": [
    {
     "name": "stdout",
     "output_type": "stream",
     "text": [
      "Index(['host_response_time', 'host_is_superhost', 'neighbourhood_cleansed',\n",
      "       'room_type', 'has_availability', 'season'],\n",
      "      dtype='object')\n"
     ]
    }
   ],
   "execution_count": 88
  },
  {
   "metadata": {
    "ExecuteTime": {
     "end_time": "2024-05-05T21:12:41.525801Z",
     "start_time": "2024-05-05T21:12:41.380395Z"
    }
   },
   "cell_type": "code",
   "source": [
    "# Linear Regression\n",
    "\n",
    "from sklearn.linear_model import LinearRegression\n",
    "from sklearn.model_selection import train_test_split\n",
    "from sklearn.metrics import r2_score\n",
    "from sklearn.impute import SimpleImputer\n",
    "\n",
    "# Dummy encode categorical columns\n",
    "\n",
    "dummy_df = pd.get_dummies(data, columns=categorical_columns)\n",
    "\n",
    "# Split features (X) and target variable (y)\n",
    "X = dummy_df.drop('price', axis=1)  # Features\n",
    "y = dummy_df['price']  # Target variable\n",
    "\n",
    "# Impute missing values in X\n",
    "imputer = SimpleImputer(strategy='most_frequent')  # You can use other strategies like 'median' or 'most_frequent'\n",
    "X_imputed = imputer.fit_transform(X)\n",
    "\n",
    "# Split the data into training and testing sets\n",
    "X_train, X_test, y_train, y_test = train_test_split(X_imputed, y, test_size=0.2, random_state=42)\n",
    "\n",
    "# Initialize and fit linear regression model\n",
    "linear_regressor = LinearRegression()\n",
    "linear_regressor.fit(X_train, y_train)\n",
    "\n",
    "# Predict on the testing set\n",
    "y_pred_linear = linear_regressor.predict(X_test)\n",
    "\n",
    "# Calculate R-squared score\n",
    "r2_linear = r2_score(y_test, y_pred_linear)\n",
    "print(\"R2: {:.2f}\".format(r2_linear))\n"
   ],
   "id": "f3cad0d3695814cd",
   "outputs": [
    {
     "name": "stdout",
     "output_type": "stream",
     "text": [
      "R2: 0.03\n"
     ]
    }
   ],
   "execution_count": 89
  },
  {
   "metadata": {
    "ExecuteTime": {
     "end_time": "2024-05-05T21:12:44.623963Z",
     "start_time": "2024-05-05T21:12:42.082771Z"
    }
   },
   "cell_type": "code",
   "source": [
    "# Catboost\n",
    "\n",
    "from catboost import CatBoostRegressor\n",
    "\n",
    "# Split features (X) and target variable (y)\n",
    "X = data.drop('price', axis=1)  # Features\n",
    "y = data['price']  # Target variable\n",
    "\n",
    "# Initialize and fit CatBoost regression model\n",
    "catboost_regressor = CatBoostRegressor(iterations=1000,  # Adjust parameters as needed\n",
    "                                       learning_rate=0.1,\n",
    "                                       depth=7,\n",
    "                                       loss_function='RMSE',\n",
    "                                       verbose=0)\n",
    "catboost_regressor.fit(X_train, y_train)\n",
    "\n",
    "# Predict on the testing set\n",
    "y_pred_catboost = catboost_regressor.predict(X_test)\n",
    "\n",
    "# Calculate R-squared score\n",
    "r2_catboost = r2_score(y_test, y_pred_catboost)\n",
    "print(\"R2 (CatBoost): {:.2f}\".format(r2_catboost))"
   ],
   "id": "fb1536e77fa9b2",
   "outputs": [
    {
     "name": "stdout",
     "output_type": "stream",
     "text": [
      "R2 (CatBoost): 0.44\n"
     ]
    }
   ],
   "execution_count": 90
  }
 ],
 "metadata": {
  "kernelspec": {
   "display_name": "Python 3",
   "language": "python",
   "name": "python3"
  },
  "language_info": {
   "codemirror_mode": {
    "name": "ipython",
    "version": 2
   },
   "file_extension": ".py",
   "mimetype": "text/x-python",
   "name": "python",
   "nbconvert_exporter": "python",
   "pygments_lexer": "ipython2",
   "version": "2.7.6"
  }
 },
 "nbformat": 4,
 "nbformat_minor": 5
}
