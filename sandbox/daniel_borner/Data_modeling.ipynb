{
 "cells": [
  {
   "cell_type": "code",
   "execution_count": 13,
   "metadata": {},
   "outputs": [],
   "source": [
    "import pandas as pd\n",
    "import pickle\n",
    "from sklearn.model_selection import train_test_split\n",
    "from sklearn.metrics import r2_score\n",
    "import numpy as np"
   ]
  },
  {
   "cell_type": "code",
   "execution_count": 11,
   "metadata": {},
   "outputs": [],
   "source": [
    "pickle_path = \"final_data.pck\"\n",
    "\n",
    "df = pd.read_pickle(pickle_path)\n",
    "\n",
    "df.dropna()\n",
    "\n",
    "categorical_features = ['host_response_time', 'neighbourhood_cleansed', 'room_type', 'season']\n",
    "df = pd.get_dummies(data, columns=categorical_features)\n",
    "X_train, X_test, y_train, y_test= train_test_split(\n",
    "    df.drop(['price'], axis = 1), #explanatory\n",
    "    df[['price']], #response\n",
    "    test_size=0.2, #hold out size\n",
    "    random_state=42\n",
    "    )"
   ]
  },
  {
   "cell_type": "code",
   "execution_count": 16,
   "metadata": {},
   "outputs": [
    {
     "name": "stdout",
     "output_type": "stream",
     "text": [
      "Fitting 3 folds for each of 216 candidates, totalling 648 fits\n",
      "Best parameters found:  {'colsample_bytree': 0.5, 'learning_rate': 0.1, 'max_depth': 10, 'n_estimators': 10, 'subsample': 1}\n",
      "Lowest RMSE found:  39762.42258549929\n",
      "36483.1496361904\n",
      "R2: 0.06\n"
     ]
    },
    {
     "name": "stderr",
     "output_type": "stream",
     "text": [
      "c:\\Data\\Python enviroments\\base\\Lib\\site-packages\\sklearn\\metrics\\_regression.py:483: FutureWarning: 'squared' is deprecated in version 1.4 and will be removed in 1.6. To calculate the root mean squared error, use the function'root_mean_squared_error'.\n",
      "  warnings.warn(\n"
     ]
    }
   ],
   "source": [
    "from sklearn.metrics import mean_squared_error\n",
    "from sklearn.model_selection import GridSearchCV\n",
    "import xgboost as xgb\n",
    "\n",
    "param_grid = {'learning_rate': [0.01,0.1,0.5], #alias eta, Step size shrinkage used in update to prevents overfitting.  \n",
    "    'n_estimators': [10, 20, 50, 100],\n",
    "    'subsample': [0.5, 0.8, 1], #Subsample ratio of the training instances\n",
    "    'max_depth': [3, 5, 10],\n",
    "    'colsample_bytree': [0.5, 1] #colsample_bytree is the subsample ratio of columns when constructing each tree. Subsampling occurs once for every tree constructed.\n",
    "    }\n",
    "\n",
    "#instantiate XGBRegressor \n",
    "gbm = xgb.XGBRegressor(seed=42, objective='reg:squarederror')\n",
    "grid_mse = GridSearchCV(estimator=gbm,\n",
    "                        param_grid=param_grid,\n",
    "                        scoring='neg_mean_squared_error', \n",
    "                        cv=3, \n",
    "                        verbose=1, \n",
    "                        n_jobs=-1)\n",
    "#fit  GridSearchCV \n",
    "grid_mse.fit(X_train, y_train)\n",
    "\n",
    "print(\"Best parameters found: \",grid_mse.best_params_) #best_params_\n",
    "print(\"Lowest RMSE found: \", np.sqrt(np.abs(grid_mse.best_score_))) #best_score_\n",
    "\n",
    "#extract the estimator best_estimator_ \n",
    "gbm_ins = grid_mse.best_estimator_ #best_estimator_\n",
    "\n",
    "# Predict the test set labels 'y_pred'\n",
    "y_pred_xgb = gbm_ins.predict(X_test)\n",
    "\n",
    "# Evaluate the test set RMSE\n",
    "rmse_test = mean_squared_error(y_test, y_pred_xgb, squared=False)\n",
    "print(rmse_test)\n",
    "\n",
    "r2_xgb = r2_score(y_test, y_pred_xgb)\n",
    "print(\"R2: {:.2f}\".format(r2_xgb))"
   ]
  },
  {
   "cell_type": "code",
   "execution_count": 18,
   "metadata": {},
   "outputs": [
    {
     "name": "stdout",
     "output_type": "stream",
     "text": [
      "Fitting 3 folds for each of 200 candidates, totalling 600 fits\n",
      "30623.927043752195\n",
      "R2: 0.34\n"
     ]
    },
    {
     "name": "stderr",
     "output_type": "stream",
     "text": [
      "c:\\Data\\Python enviroments\\base\\Lib\\site-packages\\sklearn\\metrics\\_regression.py:483: FutureWarning: 'squared' is deprecated in version 1.4 and will be removed in 1.6. To calculate the root mean squared error, use the function'root_mean_squared_error'.\n",
      "  warnings.warn(\n"
     ]
    }
   ],
   "source": [
    "\n",
    "from sklearn.model_selection import GridSearchCV\n",
    "from sklearn.ensemble import RandomForestRegressor\n",
    "\n",
    "\n",
    "hyper_grid = {'n_estimators': [100, 200, 300, 500, 1000, 2000,3000,5000],\n",
    "               'max_features': [2,4,8,9,12],\n",
    "               'min_samples_split': [5,10, 20,30, 40]}\n",
    "\n",
    "#reinstantiate RandomForestRegressor regressor with empty parameter set\n",
    "forest_model_cv = RandomForestRegressor()\n",
    "\n",
    "# Instantiate the GridSearchCV with forest_model_cv  as estimator\n",
    "forest = GridSearchCV(estimator = forest_model_cv, param_grid = hyper_grid, \n",
    "                          cv = 3, n_jobs = -1, verbose = 2)\n",
    "\n",
    "forest.fit(X_train, y_train.values.ravel()) #values.ravel() flattened array expected by RandomForestRegressor\n"
   ]
  },
  {
   "cell_type": "code",
   "execution_count": 22,
   "metadata": {},
   "outputs": [
    {
     "name": "stdout",
     "output_type": "stream",
     "text": [
      "{'max_features': 9, 'min_samples_split': 5, 'n_estimators': 200}\n",
      "30623.927043752195\n",
      "R2: 0.34\n"
     ]
    },
    {
     "name": "stderr",
     "output_type": "stream",
     "text": [
      "c:\\Data\\Python enviroments\\base\\Lib\\site-packages\\sklearn\\metrics\\_regression.py:483: FutureWarning: 'squared' is deprecated in version 1.4 and will be removed in 1.6. To calculate the root mean squared error, use the function'root_mean_squared_error'.\n",
      "  warnings.warn(\n"
     ]
    }
   ],
   "source": [
    "print(forest.best_params_)\n",
    "\n",
    "forest_model_opt= forest.best_estimator_\n",
    "y_pred_forest = forest_model_opt.predict(X_test)\n",
    "\n",
    "rmse_forest = mean_squared_error(y_test, y_pred_forest, squared=False)\n",
    "print(rmse_forest)\n",
    "\n",
    "r2_forest = r2_score(y_test, y_pred_forest)\n",
    "print(\"R2: {:.2f}\".format(r2_forest))"
   ]
  }
 ],
 "metadata": {
  "kernelspec": {
   "display_name": "base",
   "language": "python",
   "name": "python3"
  },
  "language_info": {
   "codemirror_mode": {
    "name": "ipython",
    "version": 3
   },
   "file_extension": ".py",
   "mimetype": "text/x-python",
   "name": "python",
   "nbconvert_exporter": "python",
   "pygments_lexer": "ipython3",
   "version": "3.12.1"
  }
 },
 "nbformat": 4,
 "nbformat_minor": 2
}
