{
 "cells": [
  {
   "cell_type": "code",
   "id": "initial_id",
   "metadata": {
    "collapsed": true,
    "ExecuteTime": {
     "end_time": "2024-05-07T05:22:35.248564Z",
     "start_time": "2024-05-07T05:22:34.944958Z"
    }
   },
   "source": [
    "import pandas as pd\n",
    "import pickle"
   ],
   "outputs": [],
   "execution_count": 1
  },
  {
   "metadata": {
    "ExecuteTime": {
     "end_time": "2024-05-07T05:22:41.722362Z",
     "start_time": "2024-05-07T05:22:41.710021Z"
    }
   },
   "cell_type": "code",
   "source": [
    "pickle_path = \"../../sandbox/veronika_junkova/data_for_model.pck\"\n",
    "\n",
    "# Load the pickle file\n",
    "with open(pickle_path, 'rb') as f:\n",
    "    data = pickle.load(f)\n",
    "\n",
    "print(data.columns)\n",
    "data.drop(\"reviews_per_month\", axis=1, inplace=True)\n",
    "data.drop(\"min_rating\", axis=1, inplace=True)\n",
    "data.drop(\"bedrooms\", axis=1, inplace=True)\n"
   ],
   "id": "660835fea898d56e",
   "outputs": [
    {
     "name": "stdout",
     "output_type": "stream",
     "text": [
      "Index(['host_id', 'host_response_time', 'host_response_rate',\n",
      "       'host_acceptance_rate', 'host_is_superhost', 'host_listings_count',\n",
      "       'host_has_profile_pic', 'host_identity_verified',\n",
      "       'neighbourhood_cleansed', 'room_type', 'accommodates', 'bathrooms',\n",
      "       'bathrooms_text', 'bedrooms', 'beds', 'price', 'minimum_nights',\n",
      "       'maximum_nights', 'has_availability', 'instant_bookable',\n",
      "       'reviews_per_month', 'amenities_count', 'count_verifications',\n",
      "       'seasonal_availability', 'season', 'min_rating', 'max_rating',\n",
      "       'distance_from_city_centre'],\n",
      "      dtype='object')\n"
     ]
    }
   ],
   "execution_count": 3
  },
  {
   "metadata": {
    "ExecuteTime": {
     "end_time": "2024-05-07T05:22:43.648696Z",
     "start_time": "2024-05-07T05:22:43.644811Z"
    }
   },
   "cell_type": "code",
   "source": [
    "# categorical columns\n",
    "\n",
    "categorical_columns = ['host_response_time', 'neighbourhood_cleansed', 'room_type', 'season']\n",
    "\n",
    "print(categorical_columns)"
   ],
   "id": "a639fcf9b350699a",
   "outputs": [
    {
     "name": "stdout",
     "output_type": "stream",
     "text": [
      "['host_response_time', 'neighbourhood_cleansed', 'room_type', 'season']\n"
     ]
    }
   ],
   "execution_count": 4
  },
  {
   "metadata": {
    "ExecuteTime": {
     "end_time": "2024-05-07T05:22:45.464217Z",
     "start_time": "2024-05-07T05:22:44.527275Z"
    }
   },
   "cell_type": "code",
   "source": [
    "# Linear Regression\n",
    "\n",
    "from sklearn.linear_model import LinearRegression\n",
    "from sklearn.model_selection import train_test_split\n",
    "from sklearn.metrics import r2_score\n",
    "from sklearn.impute import SimpleImputer\n",
    "\n",
    "\n",
    "dummy_df = pd.get_dummies(data, columns=categorical_columns)\n",
    "\n",
    "X = dummy_df.drop('price', axis=1)  # Features\n",
    "y = dummy_df['price']  # Target variable\n",
    "\n",
    "imputer = SimpleImputer(strategy='median')\n",
    "X_imputed = imputer.fit_transform(X)\n",
    "\n",
    "\n",
    "X_train, X_test, y_train, y_test = train_test_split(X_imputed, y, test_size=0.2, random_state=42)\n",
    "\n",
    "linear_regressor = LinearRegression()\n",
    "linear_regressor.fit(X_train, y_train)\n",
    "\n",
    "y_pred_linear = linear_regressor.predict(X_test)\n",
    "\n",
    "r2_linear = r2_score(y_test, y_pred_linear)\n",
    "print(\"R2: {:.2f}\".format(r2_linear))\n"
   ],
   "id": "f3cad0d3695814cd",
   "outputs": [
    {
     "name": "stdout",
     "output_type": "stream",
     "text": [
      "R2: 0.02\n"
     ]
    }
   ],
   "execution_count": 5
  },
  {
   "metadata": {
    "ExecuteTime": {
     "end_time": "2024-05-07T05:26:49.399373Z",
     "start_time": "2024-05-07T05:26:47.089008Z"
    }
   },
   "cell_type": "code",
   "source": [
    "# Catboost\n",
    "\n",
    "from catboost import CatBoostRegressor\n",
    "\n",
    "X = data.drop('price', axis=1) \n",
    "y = data['price']\n",
    "\n",
    "catboost_regressor = CatBoostRegressor(iterations=1000,\n",
    "                                       learning_rate=0.1,\n",
    "                                       depth=7,\n",
    "                                       loss_function='RMSE',\n",
    "                                       verbose=0)\n",
    "catboost_regressor.fit(X_train, y_train)\n",
    "\n",
    "y_pred_catboost = catboost_regressor.predict(X_test)\n",
    "\n",
    "# Calculate R-squared score\n",
    "r2_catboost = r2_score(y_test, y_pred_catboost)\n",
    "print(\"R2 (CatBoost): {:.2f}\".format(r2_catboost))"
   ],
   "id": "fb1536e77fa9b2",
   "outputs": [
    {
     "name": "stdout",
     "output_type": "stream",
     "text": [
      "R2 (CatBoost): 0.67\n"
     ]
    }
   ],
   "execution_count": 7
  },
  {
   "metadata": {
    "ExecuteTime": {
     "end_time": "2024-05-07T05:28:31.117001Z",
     "start_time": "2024-05-07T05:28:03.770305Z"
    }
   },
   "cell_type": "code",
   "source": [
    "from sklearn.model_selection import GridSearchCV\n",
    "from sklearn.ensemble import RandomForestRegressor\n",
    "\n",
    "dummy_df = pd.get_dummies(data, columns=categorical_columns)\n",
    "\n",
    "# Split features (X) and target variable (y)\n",
    "X = dummy_df.drop('price', axis=1)  # Features\n",
    "y = dummy_df['price']  # Target variable\n",
    "\n",
    "# Impute missing values in X\n",
    "imputer = SimpleImputer(strategy='median')\n",
    "X_imputed = imputer.fit_transform(X)\n",
    "\n",
    "# Split the data into training and testing sets\n",
    "X_train, X_test, y_train, y_test = train_test_split(X_imputed, y, test_size=0.2, random_state=42)\n",
    "\n",
    "hyper_grid = {'n_estimators': [100, 200, 300, 500],\n",
    "               'max_features': [4,8,9],\n",
    "               'min_samples_split': [5,10, 20]}\n",
    "\n",
    "#reinstantiate RandomForestRegressor regressor with empty parameter set\n",
    "forest_model_cv = RandomForestRegressor()\n",
    "\n",
    "# Instantiate the GridSearchCV with forest_model_cv  as estimator\n",
    "forest = GridSearchCV(estimator = forest_model_cv, param_grid = hyper_grid, \n",
    "                          cv = 3, n_jobs = -1, verbose = 2)\n",
    "\n",
    "forest.fit(X_train, y_train.values.ravel()) #values.ravel() flattened array expected by RandomForestRegressor\n",
    "\n",
    "print(forest.best_params_)\n",
    "\n",
    "forest_model_opt= forest.best_estimator_\n",
    "y_pred_forest = forest_model_opt.predict(X_test)\n",
    "\n",
    "\n",
    "r2_forest = r2_score(y_test, y_pred_forest)\n",
    "print(\"R2: {:.2f}\".format(r2_forest))"
   ],
   "id": "21a78bee3e85e185",
   "outputs": [
    {
     "name": "stdout",
     "output_type": "stream",
     "text": [
      "Fitting 3 folds for each of 36 candidates, totalling 108 fits\n",
      "{'max_features': 9, 'min_samples_split': 5, 'n_estimators': 200}\n",
      "R2: 0.45\n"
     ]
    }
   ],
   "execution_count": 10
  },
  {
   "metadata": {},
   "cell_type": "code",
   "outputs": [],
   "execution_count": null,
   "source": "",
   "id": "a82f88bd3ac12e94"
  }
 ],
 "metadata": {
  "kernelspec": {
   "display_name": "Python 3",
   "language": "python",
   "name": "python3"
  },
  "language_info": {
   "codemirror_mode": {
    "name": "ipython",
    "version": 2
   },
   "file_extension": ".py",
   "mimetype": "text/x-python",
   "name": "python",
   "nbconvert_exporter": "python",
   "pygments_lexer": "ipython2",
   "version": "2.7.6"
  }
 },
 "nbformat": 4,
 "nbformat_minor": 5
}
