{
 "cells": [
  {
   "cell_type": "code",
   "execution_count": null,
   "metadata": {
    "ExecuteTime": {
     "end_time": "2024-05-21T14:33:30.940172Z",
     "start_time": "2024-05-21T14:33:30.871757Z"
    }
   },
   "outputs": [],
   "source": [
    "import pickle\n",
    "import pandas as pd\n",
    "from sklearn.model_selection import train_test_split, GridSearchCV\n",
    "from sklearn.preprocessing import LabelEncoder, StandardScaler\n",
    "from sklearn.linear_model import LinearRegression\n",
    "from sklearn.ensemble import RandomForestRegressor\n",
    "from catboost import CatBoostRegressor\n",
    "from sklearn.impute import SimpleImputer\n",
    "from sklearn.metrics import mean_squared_error, r2_score\n",
    "from sklearn.inspection import permutation_importance\n",
    "import matplotlib.pyplot as plt\n",
    "import catboost as cb\n",
    "import numpy as np\n",
    "import xgboost as xgb\n",
    "from sklearn.preprocessing import StandardScaler\n",
    "from sklearn.pipeline import Pipeline\n",
    "from scipy.stats import uniform, randint\n",
    "import warnings"
   ]
  },
  {
   "cell_type": "code",
   "execution_count": null,
   "metadata": {
    "ExecuteTime": {
     "end_time": "2024-05-21T14:33:31.308316Z",
     "start_time": "2024-05-21T14:33:31.303087Z"
    }
   },
   "outputs": [],
   "source": [
    "#Define random seed for result reproduction\n",
    "random_seed = 30\n",
    "np.random.seed(random_seed)"
   ]
  },
  {
   "cell_type": "code",
   "execution_count": 4,
   "metadata": {
    "ExecuteTime": {
     "end_time": "2024-05-21T14:33:31.879756Z",
     "start_time": "2024-05-21T14:33:31.865802Z"
    }
   },
   "outputs": [],
   "source": [
    "# Load the pickle file\n",
    "pickle_path = \"../data/processed/final_data.pck\"\n",
    "\n",
    "with open(pickle_path, 'rb') as f:\n",
    "    data = pickle.load(f)\n",
    "    \n",
    "warnings.filterwarnings('ignore')"
   ]
  },
  {
   "cell_type": "code",
   "execution_count": null,
   "metadata": {
    "ExecuteTime": {
     "end_time": "2024-05-21T14:33:32.674489Z",
     "start_time": "2024-05-21T14:33:32.626218Z"
    }
   },
   "outputs": [],
   "source": [
    "# separate features and target variable\n",
    "X = df.drop(target, axis=1)\n",
    "y = df[target]\n",
    "\n",
    "# remove columns with any missing values\n",
    "X = X.dropna(axis=1, how='any')\n",
    "\n",
    "# one hot encode categorical variables\n",
    "X = pd.get_dummies(X, drop_first=True)\n",
    "\n",
    "# split data into training and testing sets\n",
    "X_train, X_test, y_train, y_test = train_test_split(X, y, test_size=0.2, random_state=random_seed)"
   ]
  },
  {
   "cell_type": "markdown",
   "metadata": {},
   "source": [
    "Linear regression"
   ]
  },
  {
   "cell_type": "code",
   "execution_count": null,
   "metadata": {
    "ExecuteTime": {
     "end_time": "2024-05-21T14:33:38.492651Z",
     "start_time": "2024-05-21T14:33:38.409010Z"
    }
   },
   "outputs": [],
   "source": [
    "# Modeling\n",
    "linear_regressor = LinearRegression()\n",
    "linear_regressor.fit(X_train, y_train)\n",
    "\n",
    "y_pred = linear_regressor.predict(X_test)\n",
    "\n",
    "rmse_lr = np.sqrt(mean_squared_error(y_test, y_pred))\n",
    "r2_lr = r2_score(y_test, y_pred)\n",
    "\n",
    "print(\"Linear regression results\")\n",
    "print(f\"RMSE: {rmse_lr}\")\n",
    "print(f\"R^2: {r2_lr}\")"
   ]
  },
  {
   "cell_type": "markdown",
   "metadata": {},
   "source": [
    "Random forest"
   ]
  },
  {
   "cell_type": "code",
   "execution_count": null,
   "metadata": {
    "ExecuteTime": {
     "end_time": "2024-05-21T14:33:48.822528Z",
     "start_time": "2024-05-21T14:33:46.524419Z"
    }
   },
   "outputs": [],
   "source": [
    "# Random Forest model\n",
    "rf = RandomForestRegressor(n_estimators=100, random_state=random_seed)\n",
    "rf.fit(X_train, y_train)\n",
    "\n",
    "# predictions for the test set\n",
    "y_pred_rf = rf.predict(X_test)\n",
    "\n",
    "# calculating r2 for random forest\n",
    "rmse_rf = np.sqrt(mean_squared_error(y_test, y_pred_rf))\n",
    "r2_rf = r2_score(y_test, y_pred_rf)\n",
    "\n",
    "print(\"Random Forest results\")\n",
    "print(f\"RMSE: {rmse_rf}\")\n",
    "print(f\"R^2: {r2_rf}\")"
   ]
  },
  {
   "cell_type": "markdown",
   "metadata": {},
   "source": [
    "Optimalized random forest"
   ]
  },
  {
   "cell_type": "code",
   "execution_count": null,
   "metadata": {
    "ExecuteTime": {
     "end_time": "2024-05-21T14:35:22.421994Z",
     "start_time": "2024-05-21T14:33:59.739873Z"
    }
   },
   "outputs": [],
   "source": [
    "# RandomForestRegressor\n",
    "orf_regressor = RandomForestRegressor(random_state=random_seed, n_jobs=-1)\n",
    "\n",
    "\n",
    "param_grid_orf = {\n",
    "    'n_estimators': [200, 300, 500],\n",
    "    'max_features': [4,6],\n",
    "    'min_samples_split': [3,10],\n",
    "    'bootstrap': [True, False]\n",
    "}\n",
    "\n",
    "# GridSearchCV\n",
    "grid_search_orf = GridSearchCV(estimator=orf_regressor, param_grid=param_grid_orf, scoring='neg_mean_squared_error', cv=5, verbose=1, n_jobs=-1)\n",
    "\n",
    "# Training model\n",
    "grid_search_orf.fit(X_train, y_train)\n",
    "\n",
    "# Best parametres\n",
    "best_params_orf = grid_search_orf.best_params_\n",
    "print(f\"Best params: {best_params_orf}\")\n",
    "\n",
    "# Best model\n",
    "best_model_orf = grid_search_orf.best_estimator_\n",
    "\n",
    "# Prediction with best model\n",
    "predictions_orf = best_model_orf.predict(X_test)\n",
    "\n",
    "# Model evaluation\n",
    "rmse_orf = np.sqrt(mean_squared_error(y_test, predictions_orf))\n",
    "r2_orf = r2_score(y_test, predictions_orf)\n",
    "\n",
    "print(\"Optimized Random Forest results\")\n",
    "print(f\"RMSE: {rmse_orf}\")\n",
    "print(f\"R^2: {r2_orf}\")"
   ]
  },
  {
   "cell_type": "code",
   "execution_count": null,
   "metadata": {
    "ExecuteTime": {
     "end_time": "2024-05-21T14:35:22.914310Z",
     "start_time": "2024-05-21T14:35:22.427464Z"
    }
   },
   "outputs": [],
   "source": [
    "# Feature importance\n",
    "importances = rf.feature_importances_\n",
    "feature_importances = pd.DataFrame({'Feature': X.columns, 'Importance': importances})\n",
    "feature_importances = feature_importances.sort_values(by='Importance', ascending=False)\n",
    "\n",
    "# Plotting\n",
    "plt.figure(figsize=(10, 8))\n",
    "plt.barh(feature_importances['Feature'], feature_importances['Importance'])\n",
    "plt.xlabel('Importance')\n",
    "plt.ylabel('Feature')\n",
    "plt.title('Feature Importance')\n",
    "plt.gca().invert_yaxis()\n",
    "plt.show()\n",
    "\n",
    "feature_importances.head(10)"
   ]
  },
  {
   "cell_type": "markdown",
   "metadata": {},
   "source": [
    "XGBoost"
   ]
  },
  {
   "cell_type": "code",
   "execution_count": null,
   "metadata": {
    "ExecuteTime": {
     "end_time": "2024-05-21T14:35:23.352968Z",
     "start_time": "2024-05-21T14:35:22.914950Z"
    }
   },
   "outputs": [],
   "source": [
    "xgb1_regressor = xgb.XGBRegressor(objective ='reg:squarederror', n_estimators=100, random_state=random_seed)\n",
    "xgb1_regressor.fit(X_train, y_train)\n",
    "y_pred_xgb1 = xgb1_regressor.predict(X_test)\n",
    "\n",
    "rmse_xgb1 = np.sqrt(mean_squared_error(y_test, y_pred_xgb1))\n",
    "r2_xgb1 = r2_score(y_test, y_pred_xgb1)\n",
    "\n",
    "print(\"XGBoost results\")\n",
    "print(f\"RMSE: {rmse_xgb1}\")\n",
    "print(\"R2: {:.2f}\".format(r2_xgb1))"
   ]
  },
  {
   "cell_type": "markdown",
   "metadata": {},
   "source": [
    "Optimized XGBoost"
   ]
  },
  {
   "cell_type": "code",
   "execution_count": null,
   "metadata": {
    "ExecuteTime": {
     "end_time": "2024-05-21T14:35:34.301196Z",
     "start_time": "2024-05-21T14:35:23.355541Z"
    }
   },
   "outputs": [],
   "source": [
    "# Custom XGBoost wrapper to include early stopping\n",
    "class XGBRegressorEarlyStopping(xgb.XGBRegressor):\n",
    "    def __init__(self, early_stopping_rounds=10, **kwargs):\n",
    "        super().__init__(**kwargs)\n",
    "        self.early_stopping_rounds = early_stopping_rounds\n",
    "\n",
    "    def fit(self, X, y, eval_set=None, **kwargs):\n",
    "        if eval_set is None:\n",
    "            eval_set = [(X, y)]\n",
    "        return super().fit(X, y, eval_set=eval_set, **kwargs)\n",
    "\n",
    "# Pipeline with scaling and model\n",
    "pipeline = Pipeline([\n",
    "    ('scaler', StandardScaler()),\n",
    "    ('xgb', XGBRegressorEarlyStopping(objective='reg:squarederror', random_state=random_seed, early_stopping_rounds=10))\n",
    "])\n",
    "\n",
    "# Parameter distribution for randomized search\n",
    "param_dist = {\n",
    "    'xgb__n_estimators': randint(50, 200),\n",
    "    'xgb__learning_rate': uniform(0.01, 0.3),\n",
    "    'xgb__max_depth': randint(3, 10),\n",
    "    'xgb__min_child_weight': randint(1, 6),\n",
    "    'xgb__subsample': uniform(0.5, 0.5),\n",
    "    'xgb__colsample_bytree': uniform(0.5, 0.5),\n",
    "    'xgb__gamma': uniform(0, 0.4),\n",
    "    'xgb__reg_alpha': uniform(0, 1),\n",
    "    'xgb__reg_lambda': uniform(0.5, 2)\n",
    "}\n",
    "\n",
    "# Randomized search\n",
    "random_search = RandomizedSearchCV(estimator=pipeline, param_distributions=param_dist, n_iter=50, \n",
    "                                   cv=3, n_jobs=-1, verbose=2, scoring='r2', random_state=random_seed)\n",
    "random_search.fit(X_train, y_train)\n",
    "\n",
    "# Best model\n",
    "best_pipeline = random_search.best_estimator_\n",
    "\n",
    "# Predictions and evaluation\n",
    "y_pred_xgb = best_pipeline.predict(X_test)\n",
    "r2_xgb = r2_score(y_test, y_pred_xgb)\n",
    "rmse_xgb = np.sqrt(mean_squared_error(y_test, y_pred_xgb))\n",
    "\n",
    "print(\"Best R2: {:.2f}\".format(r2_xgb))\n",
    "print(\"Best RMSE: {:.2f}\".format(rmse_xgb))\n",
    "print(\"Best Parameters: \", random_search.best_params_)\n"
   ]
  },
  {
   "cell_type": "markdown",
   "metadata": {},
   "source": [
    "Catboost"
   ]
  },
  {
   "cell_type": "code",
   "execution_count": null,
   "metadata": {
    "ExecuteTime": {
     "end_time": "2024-05-21T14:37:47.885127Z",
     "start_time": "2024-05-21T14:35:34.310256Z"
    }
   },
   "outputs": [],
   "source": [
    "# CatBoostRegressor\n",
    "cb_regressor = cb.CatBoostRegressor(random_seed=random_seed, silent=True)\n",
    "\n",
    "# RandomizedSearch parameters\n",
    "param_distributions_cb = {\n",
    "    'iterations': [500, 1000, 1500],\n",
    "    'depth': [4, 6, 8, 10],\n",
    "    'learning_rate': [0.01, 0.05, 0.1, 0.2],\n",
    "    'l2_leaf_reg': [1, 3, 5, 7, 9],\n",
    "    'bootstrap_type': ['Bayesian', 'Bernoulli', 'MVS'],\n",
    "    'subsample': [0.8, 0.9, 1.0],\n",
    "    'colsample_bylevel': [0.8, 0.9, 1.0]\n",
    "}\n",
    "\n",
    "# RandomizedSearchCV\n",
    "random_search_cb = RandomizedSearchCV(\n",
    "    estimator=cb_regressor,\n",
    "    param_distributions=param_distributions_cb,\n",
    "    n_iter=50,\n",
    "    scoring='neg_mean_squared_error',\n",
    "    cv=3,\n",
    "    verbose=1,\n",
    "    n_jobs=-1,\n",
    "    random_state=random_seed\n",
    ")\n",
    "\n",
    "random_search_cb.fit(X_train, y_train)\n",
    "\n",
    "# Best params\n",
    "best_params_cb = random_search_cb.best_params_\n",
    "print(f\"Best params: {best_params_cb}\")\n",
    "\n",
    "# Best model\n",
    "best_model_cb = random_search_cb.best_estimator_\n",
    "\n",
    "# Prediction\n",
    "predictions_cb = best_model_cb.predict(X_test)\n",
    "\n",
    "# Model evaluation\n",
    "rmse_cb = np.sqrt(mean_squared_error(y_test, predictions_cb))\n",
    "r2_cb = r2_score(y_test, predictions_cb)\n",
    "\n",
    "print(\"CatBoost results\")\n",
    "print(f\"RMSE: {rmse_cb}\")\n",
    "print(f\"R^2: {r2_cb}\")"
   ]
  },
  {
   "cell_type": "code",
   "execution_count": null,
   "metadata": {
    "ExecuteTime": {
     "end_time": "2024-05-21T14:42:31.076122Z",
     "start_time": "2024-05-21T14:42:31.043826Z"
    }
   },
   "outputs": [],
   "source": [
    "# Model comparison\n",
    "results = pd.DataFrame({\n",
    "    'Model': ['Linear Regression', 'Random Forest', \"Optimized Random Forest\", 'CatBoost', 'XGBoost', \"Optimized XGBoost\"],\n",
    "    'RMSE': [rmse_lr, rmse_rf, rmse_orf, rmse_cb, rmse_xgb1 , rmse_xgb],\n",
    "    'R²': [r2_lr, r2_rf, r2_orf , r2_cb, r2_xgb1 , r2_xgb]\n",
    "})\n",
    "\n",
    "print(results)"
   ]
  },
  {
   "cell_type": "code",
   "execution_count": null,
   "metadata": {
    "ExecuteTime": {
     "end_time": "2024-05-21T14:52:42.724192Z",
     "start_time": "2024-05-21T14:52:42.451064Z"
    }
   },
   "outputs": [],
   "source": [
    "# Determine the best RMSE and R²\n",
    "best_rmse_index = results['RMSE'].idxmin()\n",
    "best_r2_index = results['R²'].idxmax()\n",
    "\n",
    "# RMSE\n",
    "plt.figure(figsize=(10, 6))\n",
    "bars = plt.bar(results['Model'], results['RMSE'], color='skyblue')\n",
    "bars[best_rmse_index].set_color('red')\n",
    "plt.title('Model Comparison: RMSE')\n",
    "plt.xlabel('Model')\n",
    "plt.ylabel('RMSE')\n",
    "plt.xticks(rotation=45, ha='right')\n",
    "plt.tight_layout()\n",
    "plt.show()\n",
    "\n",
    "# R²\n",
    "plt.figure(figsize=(10, 6))\n",
    "bars = plt.bar(results['Model'], results['R²'], color='skyblue')\n",
    "bars[best_r2_index].set_color('red')\n",
    "plt.title('Model Comparison: R²')\n",
    "plt.xlabel('Model')\n",
    "plt.ylabel('R²')\n",
    "plt.xticks(rotation=45, ha='right')\n",
    "plt.tight_layout()\n",
    "plt.show()"
   ]
  },
  {
   "cell_type": "code",
   "execution_count": null,
   "metadata": {},
   "outputs": [],
   "source": []
  }
 ],
 "metadata": {
  "kernelspec": {
   "display_name": "Python 3",
   "language": "python",
   "name": "python3"
  },
  "language_info": {
   "codemirror_mode": {
    "name": "ipython",
    "version": 3
   },
   "file_extension": ".py",
   "mimetype": "text/x-python",
   "name": "python",
   "nbconvert_exporter": "python",
   "pygments_lexer": "ipython3",
   "version": "3.12.1"
  }
 },
 "nbformat": 4,
 "nbformat_minor": 2
}
